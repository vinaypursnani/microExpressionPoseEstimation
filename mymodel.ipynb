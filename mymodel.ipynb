{
 "cells": [
  {
   "cell_type": "markdown",
   "id": "f21537ed",
   "metadata": {},
   "source": [
    "0. Install and Import Dependencies "
   ]
  },
  {
   "cell_type": "code",
   "execution_count": 3,
   "id": "e4c2c627",
   "metadata": {},
   "outputs": [
    {
     "name": "stdout",
     "output_type": "stream",
     "text": [
      "Collecting mediapipe\n",
      "  Using cached mediapipe-0.8.9.1-cp310-cp310-win_amd64.whl (48.5 MB)\n",
      "Requirement already satisfied: opencv-python in c:\\python310\\lib\\site-packages (4.5.4.58)\n",
      "Requirement already satisfied: pandas in c:\\python310\\lib\\site-packages (1.3.4)\n",
      "Collecting scikit-learn\n",
      "  Using cached scikit_learn-1.0.1-cp310-cp310-win_amd64.whl\n",
      "Collecting absl-py\n",
      "  Using cached absl_py-1.0.0-py3-none-any.whl (126 kB)\n",
      "Collecting matplotlib\n",
      "  Using cached matplotlib-3.5.1-cp310-cp310-win_amd64.whl (7.2 MB)\n",
      "Requirement already satisfied: numpy in c:\\python310\\lib\\site-packages (from mediapipe) (1.21.4)\n",
      "Collecting opencv-contrib-python\n",
      "  Using cached opencv_contrib_python-4.5.4.60-cp310-cp310-win_amd64.whl (42.0 MB)\n",
      "Requirement already satisfied: attrs>=19.1.0 in c:\\python310\\lib\\site-packages (from mediapipe) (21.2.0)\n",
      "Requirement already satisfied: protobuf>=3.11.4 in c:\\python310\\lib\\site-packages (from mediapipe) (3.19.1)\n",
      "Requirement already satisfied: python-dateutil>=2.7.3 in c:\\python310\\lib\\site-packages (from pandas) (2.8.2)\n",
      "Requirement already satisfied: pytz>=2017.3 in c:\\python310\\lib\\site-packages (from pandas) (2021.3)\n",
      "Collecting threadpoolctl>=2.0.0\n",
      "  Using cached threadpoolctl-3.0.0-py3-none-any.whl (14 kB)\n",
      "Collecting joblib>=0.11\n",
      "  Using cached joblib-1.1.0-py2.py3-none-any.whl (306 kB)\n",
      "Collecting scipy>=1.1.0\n",
      "  Using cached scipy-1.7.3-cp310-cp310-win_amd64.whl (34.3 MB)\n",
      "Requirement already satisfied: six>=1.5 in c:\\python310\\lib\\site-packages (from python-dateutil>=2.7.3->pandas) (1.16.0)\n",
      "Requirement already satisfied: pillow>=6.2.0 in c:\\python310\\lib\\site-packages (from matplotlib->mediapipe) (8.4.0)\n",
      "Requirement already satisfied: kiwisolver>=1.0.1 in c:\\python310\\lib\\site-packages (from matplotlib->mediapipe) (1.3.2)\n",
      "Collecting cycler>=0.10\n",
      "  Using cached cycler-0.11.0-py3-none-any.whl (6.4 kB)\n",
      "Requirement already satisfied: fonttools>=4.22.0 in c:\\python310\\lib\\site-packages (from matplotlib->mediapipe) (4.28.3)\n",
      "Requirement already satisfied: pyparsing>=2.2.1 in c:\\python310\\lib\\site-packages (from matplotlib->mediapipe) (2.4.7)\n",
      "Requirement already satisfied: packaging>=20.0 in c:\\python310\\lib\\site-packages (from matplotlib->mediapipe) (21.2)\n",
      "Installing collected packages: cycler, threadpoolctl, scipy, opencv-contrib-python, matplotlib, joblib, absl-py, scikit-learn, mediapipe\n",
      "Successfully installed absl-py-1.0.0 cycler-0.11.0 joblib-1.1.0 matplotlib-3.5.1 mediapipe-0.8.9.1 opencv-contrib-python-4.5.4.60 scikit-learn-1.0.1 scipy-1.7.3 threadpoolctl-3.0.0\n"
     ]
    }
   ],
   "source": [
    "!pip install --user mediapipe opencv-python pandas scikit-learn"
   ]
  },
  {
   "cell_type": "code",
   "execution_count": 5,
   "id": "745f0aee",
   "metadata": {},
   "outputs": [
    {
     "name": "stdout",
     "output_type": "stream",
     "text": [
      "Requirement already satisfied: opencv-python in c:\\programdata\\anaconda3\\lib\\site-packages (4.5.3.56)\n",
      "Requirement already satisfied: numpy>=1.17.3 in c:\\users\\vinay\\appdata\\roaming\\python\\python38\\site-packages (from opencv-python) (1.18.5)\n"
     ]
    }
   ],
   "source": [
    "!pip install opencv-python"
   ]
  },
  {
   "cell_type": "code",
   "execution_count": 4,
   "id": "ba8c23b8",
   "metadata": {},
   "outputs": [],
   "source": [
    "import mediapipe as mp\n",
    "import cv2"
   ]
  },
  {
   "cell_type": "code",
   "execution_count": 80,
   "id": "60c00cc9",
   "metadata": {},
   "outputs": [
    {
     "name": "stdout",
     "output_type": "stream",
     "text": [
      "<class 'module'>\n"
     ]
    }
   ],
   "source": [
    "mp_drawing = mp.solutions.drawing_utils\n",
    "mp_holistic = mp.solutions.holistic\n",
    "print(type(mp_drawing))"
   ]
  },
  {
   "cell_type": "markdown",
   "id": "162e4120",
   "metadata": {},
   "source": [
    "1. Making some detections"
   ]
  },
  {
   "cell_type": "code",
   "execution_count": 81,
   "id": "0faed9a0",
   "metadata": {},
   "outputs": [
    {
     "name": "stdout",
     "output_type": "stream",
     "text": [
      "<class 'mediapipe.framework.formats.landmark_pb2.NormalizedLandmarkList'>\n",
      "<class 'mediapipe.framework.formats.landmark_pb2.NormalizedLandmarkList'>\n",
      "<class 'mediapipe.framework.formats.landmark_pb2.NormalizedLandmarkList'>\n",
      "<class 'mediapipe.framework.formats.landmark_pb2.NormalizedLandmarkList'>\n",
      "<class 'mediapipe.framework.formats.landmark_pb2.NormalizedLandmarkList'>\n",
      "<class 'mediapipe.framework.formats.landmark_pb2.NormalizedLandmarkList'>\n",
      "<class 'mediapipe.framework.formats.landmark_pb2.NormalizedLandmarkList'>\n",
      "<class 'mediapipe.framework.formats.landmark_pb2.NormalizedLandmarkList'>\n",
      "<class 'mediapipe.framework.formats.landmark_pb2.NormalizedLandmarkList'>\n",
      "<class 'mediapipe.framework.formats.landmark_pb2.NormalizedLandmarkList'>\n",
      "<class 'mediapipe.framework.formats.landmark_pb2.NormalizedLandmarkList'>\n",
      "<class 'mediapipe.framework.formats.landmark_pb2.NormalizedLandmarkList'>\n",
      "<class 'mediapipe.framework.formats.landmark_pb2.NormalizedLandmarkList'>\n",
      "<class 'mediapipe.framework.formats.landmark_pb2.NormalizedLandmarkList'>\n",
      "<class 'mediapipe.framework.formats.landmark_pb2.NormalizedLandmarkList'>\n",
      "<class 'mediapipe.framework.formats.landmark_pb2.NormalizedLandmarkList'>\n"
     ]
    }
   ],
   "source": [
    "cap = cv2.VideoCapture(0)\n",
    "# Initiate holistic model\n",
    "with mp_holistic.Holistic(min_detection_confidence=0.5, min_tracking_confidence=0.5) as holistic:\n",
    "    \n",
    "    while cap.isOpened():\n",
    "        ret, frame = cap.read()\n",
    "#         print(type(ret))\n",
    "#         print(type(frame))\n",
    "        \n",
    "        # Recolor Feed\n",
    "        image = cv2.cvtColor(frame, cv2.COLOR_BGR2RGB)\n",
    "        image.flags.writeable = False        \n",
    "        \n",
    "        # Make Detections\n",
    "        results = holistic.process(image)\n",
    "        print(type(results.face_landmarks))\n",
    "        # print(results.face_landmarks)\n",
    "        \n",
    "        # face_landmarks, pose_landmarks, left_hand_landmarks, right_hand_landmarks\n",
    "        \n",
    "        # Recolor image back to BGR for rendering\n",
    "        image.flags.writeable = True   \n",
    "        image = cv2.cvtColor(image, cv2.COLOR_RGB2BGR)\n",
    "        \n",
    "        # 1. Draw face landmarks\n",
    "        mp_drawing.draw_landmarks(image, results.face_landmarks, mp_holistic.FACEMESH_CONTOURS, \n",
    "                                 mp_drawing.DrawingSpec(color=(80,110,10), thickness=1, circle_radius=1),\n",
    "                                 mp_drawing.DrawingSpec(color=(80,256,121), thickness=1, circle_radius=1)\n",
    "                                 )\n",
    "        \n",
    "        # 2. Right hand\n",
    "        mp_drawing.draw_landmarks(image, results.right_hand_landmarks, mp_holistic.HAND_CONNECTIONS, \n",
    "                                 mp_drawing.DrawingSpec(color=(80,22,10), thickness=2, circle_radius=4),\n",
    "                                 mp_drawing.DrawingSpec(color=(80,44,121), thickness=2, circle_radius=2)\n",
    "                                 )\n",
    "\n",
    "        # 3. Left Hand\n",
    "        mp_drawing.draw_landmarks(image, results.left_hand_landmarks, mp_holistic.HAND_CONNECTIONS, \n",
    "                                 mp_drawing.DrawingSpec(color=(121,22,76), thickness=2, circle_radius=4),\n",
    "                                 mp_drawing.DrawingSpec(color=(121,44,250), thickness=2, circle_radius=2)\n",
    "                                 )\n",
    "\n",
    "        # 4. Pose Detections\n",
    "        mp_drawing.draw_landmarks(image, results.pose_landmarks, mp_holistic.POSE_CONNECTIONS, \n",
    "                                 mp_drawing.DrawingSpec(color=(245,117,66), thickness=2, circle_radius=4),\n",
    "                                 mp_drawing.DrawingSpec(color=(245,66,230), thickness=2, circle_radius=2)\n",
    "                                 )\n",
    "                        \n",
    "        cv2.imshow('Raw Webcam Feed', image)\n",
    "        if cv2.waitKey(10) & 0xFF == ord('q'):\n",
    "            break\n",
    "\n",
    "cap.release()\n",
    "cv2.destroyAllWindows()"
   ]
  },
  {
   "cell_type": "code",
   "execution_count": 82,
   "id": "38607055",
   "metadata": {},
   "outputs": [
    {
     "data": {
      "text/plain": [
       "0.9997382760047913"
      ]
     },
     "execution_count": 82,
     "metadata": {},
     "output_type": "execute_result"
    }
   ],
   "source": [
    "results.pose_landmarks.landmark[0].visibility\n",
    "# 0 to 1 for pose_landmark 0 for pose_landmark as default"
   ]
  },
  {
   "cell_type": "markdown",
   "id": "03826401",
   "metadata": {},
   "source": [
    "2. Capture Landmarks and export to CSV"
   ]
  },
  {
   "cell_type": "code",
   "execution_count": 83,
   "id": "cc94650a",
   "metadata": {},
   "outputs": [],
   "source": [
    "import csv\n",
    "import os\n",
    "import numpy as np"
   ]
  },
  {
   "cell_type": "code",
   "execution_count": 84,
   "id": "0995ecbc",
   "metadata": {},
   "outputs": [
    {
     "data": {
      "text/plain": [
       "501"
      ]
     },
     "execution_count": 84,
     "metadata": {},
     "output_type": "execute_result"
    }
   ],
   "source": [
    "num_coords = len(results.face_landmarks.landmark)+len(results.pose_landmarks.landmark)\n",
    "num_coords"
   ]
  },
  {
   "cell_type": "code",
   "execution_count": 85,
   "id": "cb2a71e2",
   "metadata": {},
   "outputs": [],
   "source": [
    "landmarks = ['class']\n",
    "for val in range(1, num_coords+1):\n",
    "    landmarks += ['x{}'.format(val), 'y{}'.format(val), 'z{}'.format(val), 'v{}'.format(val)]\n",
    "# landmarks"
   ]
  },
  {
   "cell_type": "code",
   "execution_count": 9,
   "id": "6de9cf98",
   "metadata": {},
   "outputs": [],
   "source": [
    "with open('coords.csv', mode='w',newline='') as f:\n",
    "    csv_writer = csv.writer(f, delimiter=',', quotechar='\"',quoting=csv.QUOTE_MINIMAL)\n",
    "    csv_writer.writerow(landmarks)"
   ]
  },
  {
   "cell_type": "code",
   "execution_count": 34,
   "id": "4b901459",
   "metadata": {},
   "outputs": [],
   "source": [
    "class_name = 'nervous'"
   ]
  },
  {
   "cell_type": "code",
   "execution_count": 35,
   "id": "217279dc",
   "metadata": {},
   "outputs": [],
   "source": [
    "cap = cv2.VideoCapture(0)\n",
    "# Initiate holistic model\n",
    "with mp_holistic.Holistic(min_detection_confidence=0.5, min_tracking_confidence=0.5) as holistic:\n",
    "    \n",
    "    while cap.isOpened():\n",
    "        ret, frame = cap.read()   \n",
    "        # Recolor Feed\n",
    "        image = cv2.cvtColor(frame, cv2.COLOR_BGR2RGB)\n",
    "        image.flags.writeable = False        \n",
    "\n",
    "        # Make Detections\n",
    "        results = holistic.process(image)\n",
    "        # print(results.face_landmarks)\n",
    "        \n",
    "        # face_landmarks, pose_landmarks, left_hand_landmarks, right_hand_landmarks\n",
    "        \n",
    "        image.flags.writeable = True   \n",
    "        image = cv2.cvtColor(image, cv2.COLOR_RGB2BGR)\n",
    "        \n",
    "        # 1. Draw face landmarks\n",
    "        mp_drawing.draw_landmarks(image, results.face_landmarks, mp_holistic.FACEMESH_CONTOURS, \n",
    "                                 mp_drawing.DrawingSpec(color=(80,110,10), thickness=1, circle_radius=1),\n",
    "                                 mp_drawing.DrawingSpec(color=(80,256,121), thickness=1, circle_radius=1)\n",
    "                                 )\n",
    "        \n",
    "        # 2. Right hand\n",
    "        mp_drawing.draw_landmarks(image, results.right_hand_landmarks, mp_holistic.HAND_CONNECTIONS, \n",
    "                                 mp_drawing.DrawingSpec(color=(80,22,10), thickness=2, circle_radius=4),\n",
    "                                 mp_drawing.DrawingSpec(color=(80,44,121), thickness=2, circle_radius=2)\n",
    "                                 )\n",
    "\n",
    "        # 3. Left Hand\n",
    "        mp_drawing.draw_landmarks(image, results.left_hand_landmarks, mp_holistic.HAND_CONNECTIONS, \n",
    "                                 mp_drawing.DrawingSpec(color=(121,22,76), thickness=2, circle_radius=4),\n",
    "                                 mp_drawing.DrawingSpec(color=(121,44,250), thickness=2, circle_radius=2)\n",
    "                                 )\n",
    "\n",
    "        # 4. Pose Detections\n",
    "        mp_drawing.draw_landmarks(image, results.pose_landmarks, mp_holistic.POSE_CONNECTIONS, \n",
    "                                 mp_drawing.DrawingSpec(color=(245,117,66), thickness=2, circle_radius=4),\n",
    "                                 mp_drawing.DrawingSpec(color=(245,66,230), thickness=2, circle_radius=2)\n",
    "                                 )\n",
    "        # Export coordinates\n",
    "        try:\n",
    "            # Extract Pose landmarks\n",
    "            pose = results.pose_landmarks.landmark\n",
    "            pose_row = list(np.array([[landmark.x, landmark.y, landmark.z, landmark.visibility] for landmark in pose]).flatten())\n",
    "          \n",
    "            face = results.face_landmarks.landmark\n",
    "            face_row = list(np.array([[landmark.x, landmark.y, landmark.z, landmark.visibility] for landmark in face]).flatten())\n",
    "            \n",
    "            # Concate rows\n",
    "            row = pose_row+face_row\n",
    "            \n",
    "            # Append class name \n",
    "            row.insert(0, class_name)\n",
    "            # beacause len(row) should be equal to 1+501*4\n",
    "            \n",
    "            # Export to CSV\n",
    "            with open('coords.csv', mode='a', newline='') as f:\n",
    "                csv_writer = csv.writer(f, delimiter=',', quotechar='\"',quoting=csv.QUOTE_MINIMAL)\n",
    "                csv_writer.writerow(row) \n",
    "            \n",
    "        except:\n",
    "            pass\n",
    "                        \n",
    "        cv2.imshow('Raw Webcam Feed', image)\n",
    "\n",
    "        if cv2.waitKey(10) & 0xFF == ord('q'):\n",
    "            break\n",
    "\n",
    "cap.release()\n",
    "cv2.destroyAllWindows()"
   ]
  },
  {
   "cell_type": "markdown",
   "id": "25acfd36",
   "metadata": {},
   "source": [
    "3. Train Custom Model Using Scikit Learn"
   ]
  },
  {
   "cell_type": "markdown",
   "id": "5904c85c",
   "metadata": {},
   "source": [
    "3.1 Read in collected Data and Process"
   ]
  },
  {
   "cell_type": "code",
   "execution_count": 86,
   "id": "35c31867",
   "metadata": {},
   "outputs": [],
   "source": [
    "import pandas as pd\n",
    "from sklearn.model_selection import train_test_split"
   ]
  },
  {
   "cell_type": "code",
   "execution_count": 98,
   "id": "909c86ca",
   "metadata": {},
   "outputs": [
    {
     "data": {
      "text/html": [
       "<div>\n",
       "<style scoped>\n",
       "    .dataframe tbody tr th:only-of-type {\n",
       "        vertical-align: middle;\n",
       "    }\n",
       "\n",
       "    .dataframe tbody tr th {\n",
       "        vertical-align: top;\n",
       "    }\n",
       "\n",
       "    .dataframe thead th {\n",
       "        text-align: right;\n",
       "    }\n",
       "</style>\n",
       "<table border=\"1\" class=\"dataframe\">\n",
       "  <thead>\n",
       "    <tr style=\"text-align: right;\">\n",
       "      <th></th>\n",
       "      <th>class</th>\n",
       "      <th>x1</th>\n",
       "      <th>y1</th>\n",
       "      <th>z1</th>\n",
       "      <th>v1</th>\n",
       "      <th>x2</th>\n",
       "      <th>y2</th>\n",
       "      <th>z2</th>\n",
       "      <th>v2</th>\n",
       "      <th>x3</th>\n",
       "      <th>...</th>\n",
       "      <th>z499</th>\n",
       "      <th>v499</th>\n",
       "      <th>x500</th>\n",
       "      <th>y500</th>\n",
       "      <th>z500</th>\n",
       "      <th>v500</th>\n",
       "      <th>x501</th>\n",
       "      <th>y501</th>\n",
       "      <th>z501</th>\n",
       "      <th>v501</th>\n",
       "    </tr>\n",
       "  </thead>\n",
       "  <tbody>\n",
       "    <tr>\n",
       "      <th>0</th>\n",
       "      <td>neutral</td>\n",
       "      <td>0.546452</td>\n",
       "      <td>0.487204</td>\n",
       "      <td>-0.671844</td>\n",
       "      <td>0.999969</td>\n",
       "      <td>0.570894</td>\n",
       "      <td>0.444538</td>\n",
       "      <td>-0.629380</td>\n",
       "      <td>0.999920</td>\n",
       "      <td>0.587234</td>\n",
       "      <td>...</td>\n",
       "      <td>0.002947</td>\n",
       "      <td>0</td>\n",
       "      <td>0.597113</td>\n",
       "      <td>0.456792</td>\n",
       "      <td>0.016318</td>\n",
       "      <td>0</td>\n",
       "      <td>0.601081</td>\n",
       "      <td>0.454127</td>\n",
       "      <td>0.016751</td>\n",
       "      <td>0</td>\n",
       "    </tr>\n",
       "    <tr>\n",
       "      <th>1</th>\n",
       "      <td>neutral</td>\n",
       "      <td>0.546831</td>\n",
       "      <td>0.487861</td>\n",
       "      <td>-0.911877</td>\n",
       "      <td>0.999966</td>\n",
       "      <td>0.570895</td>\n",
       "      <td>0.445072</td>\n",
       "      <td>-0.859747</td>\n",
       "      <td>0.999912</td>\n",
       "      <td>0.587232</td>\n",
       "      <td>...</td>\n",
       "      <td>0.001640</td>\n",
       "      <td>0</td>\n",
       "      <td>0.594488</td>\n",
       "      <td>0.456873</td>\n",
       "      <td>0.015285</td>\n",
       "      <td>0</td>\n",
       "      <td>0.598268</td>\n",
       "      <td>0.454815</td>\n",
       "      <td>0.015568</td>\n",
       "      <td>0</td>\n",
       "    </tr>\n",
       "    <tr>\n",
       "      <th>2</th>\n",
       "      <td>neutral</td>\n",
       "      <td>0.546961</td>\n",
       "      <td>0.488282</td>\n",
       "      <td>-0.925406</td>\n",
       "      <td>0.999960</td>\n",
       "      <td>0.570888</td>\n",
       "      <td>0.445359</td>\n",
       "      <td>-0.873277</td>\n",
       "      <td>0.999899</td>\n",
       "      <td>0.587201</td>\n",
       "      <td>...</td>\n",
       "      <td>0.002209</td>\n",
       "      <td>0</td>\n",
       "      <td>0.594162</td>\n",
       "      <td>0.457359</td>\n",
       "      <td>0.016216</td>\n",
       "      <td>0</td>\n",
       "      <td>0.597943</td>\n",
       "      <td>0.455162</td>\n",
       "      <td>0.016521</td>\n",
       "      <td>0</td>\n",
       "    </tr>\n",
       "    <tr>\n",
       "      <th>3</th>\n",
       "      <td>neutral</td>\n",
       "      <td>0.547003</td>\n",
       "      <td>0.488326</td>\n",
       "      <td>-0.912478</td>\n",
       "      <td>0.999958</td>\n",
       "      <td>0.570868</td>\n",
       "      <td>0.445361</td>\n",
       "      <td>-0.862163</td>\n",
       "      <td>0.999894</td>\n",
       "      <td>0.587158</td>\n",
       "      <td>...</td>\n",
       "      <td>0.002038</td>\n",
       "      <td>0</td>\n",
       "      <td>0.593395</td>\n",
       "      <td>0.457482</td>\n",
       "      <td>0.016057</td>\n",
       "      <td>0</td>\n",
       "      <td>0.597210</td>\n",
       "      <td>0.455246</td>\n",
       "      <td>0.016389</td>\n",
       "      <td>0</td>\n",
       "    </tr>\n",
       "    <tr>\n",
       "      <th>4</th>\n",
       "      <td>neutral</td>\n",
       "      <td>0.547067</td>\n",
       "      <td>0.488417</td>\n",
       "      <td>-0.858345</td>\n",
       "      <td>0.999958</td>\n",
       "      <td>0.570831</td>\n",
       "      <td>0.445367</td>\n",
       "      <td>-0.809795</td>\n",
       "      <td>0.999894</td>\n",
       "      <td>0.587057</td>\n",
       "      <td>...</td>\n",
       "      <td>0.002099</td>\n",
       "      <td>0</td>\n",
       "      <td>0.593029</td>\n",
       "      <td>0.457348</td>\n",
       "      <td>0.015909</td>\n",
       "      <td>0</td>\n",
       "      <td>0.596870</td>\n",
       "      <td>0.455114</td>\n",
       "      <td>0.016202</td>\n",
       "      <td>0</td>\n",
       "    </tr>\n",
       "    <tr>\n",
       "      <th>...</th>\n",
       "      <td>...</td>\n",
       "      <td>...</td>\n",
       "      <td>...</td>\n",
       "      <td>...</td>\n",
       "      <td>...</td>\n",
       "      <td>...</td>\n",
       "      <td>...</td>\n",
       "      <td>...</td>\n",
       "      <td>...</td>\n",
       "      <td>...</td>\n",
       "      <td>...</td>\n",
       "      <td>...</td>\n",
       "      <td>...</td>\n",
       "      <td>...</td>\n",
       "      <td>...</td>\n",
       "      <td>...</td>\n",
       "      <td>...</td>\n",
       "      <td>...</td>\n",
       "      <td>...</td>\n",
       "      <td>...</td>\n",
       "      <td>...</td>\n",
       "    </tr>\n",
       "    <tr>\n",
       "      <th>3399</th>\n",
       "      <td>nervous</td>\n",
       "      <td>0.537032</td>\n",
       "      <td>0.492420</td>\n",
       "      <td>-0.965761</td>\n",
       "      <td>0.997771</td>\n",
       "      <td>0.573095</td>\n",
       "      <td>0.419747</td>\n",
       "      <td>-0.930252</td>\n",
       "      <td>0.996397</td>\n",
       "      <td>0.591368</td>\n",
       "      <td>...</td>\n",
       "      <td>-0.017497</td>\n",
       "      <td>0</td>\n",
       "      <td>0.613385</td>\n",
       "      <td>0.422952</td>\n",
       "      <td>0.000450</td>\n",
       "      <td>0</td>\n",
       "      <td>0.618671</td>\n",
       "      <td>0.419145</td>\n",
       "      <td>0.000103</td>\n",
       "      <td>0</td>\n",
       "    </tr>\n",
       "    <tr>\n",
       "      <th>3400</th>\n",
       "      <td>nervous</td>\n",
       "      <td>0.537349</td>\n",
       "      <td>0.494911</td>\n",
       "      <td>-0.922866</td>\n",
       "      <td>0.997720</td>\n",
       "      <td>0.574228</td>\n",
       "      <td>0.421341</td>\n",
       "      <td>-0.880517</td>\n",
       "      <td>0.996295</td>\n",
       "      <td>0.592929</td>\n",
       "      <td>...</td>\n",
       "      <td>-0.017297</td>\n",
       "      <td>0</td>\n",
       "      <td>0.610985</td>\n",
       "      <td>0.420738</td>\n",
       "      <td>-0.000458</td>\n",
       "      <td>0</td>\n",
       "      <td>0.616154</td>\n",
       "      <td>0.416768</td>\n",
       "      <td>-0.000838</td>\n",
       "      <td>0</td>\n",
       "    </tr>\n",
       "    <tr>\n",
       "      <th>3401</th>\n",
       "      <td>nervous</td>\n",
       "      <td>0.538480</td>\n",
       "      <td>0.494792</td>\n",
       "      <td>-0.906077</td>\n",
       "      <td>0.997740</td>\n",
       "      <td>0.576110</td>\n",
       "      <td>0.421236</td>\n",
       "      <td>-0.869272</td>\n",
       "      <td>0.996344</td>\n",
       "      <td>0.594805</td>\n",
       "      <td>...</td>\n",
       "      <td>-0.016817</td>\n",
       "      <td>0</td>\n",
       "      <td>0.609822</td>\n",
       "      <td>0.416777</td>\n",
       "      <td>0.001435</td>\n",
       "      <td>0</td>\n",
       "      <td>0.614888</td>\n",
       "      <td>0.413032</td>\n",
       "      <td>0.001168</td>\n",
       "      <td>0</td>\n",
       "    </tr>\n",
       "    <tr>\n",
       "      <th>3402</th>\n",
       "      <td>nervous</td>\n",
       "      <td>0.538846</td>\n",
       "      <td>0.494714</td>\n",
       "      <td>-0.933762</td>\n",
       "      <td>0.997702</td>\n",
       "      <td>0.576592</td>\n",
       "      <td>0.421077</td>\n",
       "      <td>-0.901142</td>\n",
       "      <td>0.996316</td>\n",
       "      <td>0.595389</td>\n",
       "      <td>...</td>\n",
       "      <td>-0.016121</td>\n",
       "      <td>0</td>\n",
       "      <td>0.609697</td>\n",
       "      <td>0.415284</td>\n",
       "      <td>0.002774</td>\n",
       "      <td>0</td>\n",
       "      <td>0.614594</td>\n",
       "      <td>0.411576</td>\n",
       "      <td>0.002663</td>\n",
       "      <td>0</td>\n",
       "    </tr>\n",
       "    <tr>\n",
       "      <th>3403</th>\n",
       "      <td>nervous</td>\n",
       "      <td>0.538906</td>\n",
       "      <td>0.492522</td>\n",
       "      <td>-0.848451</td>\n",
       "      <td>0.997789</td>\n",
       "      <td>0.576501</td>\n",
       "      <td>0.419940</td>\n",
       "      <td>-0.820244</td>\n",
       "      <td>0.996459</td>\n",
       "      <td>0.595253</td>\n",
       "      <td>...</td>\n",
       "      <td>-0.015273</td>\n",
       "      <td>0</td>\n",
       "      <td>0.608114</td>\n",
       "      <td>0.411364</td>\n",
       "      <td>0.004375</td>\n",
       "      <td>0</td>\n",
       "      <td>0.612937</td>\n",
       "      <td>0.407829</td>\n",
       "      <td>0.004386</td>\n",
       "      <td>0</td>\n",
       "    </tr>\n",
       "  </tbody>\n",
       "</table>\n",
       "<p>3404 rows × 2005 columns</p>\n",
       "</div>"
      ],
      "text/plain": [
       "        class        x1        y1        z1        v1        x2        y2  \\\n",
       "0     neutral  0.546452  0.487204 -0.671844  0.999969  0.570894  0.444538   \n",
       "1     neutral  0.546831  0.487861 -0.911877  0.999966  0.570895  0.445072   \n",
       "2     neutral  0.546961  0.488282 -0.925406  0.999960  0.570888  0.445359   \n",
       "3     neutral  0.547003  0.488326 -0.912478  0.999958  0.570868  0.445361   \n",
       "4     neutral  0.547067  0.488417 -0.858345  0.999958  0.570831  0.445367   \n",
       "...       ...       ...       ...       ...       ...       ...       ...   \n",
       "3399  nervous  0.537032  0.492420 -0.965761  0.997771  0.573095  0.419747   \n",
       "3400  nervous  0.537349  0.494911 -0.922866  0.997720  0.574228  0.421341   \n",
       "3401  nervous  0.538480  0.494792 -0.906077  0.997740  0.576110  0.421236   \n",
       "3402  nervous  0.538846  0.494714 -0.933762  0.997702  0.576592  0.421077   \n",
       "3403  nervous  0.538906  0.492522 -0.848451  0.997789  0.576501  0.419940   \n",
       "\n",
       "            z2        v2        x3  ...      z499  v499      x500      y500  \\\n",
       "0    -0.629380  0.999920  0.587234  ...  0.002947     0  0.597113  0.456792   \n",
       "1    -0.859747  0.999912  0.587232  ...  0.001640     0  0.594488  0.456873   \n",
       "2    -0.873277  0.999899  0.587201  ...  0.002209     0  0.594162  0.457359   \n",
       "3    -0.862163  0.999894  0.587158  ...  0.002038     0  0.593395  0.457482   \n",
       "4    -0.809795  0.999894  0.587057  ...  0.002099     0  0.593029  0.457348   \n",
       "...        ...       ...       ...  ...       ...   ...       ...       ...   \n",
       "3399 -0.930252  0.996397  0.591368  ... -0.017497     0  0.613385  0.422952   \n",
       "3400 -0.880517  0.996295  0.592929  ... -0.017297     0  0.610985  0.420738   \n",
       "3401 -0.869272  0.996344  0.594805  ... -0.016817     0  0.609822  0.416777   \n",
       "3402 -0.901142  0.996316  0.595389  ... -0.016121     0  0.609697  0.415284   \n",
       "3403 -0.820244  0.996459  0.595253  ... -0.015273     0  0.608114  0.411364   \n",
       "\n",
       "          z500  v500      x501      y501      z501  v501  \n",
       "0     0.016318     0  0.601081  0.454127  0.016751     0  \n",
       "1     0.015285     0  0.598268  0.454815  0.015568     0  \n",
       "2     0.016216     0  0.597943  0.455162  0.016521     0  \n",
       "3     0.016057     0  0.597210  0.455246  0.016389     0  \n",
       "4     0.015909     0  0.596870  0.455114  0.016202     0  \n",
       "...        ...   ...       ...       ...       ...   ...  \n",
       "3399  0.000450     0  0.618671  0.419145  0.000103     0  \n",
       "3400 -0.000458     0  0.616154  0.416768 -0.000838     0  \n",
       "3401  0.001435     0  0.614888  0.413032  0.001168     0  \n",
       "3402  0.002774     0  0.614594  0.411576  0.002663     0  \n",
       "3403  0.004375     0  0.612937  0.407829  0.004386     0  \n",
       "\n",
       "[3404 rows x 2005 columns]"
      ]
     },
     "execution_count": 98,
     "metadata": {},
     "output_type": "execute_result"
    }
   ],
   "source": [
    "df = pd.read_csv('coords.csv')\n",
    "df"
   ]
  },
  {
   "cell_type": "code",
   "execution_count": 99,
   "id": "0f1374fd",
   "metadata": {},
   "outputs": [
    {
     "data": {
      "text/html": [
       "<div>\n",
       "<style scoped>\n",
       "    .dataframe tbody tr th:only-of-type {\n",
       "        vertical-align: middle;\n",
       "    }\n",
       "\n",
       "    .dataframe tbody tr th {\n",
       "        vertical-align: top;\n",
       "    }\n",
       "\n",
       "    .dataframe thead th {\n",
       "        text-align: right;\n",
       "    }\n",
       "</style>\n",
       "<table border=\"1\" class=\"dataframe\">\n",
       "  <thead>\n",
       "    <tr style=\"text-align: right;\">\n",
       "      <th></th>\n",
       "      <th>class</th>\n",
       "      <th>x1</th>\n",
       "      <th>y1</th>\n",
       "      <th>z1</th>\n",
       "      <th>v1</th>\n",
       "      <th>x2</th>\n",
       "      <th>y2</th>\n",
       "      <th>z2</th>\n",
       "      <th>v2</th>\n",
       "      <th>x3</th>\n",
       "      <th>...</th>\n",
       "      <th>z499</th>\n",
       "      <th>v499</th>\n",
       "      <th>x500</th>\n",
       "      <th>y500</th>\n",
       "      <th>z500</th>\n",
       "      <th>v500</th>\n",
       "      <th>x501</th>\n",
       "      <th>y501</th>\n",
       "      <th>z501</th>\n",
       "      <th>v501</th>\n",
       "    </tr>\n",
       "  </thead>\n",
       "  <tbody>\n",
       "    <tr>\n",
       "      <th>0</th>\n",
       "      <td>neutral</td>\n",
       "      <td>0.546452</td>\n",
       "      <td>0.487204</td>\n",
       "      <td>-0.671844</td>\n",
       "      <td>0.999969</td>\n",
       "      <td>0.570894</td>\n",
       "      <td>0.444538</td>\n",
       "      <td>-0.629380</td>\n",
       "      <td>0.999920</td>\n",
       "      <td>0.587234</td>\n",
       "      <td>...</td>\n",
       "      <td>0.002947</td>\n",
       "      <td>0</td>\n",
       "      <td>0.597113</td>\n",
       "      <td>0.456792</td>\n",
       "      <td>0.016318</td>\n",
       "      <td>0</td>\n",
       "      <td>0.601081</td>\n",
       "      <td>0.454127</td>\n",
       "      <td>0.016751</td>\n",
       "      <td>0</td>\n",
       "    </tr>\n",
       "    <tr>\n",
       "      <th>1</th>\n",
       "      <td>neutral</td>\n",
       "      <td>0.546831</td>\n",
       "      <td>0.487861</td>\n",
       "      <td>-0.911877</td>\n",
       "      <td>0.999966</td>\n",
       "      <td>0.570895</td>\n",
       "      <td>0.445072</td>\n",
       "      <td>-0.859747</td>\n",
       "      <td>0.999912</td>\n",
       "      <td>0.587232</td>\n",
       "      <td>...</td>\n",
       "      <td>0.001640</td>\n",
       "      <td>0</td>\n",
       "      <td>0.594488</td>\n",
       "      <td>0.456873</td>\n",
       "      <td>0.015285</td>\n",
       "      <td>0</td>\n",
       "      <td>0.598268</td>\n",
       "      <td>0.454815</td>\n",
       "      <td>0.015568</td>\n",
       "      <td>0</td>\n",
       "    </tr>\n",
       "    <tr>\n",
       "      <th>2</th>\n",
       "      <td>neutral</td>\n",
       "      <td>0.546961</td>\n",
       "      <td>0.488282</td>\n",
       "      <td>-0.925406</td>\n",
       "      <td>0.999960</td>\n",
       "      <td>0.570888</td>\n",
       "      <td>0.445359</td>\n",
       "      <td>-0.873277</td>\n",
       "      <td>0.999899</td>\n",
       "      <td>0.587201</td>\n",
       "      <td>...</td>\n",
       "      <td>0.002209</td>\n",
       "      <td>0</td>\n",
       "      <td>0.594162</td>\n",
       "      <td>0.457359</td>\n",
       "      <td>0.016216</td>\n",
       "      <td>0</td>\n",
       "      <td>0.597943</td>\n",
       "      <td>0.455162</td>\n",
       "      <td>0.016521</td>\n",
       "      <td>0</td>\n",
       "    </tr>\n",
       "    <tr>\n",
       "      <th>3</th>\n",
       "      <td>neutral</td>\n",
       "      <td>0.547003</td>\n",
       "      <td>0.488326</td>\n",
       "      <td>-0.912478</td>\n",
       "      <td>0.999958</td>\n",
       "      <td>0.570868</td>\n",
       "      <td>0.445361</td>\n",
       "      <td>-0.862163</td>\n",
       "      <td>0.999894</td>\n",
       "      <td>0.587158</td>\n",
       "      <td>...</td>\n",
       "      <td>0.002038</td>\n",
       "      <td>0</td>\n",
       "      <td>0.593395</td>\n",
       "      <td>0.457482</td>\n",
       "      <td>0.016057</td>\n",
       "      <td>0</td>\n",
       "      <td>0.597210</td>\n",
       "      <td>0.455246</td>\n",
       "      <td>0.016389</td>\n",
       "      <td>0</td>\n",
       "    </tr>\n",
       "    <tr>\n",
       "      <th>4</th>\n",
       "      <td>neutral</td>\n",
       "      <td>0.547067</td>\n",
       "      <td>0.488417</td>\n",
       "      <td>-0.858345</td>\n",
       "      <td>0.999958</td>\n",
       "      <td>0.570831</td>\n",
       "      <td>0.445367</td>\n",
       "      <td>-0.809795</td>\n",
       "      <td>0.999894</td>\n",
       "      <td>0.587057</td>\n",
       "      <td>...</td>\n",
       "      <td>0.002099</td>\n",
       "      <td>0</td>\n",
       "      <td>0.593029</td>\n",
       "      <td>0.457348</td>\n",
       "      <td>0.015909</td>\n",
       "      <td>0</td>\n",
       "      <td>0.596870</td>\n",
       "      <td>0.455114</td>\n",
       "      <td>0.016202</td>\n",
       "      <td>0</td>\n",
       "    </tr>\n",
       "  </tbody>\n",
       "</table>\n",
       "<p>5 rows × 2005 columns</p>\n",
       "</div>"
      ],
      "text/plain": [
       "     class        x1        y1        z1        v1        x2        y2  \\\n",
       "0  neutral  0.546452  0.487204 -0.671844  0.999969  0.570894  0.444538   \n",
       "1  neutral  0.546831  0.487861 -0.911877  0.999966  0.570895  0.445072   \n",
       "2  neutral  0.546961  0.488282 -0.925406  0.999960  0.570888  0.445359   \n",
       "3  neutral  0.547003  0.488326 -0.912478  0.999958  0.570868  0.445361   \n",
       "4  neutral  0.547067  0.488417 -0.858345  0.999958  0.570831  0.445367   \n",
       "\n",
       "         z2        v2        x3  ...      z499  v499      x500      y500  \\\n",
       "0 -0.629380  0.999920  0.587234  ...  0.002947     0  0.597113  0.456792   \n",
       "1 -0.859747  0.999912  0.587232  ...  0.001640     0  0.594488  0.456873   \n",
       "2 -0.873277  0.999899  0.587201  ...  0.002209     0  0.594162  0.457359   \n",
       "3 -0.862163  0.999894  0.587158  ...  0.002038     0  0.593395  0.457482   \n",
       "4 -0.809795  0.999894  0.587057  ...  0.002099     0  0.593029  0.457348   \n",
       "\n",
       "       z500  v500      x501      y501      z501  v501  \n",
       "0  0.016318     0  0.601081  0.454127  0.016751     0  \n",
       "1  0.015285     0  0.598268  0.454815  0.015568     0  \n",
       "2  0.016216     0  0.597943  0.455162  0.016521     0  \n",
       "3  0.016057     0  0.597210  0.455246  0.016389     0  \n",
       "4  0.015909     0  0.596870  0.455114  0.016202     0  \n",
       "\n",
       "[5 rows x 2005 columns]"
      ]
     },
     "execution_count": 99,
     "metadata": {},
     "output_type": "execute_result"
    }
   ],
   "source": [
    "df.head()"
   ]
  },
  {
   "cell_type": "code",
   "execution_count": 100,
   "id": "835aa735",
   "metadata": {},
   "outputs": [
    {
     "data": {
      "text/html": [
       "<div>\n",
       "<style scoped>\n",
       "    .dataframe tbody tr th:only-of-type {\n",
       "        vertical-align: middle;\n",
       "    }\n",
       "\n",
       "    .dataframe tbody tr th {\n",
       "        vertical-align: top;\n",
       "    }\n",
       "\n",
       "    .dataframe thead th {\n",
       "        text-align: right;\n",
       "    }\n",
       "</style>\n",
       "<table border=\"1\" class=\"dataframe\">\n",
       "  <thead>\n",
       "    <tr style=\"text-align: right;\">\n",
       "      <th></th>\n",
       "      <th>class</th>\n",
       "      <th>x1</th>\n",
       "      <th>y1</th>\n",
       "      <th>z1</th>\n",
       "      <th>v1</th>\n",
       "      <th>x2</th>\n",
       "      <th>y2</th>\n",
       "      <th>z2</th>\n",
       "      <th>v2</th>\n",
       "      <th>x3</th>\n",
       "      <th>...</th>\n",
       "      <th>z499</th>\n",
       "      <th>v499</th>\n",
       "      <th>x500</th>\n",
       "      <th>y500</th>\n",
       "      <th>z500</th>\n",
       "      <th>v500</th>\n",
       "      <th>x501</th>\n",
       "      <th>y501</th>\n",
       "      <th>z501</th>\n",
       "      <th>v501</th>\n",
       "    </tr>\n",
       "  </thead>\n",
       "  <tbody>\n",
       "    <tr>\n",
       "      <th>1854</th>\n",
       "      <td>sad</td>\n",
       "      <td>0.549684</td>\n",
       "      <td>0.619154</td>\n",
       "      <td>-0.747584</td>\n",
       "      <td>0.999785</td>\n",
       "      <td>0.577158</td>\n",
       "      <td>0.566224</td>\n",
       "      <td>-0.731058</td>\n",
       "      <td>0.999330</td>\n",
       "      <td>0.593059</td>\n",
       "      <td>...</td>\n",
       "      <td>-0.024163</td>\n",
       "      <td>0</td>\n",
       "      <td>0.608750</td>\n",
       "      <td>0.559344</td>\n",
       "      <td>-0.019071</td>\n",
       "      <td>0</td>\n",
       "      <td>0.612568</td>\n",
       "      <td>0.555169</td>\n",
       "      <td>-0.020094</td>\n",
       "      <td>0</td>\n",
       "    </tr>\n",
       "    <tr>\n",
       "      <th>1855</th>\n",
       "      <td>sad</td>\n",
       "      <td>0.552640</td>\n",
       "      <td>0.617852</td>\n",
       "      <td>-0.980357</td>\n",
       "      <td>0.999796</td>\n",
       "      <td>0.579197</td>\n",
       "      <td>0.561347</td>\n",
       "      <td>-0.959209</td>\n",
       "      <td>0.999371</td>\n",
       "      <td>0.595457</td>\n",
       "      <td>...</td>\n",
       "      <td>-0.021147</td>\n",
       "      <td>0</td>\n",
       "      <td>0.605435</td>\n",
       "      <td>0.560587</td>\n",
       "      <td>-0.016601</td>\n",
       "      <td>0</td>\n",
       "      <td>0.608869</td>\n",
       "      <td>0.557262</td>\n",
       "      <td>-0.017613</td>\n",
       "      <td>0</td>\n",
       "    </tr>\n",
       "    <tr>\n",
       "      <th>1856</th>\n",
       "      <td>sad</td>\n",
       "      <td>0.553804</td>\n",
       "      <td>0.617797</td>\n",
       "      <td>-0.978435</td>\n",
       "      <td>0.999803</td>\n",
       "      <td>0.579826</td>\n",
       "      <td>0.560143</td>\n",
       "      <td>-0.959825</td>\n",
       "      <td>0.999394</td>\n",
       "      <td>0.596205</td>\n",
       "      <td>...</td>\n",
       "      <td>-0.021820</td>\n",
       "      <td>0</td>\n",
       "      <td>0.605601</td>\n",
       "      <td>0.561749</td>\n",
       "      <td>-0.017349</td>\n",
       "      <td>0</td>\n",
       "      <td>0.609003</td>\n",
       "      <td>0.558181</td>\n",
       "      <td>-0.018336</td>\n",
       "      <td>0</td>\n",
       "    </tr>\n",
       "    <tr>\n",
       "      <th>1857</th>\n",
       "      <td>sad</td>\n",
       "      <td>0.554398</td>\n",
       "      <td>0.617783</td>\n",
       "      <td>-0.901099</td>\n",
       "      <td>0.999810</td>\n",
       "      <td>0.580121</td>\n",
       "      <td>0.559546</td>\n",
       "      <td>-0.883212</td>\n",
       "      <td>0.999417</td>\n",
       "      <td>0.596644</td>\n",
       "      <td>...</td>\n",
       "      <td>-0.022155</td>\n",
       "      <td>0</td>\n",
       "      <td>0.605647</td>\n",
       "      <td>0.562793</td>\n",
       "      <td>-0.018042</td>\n",
       "      <td>0</td>\n",
       "      <td>0.609054</td>\n",
       "      <td>0.559345</td>\n",
       "      <td>-0.019091</td>\n",
       "      <td>0</td>\n",
       "    </tr>\n",
       "    <tr>\n",
       "      <th>1858</th>\n",
       "      <td>sad</td>\n",
       "      <td>0.556676</td>\n",
       "      <td>0.617575</td>\n",
       "      <td>-0.893979</td>\n",
       "      <td>0.999812</td>\n",
       "      <td>0.581749</td>\n",
       "      <td>0.558443</td>\n",
       "      <td>-0.878704</td>\n",
       "      <td>0.999421</td>\n",
       "      <td>0.598321</td>\n",
       "      <td>...</td>\n",
       "      <td>-0.021933</td>\n",
       "      <td>0</td>\n",
       "      <td>0.605073</td>\n",
       "      <td>0.562266</td>\n",
       "      <td>-0.017329</td>\n",
       "      <td>0</td>\n",
       "      <td>0.608417</td>\n",
       "      <td>0.558982</td>\n",
       "      <td>-0.018345</td>\n",
       "      <td>0</td>\n",
       "    </tr>\n",
       "    <tr>\n",
       "      <th>...</th>\n",
       "      <td>...</td>\n",
       "      <td>...</td>\n",
       "      <td>...</td>\n",
       "      <td>...</td>\n",
       "      <td>...</td>\n",
       "      <td>...</td>\n",
       "      <td>...</td>\n",
       "      <td>...</td>\n",
       "      <td>...</td>\n",
       "      <td>...</td>\n",
       "      <td>...</td>\n",
       "      <td>...</td>\n",
       "      <td>...</td>\n",
       "      <td>...</td>\n",
       "      <td>...</td>\n",
       "      <td>...</td>\n",
       "      <td>...</td>\n",
       "      <td>...</td>\n",
       "      <td>...</td>\n",
       "      <td>...</td>\n",
       "      <td>...</td>\n",
       "    </tr>\n",
       "    <tr>\n",
       "      <th>2159</th>\n",
       "      <td>sad</td>\n",
       "      <td>0.528994</td>\n",
       "      <td>0.652022</td>\n",
       "      <td>-0.735903</td>\n",
       "      <td>0.999470</td>\n",
       "      <td>0.551718</td>\n",
       "      <td>0.588627</td>\n",
       "      <td>-0.730624</td>\n",
       "      <td>0.998543</td>\n",
       "      <td>0.569683</td>\n",
       "      <td>...</td>\n",
       "      <td>-0.026474</td>\n",
       "      <td>0</td>\n",
       "      <td>0.571786</td>\n",
       "      <td>0.595072</td>\n",
       "      <td>-0.034622</td>\n",
       "      <td>0</td>\n",
       "      <td>0.575817</td>\n",
       "      <td>0.590745</td>\n",
       "      <td>-0.036694</td>\n",
       "      <td>0</td>\n",
       "    </tr>\n",
       "    <tr>\n",
       "      <th>2160</th>\n",
       "      <td>sad</td>\n",
       "      <td>0.525237</td>\n",
       "      <td>0.651739</td>\n",
       "      <td>-0.728464</td>\n",
       "      <td>0.999433</td>\n",
       "      <td>0.547606</td>\n",
       "      <td>0.588339</td>\n",
       "      <td>-0.721673</td>\n",
       "      <td>0.998432</td>\n",
       "      <td>0.565417</td>\n",
       "      <td>...</td>\n",
       "      <td>-0.026642</td>\n",
       "      <td>0</td>\n",
       "      <td>0.569420</td>\n",
       "      <td>0.595169</td>\n",
       "      <td>-0.035382</td>\n",
       "      <td>0</td>\n",
       "      <td>0.573370</td>\n",
       "      <td>0.591034</td>\n",
       "      <td>-0.037488</td>\n",
       "      <td>0</td>\n",
       "    </tr>\n",
       "    <tr>\n",
       "      <th>2161</th>\n",
       "      <td>sad</td>\n",
       "      <td>0.522258</td>\n",
       "      <td>0.651842</td>\n",
       "      <td>-0.853833</td>\n",
       "      <td>0.999329</td>\n",
       "      <td>0.544046</td>\n",
       "      <td>0.588444</td>\n",
       "      <td>-0.849675</td>\n",
       "      <td>0.998096</td>\n",
       "      <td>0.561831</td>\n",
       "      <td>...</td>\n",
       "      <td>-0.026872</td>\n",
       "      <td>0</td>\n",
       "      <td>0.567394</td>\n",
       "      <td>0.595455</td>\n",
       "      <td>-0.036257</td>\n",
       "      <td>0</td>\n",
       "      <td>0.571485</td>\n",
       "      <td>0.591153</td>\n",
       "      <td>-0.038450</td>\n",
       "      <td>0</td>\n",
       "    </tr>\n",
       "    <tr>\n",
       "      <th>2162</th>\n",
       "      <td>sad</td>\n",
       "      <td>0.520243</td>\n",
       "      <td>0.651987</td>\n",
       "      <td>-0.831714</td>\n",
       "      <td>0.999285</td>\n",
       "      <td>0.541441</td>\n",
       "      <td>0.588538</td>\n",
       "      <td>-0.837070</td>\n",
       "      <td>0.997976</td>\n",
       "      <td>0.559254</td>\n",
       "      <td>...</td>\n",
       "      <td>-0.027027</td>\n",
       "      <td>0</td>\n",
       "      <td>0.565054</td>\n",
       "      <td>0.595456</td>\n",
       "      <td>-0.036856</td>\n",
       "      <td>0</td>\n",
       "      <td>0.569076</td>\n",
       "      <td>0.591254</td>\n",
       "      <td>-0.039067</td>\n",
       "      <td>0</td>\n",
       "    </tr>\n",
       "    <tr>\n",
       "      <th>2163</th>\n",
       "      <td>sad</td>\n",
       "      <td>0.517875</td>\n",
       "      <td>0.652043</td>\n",
       "      <td>-0.738429</td>\n",
       "      <td>0.999227</td>\n",
       "      <td>0.537943</td>\n",
       "      <td>0.588597</td>\n",
       "      <td>-0.742613</td>\n",
       "      <td>0.997809</td>\n",
       "      <td>0.555408</td>\n",
       "      <td>...</td>\n",
       "      <td>-0.024816</td>\n",
       "      <td>0</td>\n",
       "      <td>0.564882</td>\n",
       "      <td>0.595194</td>\n",
       "      <td>-0.034161</td>\n",
       "      <td>0</td>\n",
       "      <td>0.568815</td>\n",
       "      <td>0.590868</td>\n",
       "      <td>-0.036303</td>\n",
       "      <td>0</td>\n",
       "    </tr>\n",
       "  </tbody>\n",
       "</table>\n",
       "<p>310 rows × 2005 columns</p>\n",
       "</div>"
      ],
      "text/plain": [
       "     class        x1        y1        z1        v1        x2        y2  \\\n",
       "1854   sad  0.549684  0.619154 -0.747584  0.999785  0.577158  0.566224   \n",
       "1855   sad  0.552640  0.617852 -0.980357  0.999796  0.579197  0.561347   \n",
       "1856   sad  0.553804  0.617797 -0.978435  0.999803  0.579826  0.560143   \n",
       "1857   sad  0.554398  0.617783 -0.901099  0.999810  0.580121  0.559546   \n",
       "1858   sad  0.556676  0.617575 -0.893979  0.999812  0.581749  0.558443   \n",
       "...    ...       ...       ...       ...       ...       ...       ...   \n",
       "2159   sad  0.528994  0.652022 -0.735903  0.999470  0.551718  0.588627   \n",
       "2160   sad  0.525237  0.651739 -0.728464  0.999433  0.547606  0.588339   \n",
       "2161   sad  0.522258  0.651842 -0.853833  0.999329  0.544046  0.588444   \n",
       "2162   sad  0.520243  0.651987 -0.831714  0.999285  0.541441  0.588538   \n",
       "2163   sad  0.517875  0.652043 -0.738429  0.999227  0.537943  0.588597   \n",
       "\n",
       "            z2        v2        x3  ...      z499  v499      x500      y500  \\\n",
       "1854 -0.731058  0.999330  0.593059  ... -0.024163     0  0.608750  0.559344   \n",
       "1855 -0.959209  0.999371  0.595457  ... -0.021147     0  0.605435  0.560587   \n",
       "1856 -0.959825  0.999394  0.596205  ... -0.021820     0  0.605601  0.561749   \n",
       "1857 -0.883212  0.999417  0.596644  ... -0.022155     0  0.605647  0.562793   \n",
       "1858 -0.878704  0.999421  0.598321  ... -0.021933     0  0.605073  0.562266   \n",
       "...        ...       ...       ...  ...       ...   ...       ...       ...   \n",
       "2159 -0.730624  0.998543  0.569683  ... -0.026474     0  0.571786  0.595072   \n",
       "2160 -0.721673  0.998432  0.565417  ... -0.026642     0  0.569420  0.595169   \n",
       "2161 -0.849675  0.998096  0.561831  ... -0.026872     0  0.567394  0.595455   \n",
       "2162 -0.837070  0.997976  0.559254  ... -0.027027     0  0.565054  0.595456   \n",
       "2163 -0.742613  0.997809  0.555408  ... -0.024816     0  0.564882  0.595194   \n",
       "\n",
       "          z500  v500      x501      y501      z501  v501  \n",
       "1854 -0.019071     0  0.612568  0.555169 -0.020094     0  \n",
       "1855 -0.016601     0  0.608869  0.557262 -0.017613     0  \n",
       "1856 -0.017349     0  0.609003  0.558181 -0.018336     0  \n",
       "1857 -0.018042     0  0.609054  0.559345 -0.019091     0  \n",
       "1858 -0.017329     0  0.608417  0.558982 -0.018345     0  \n",
       "...        ...   ...       ...       ...       ...   ...  \n",
       "2159 -0.034622     0  0.575817  0.590745 -0.036694     0  \n",
       "2160 -0.035382     0  0.573370  0.591034 -0.037488     0  \n",
       "2161 -0.036257     0  0.571485  0.591153 -0.038450     0  \n",
       "2162 -0.036856     0  0.569076  0.591254 -0.039067     0  \n",
       "2163 -0.034161     0  0.568815  0.590868 -0.036303     0  \n",
       "\n",
       "[310 rows x 2005 columns]"
      ]
     },
     "execution_count": 100,
     "metadata": {},
     "output_type": "execute_result"
    }
   ],
   "source": [
    "df[df['class']=='sad']"
   ]
  },
  {
   "cell_type": "code",
   "execution_count": 101,
   "id": "cfa66136",
   "metadata": {},
   "outputs": [],
   "source": [
    "X = df.drop ('class',axis=1) #features\n",
    "y = df['class'] #target value"
   ]
  },
  {
   "cell_type": "code",
   "execution_count": 102,
   "id": "4c95d28d",
   "metadata": {},
   "outputs": [
    {
     "data": {
      "text/plain": [
       "0       neutral\n",
       "1       neutral\n",
       "2       neutral\n",
       "3       neutral\n",
       "4       neutral\n",
       "         ...   \n",
       "3399    nervous\n",
       "3400    nervous\n",
       "3401    nervous\n",
       "3402    nervous\n",
       "3403    nervous\n",
       "Name: class, Length: 3404, dtype: object"
      ]
     },
     "execution_count": 102,
     "metadata": {},
     "output_type": "execute_result"
    }
   ],
   "source": [
    "y"
   ]
  },
  {
   "cell_type": "code",
   "execution_count": 103,
   "id": "f20dc9e5",
   "metadata": {},
   "outputs": [],
   "source": [
    "# creating train and test partition\n",
    "X_train, X_test, y_train, y_test = train_test_split(X,y,test_size=0.3, random_state=1234)\n",
    "# X_train\n",
    "# print(type(X_train))\n",
    "# print(type(X_test))\n",
    "# print(type(y_train))\n",
    "# print(type(y_test))"
   ]
  },
  {
   "cell_type": "markdown",
   "id": "febaea8c",
   "metadata": {},
   "source": [
    "3.2 Train Machine Learning Classification Model"
   ]
  },
  {
   "cell_type": "code",
   "execution_count": 104,
   "id": "8be84969",
   "metadata": {},
   "outputs": [],
   "source": [
    "# We will use X_train or y_train values to fit our model i.e train our model\n",
    "# and we will use X_test and y_test to validate it\n",
    "from sklearn.pipeline import make_pipeline # for making a machine learning pipeline\n",
    "from sklearn.preprocessing import StandardScaler # to our pipeline we pass through a preprocessing function called standard scaler\n",
    "# levraging standart scalar STANDARDIZES the data, subtracts the main and divides it by the standard deviation\n",
    "# to keep the data on a same plane so that no ideal feature overshadows the other feature\n",
    "from sklearn.linear_model import LogisticRegression, RidgeClassifier\n",
    "from sklearn.ensemble import RandomForestClassifier, GradientBoostingClassifier\n",
    "# Different models to train each and every one of them and get the best model fit for us"
   ]
  },
  {
   "cell_type": "code",
   "execution_count": 105,
   "id": "2e8411e7",
   "metadata": {},
   "outputs": [],
   "source": [
    "# we creating a dictionary\n",
    "pipelines = {\n",
    "    'lr': make_pipeline(StandardScaler(), LogisticRegression()),\n",
    "    'rc': make_pipeline(StandardScaler(), RidgeClassifier()),\n",
    "    'rf': make_pipeline(StandardScaler(), RandomForestClassifier()),\n",
    "    'gb': make_pipeline(StandardScaler(), GradientBoostingClassifier()),\n",
    "}"
   ]
  },
  {
   "cell_type": "code",
   "execution_count": 106,
   "id": "aebb186c",
   "metadata": {},
   "outputs": [
    {
     "data": {
      "text/plain": [
       "dict_values([Pipeline(steps=[('standardscaler', StandardScaler()),\n",
       "                ('logisticregression', LogisticRegression())]), Pipeline(steps=[('standardscaler', StandardScaler()),\n",
       "                ('ridgeclassifier', RidgeClassifier())]), Pipeline(steps=[('standardscaler', StandardScaler()),\n",
       "                ('randomforestclassifier', RandomForestClassifier())]), Pipeline(steps=[('standardscaler', StandardScaler()),\n",
       "                ('gradientboostingclassifier', GradientBoostingClassifier())])])"
      ]
     },
     "execution_count": 106,
     "metadata": {},
     "output_type": "execute_result"
    }
   ],
   "source": [
    "pipelines.values()"
   ]
  },
  {
   "cell_type": "code",
   "execution_count": 107,
   "id": "7d1cfb5d",
   "metadata": {},
   "outputs": [
    {
     "data": {
      "text/plain": [
       "dict_keys(['lr', 'rc', 'rf', 'gb'])"
      ]
     },
     "execution_count": 107,
     "metadata": {},
     "output_type": "execute_result"
    }
   ],
   "source": [
    "pipelines.keys()"
   ]
  },
  {
   "cell_type": "code",
   "execution_count": 108,
   "id": "11768aca",
   "metadata": {},
   "outputs": [
    {
     "data": {
      "text/plain": [
       "[Pipeline(steps=[('standardscaler', StandardScaler()),\n",
       "                 ('logisticregression', LogisticRegression())]),\n",
       " Pipeline(steps=[('standardscaler', StandardScaler()),\n",
       "                 ('ridgeclassifier', RidgeClassifier())]),\n",
       " Pipeline(steps=[('standardscaler', StandardScaler()),\n",
       "                 ('randomforestclassifier', RandomForestClassifier())]),\n",
       " Pipeline(steps=[('standardscaler', StandardScaler()),\n",
       "                 ('gradientboostingclassifier', GradientBoostingClassifier())])]"
      ]
     },
     "execution_count": 108,
     "metadata": {},
     "output_type": "execute_result"
    }
   ],
   "source": [
    "list(pipelines.values())"
   ]
  },
  {
   "cell_type": "code",
   "execution_count": 109,
   "id": "9670ac46",
   "metadata": {},
   "outputs": [
    {
     "name": "stderr",
     "output_type": "stream",
     "text": [
      "C:\\Users\\vinay\\AppData\\Roaming\\Python\\Python310\\site-packages\\sklearn\\linear_model\\_logistic.py:814: ConvergenceWarning: lbfgs failed to converge (status=1):\n",
      "STOP: TOTAL NO. of ITERATIONS REACHED LIMIT.\n",
      "\n",
      "Increase the number of iterations (max_iter) or scale the data as shown in:\n",
      "    https://scikit-learn.org/stable/modules/preprocessing.html\n",
      "Please also refer to the documentation for alternative solver options:\n",
      "    https://scikit-learn.org/stable/modules/linear_model.html#logistic-regression\n",
      "  n_iter_i = _check_optimize_result(\n"
     ]
    }
   ],
   "source": [
    "# Here we'll train the model\n",
    "# Firstly we create an empty dictionary\n",
    "# Then We try and loop through each one of these pipelines and train\n",
    "fit_models = {}\n",
    "for algo, pipeline in pipelines.items():\n",
    "    model = pipeline.fit(X_train, y_train)\n",
    "    fit_models[algo] = model"
   ]
  },
  {
   "cell_type": "code",
   "execution_count": 110,
   "id": "62e82510",
   "metadata": {},
   "outputs": [
    {
     "data": {
      "text/plain": [
       "{'lr': Pipeline(steps=[('standardscaler', StandardScaler()),\n",
       "                 ('logisticregression', LogisticRegression())]),\n",
       " 'rc': Pipeline(steps=[('standardscaler', StandardScaler()),\n",
       "                 ('ridgeclassifier', RidgeClassifier())]),\n",
       " 'rf': Pipeline(steps=[('standardscaler', StandardScaler()),\n",
       "                 ('randomforestclassifier', RandomForestClassifier())]),\n",
       " 'gb': Pipeline(steps=[('standardscaler', StandardScaler()),\n",
       "                 ('gradientboostingclassifier', GradientBoostingClassifier())])}"
      ]
     },
     "execution_count": 110,
     "metadata": {},
     "output_type": "execute_result"
    }
   ],
   "source": [
    "fit_models"
   ]
  },
  {
   "cell_type": "code",
   "execution_count": 111,
   "id": "64d4a70d",
   "metadata": {},
   "outputs": [
    {
     "data": {
      "text/plain": [
       "array(['angry', 'neutral', 'surprise', ..., 'sad', 'angry', 'worried'],\n",
       "      dtype=object)"
      ]
     },
     "execution_count": 111,
     "metadata": {},
     "output_type": "execute_result"
    }
   ],
   "source": [
    "fit_models['rf'].predict(X_test)"
   ]
  },
  {
   "cell_type": "code",
   "execution_count": 112,
   "id": "62e63831",
   "metadata": {},
   "outputs": [
    {
     "data": {
      "text/plain": [
       "array(['angry', 'neutral', 'surprise', ..., 'sad', 'angry', 'worried'],\n",
       "      dtype=object)"
      ]
     },
     "execution_count": 112,
     "metadata": {},
     "output_type": "execute_result"
    }
   ],
   "source": [
    "fit_models['lr'].predict(X_test)"
   ]
  },
  {
   "cell_type": "code",
   "execution_count": 113,
   "id": "6434fa45",
   "metadata": {},
   "outputs": [
    {
     "data": {
      "text/plain": [
       "array(['angry', 'neutral', 'surprise', ..., 'sad', 'angry', 'worried'],\n",
       "      dtype='<U9')"
      ]
     },
     "execution_count": 113,
     "metadata": {},
     "output_type": "execute_result"
    }
   ],
   "source": [
    "fit_models['rc'].predict(X_test)"
   ]
  },
  {
   "cell_type": "code",
   "execution_count": 114,
   "id": "f7ccf22b",
   "metadata": {},
   "outputs": [
    {
     "data": {
      "text/plain": [
       "array(['angry', 'neutral', 'surprise', ..., 'sad', 'angry', 'worried'],\n",
       "      dtype='<U9')"
      ]
     },
     "execution_count": 114,
     "metadata": {},
     "output_type": "execute_result"
    }
   ],
   "source": [
    "fit_models['rc'].predict(X_test)"
   ]
  },
  {
   "cell_type": "markdown",
   "id": "106417ab",
   "metadata": {},
   "source": [
    "3.3 Evaluate and Serialize Model"
   ]
  },
  {
   "cell_type": "code",
   "execution_count": 115,
   "id": "af3480b0",
   "metadata": {},
   "outputs": [],
   "source": [
    "from sklearn.metrics import accuracy_score # to calculate performace of the models\n",
    "import pickle # used by data scientist to save their trained model to disk\n",
    "import cv2"
   ]
  },
  {
   "cell_type": "code",
   "execution_count": 116,
   "id": "762510bf",
   "metadata": {},
   "outputs": [
    {
     "name": "stdout",
     "output_type": "stream",
     "text": [
      "lr 1.0\n",
      "rc 1.0\n",
      "rf 1.0\n",
      "gb 1.0\n"
     ]
    }
   ],
   "source": [
    "for algo, model in fit_models.items():\n",
    "    yhat = model.predict(X_test) #making a pridiction and storing it\n",
    "    print(algo, accuracy_score(y_test, yhat)) # to workout how well the yhat model performed against y_test data "
   ]
  },
  {
   "cell_type": "code",
   "execution_count": 117,
   "id": "ee53700d",
   "metadata": {},
   "outputs": [
    {
     "data": {
      "text/plain": [
       "array(['angry', 'neutral', 'surprise', ..., 'sad', 'angry', 'worried'],\n",
       "      dtype=object)"
      ]
     },
     "execution_count": 117,
     "metadata": {},
     "output_type": "execute_result"
    }
   ],
   "source": [
    "fit_models['rf'].predict(X_test)"
   ]
  },
  {
   "cell_type": "code",
   "execution_count": 118,
   "id": "a31291c7",
   "metadata": {},
   "outputs": [
    {
     "data": {
      "text/plain": [
       "2710       angry\n",
       "268      neutral\n",
       "842     surprise\n",
       "114      neutral\n",
       "1136       shame\n",
       "          ...   \n",
       "303      neutral\n",
       "918     surprise\n",
       "2104         sad\n",
       "2782       angry\n",
       "2443     worried\n",
       "Name: class, Length: 1022, dtype: object"
      ]
     },
     "execution_count": 118,
     "metadata": {},
     "output_type": "execute_result"
    }
   ],
   "source": [
    "y_test"
   ]
  },
  {
   "cell_type": "code",
   "execution_count": 127,
   "id": "5490f022",
   "metadata": {},
   "outputs": [],
   "source": [
    "# Saving our best model random forest classifier\n",
    "with open('external.pkl', 'wb') as f:\n",
    "    pickle.dump(fit_models['lr'],f)"
   ]
  },
  {
   "cell_type": "markdown",
   "id": "8096ef41",
   "metadata": {},
   "source": [
    "4. Make Detections with Model"
   ]
  },
  {
   "cell_type": "code",
   "execution_count": 128,
   "id": "3a63adf3",
   "metadata": {},
   "outputs": [],
   "source": [
    "# add path\n",
    "with open('external.pkl', 'rb') as f:\n",
    "    model = pickle.load(f)"
   ]
  },
  {
   "cell_type": "code",
   "execution_count": 125,
   "id": "6240729d",
   "metadata": {},
   "outputs": [
    {
     "data": {
      "text/plain": [
       "array(['angry', 'neutral', 'surprise', ..., 'sad', 'angry', 'worried'],\n",
       "      dtype=object)"
      ]
     },
     "execution_count": 125,
     "metadata": {},
     "output_type": "execute_result"
    }
   ],
   "source": [
    " model.predict(X_test)"
   ]
  },
  {
   "cell_type": "code",
   "execution_count": 141,
   "id": "0ad7d011",
   "metadata": {},
   "outputs": [
    {
     "name": "stderr",
     "output_type": "stream",
     "text": [
      "C:\\Users\\vinay\\AppData\\Roaming\\Python\\Python310\\site-packages\\sklearn\\base.py:445: UserWarning: X does not have valid feature names, but StandardScaler was fitted with feature names\n",
      "  warnings.warn(\n",
      "C:\\Users\\vinay\\AppData\\Roaming\\Python\\Python310\\site-packages\\sklearn\\base.py:445: UserWarning: X does not have valid feature names, but StandardScaler was fitted with feature names\n",
      "  warnings.warn(\n",
      "C:\\Users\\vinay\\AppData\\Roaming\\Python\\Python310\\site-packages\\sklearn\\base.py:445: UserWarning: X does not have valid feature names, but StandardScaler was fitted with feature names\n",
      "  warnings.warn(\n",
      "C:\\Users\\vinay\\AppData\\Roaming\\Python\\Python310\\site-packages\\sklearn\\base.py:445: UserWarning: X does not have valid feature names, but StandardScaler was fitted with feature names\n",
      "  warnings.warn(\n"
     ]
    },
    {
     "name": "stdout",
     "output_type": "stream",
     "text": [
      "nervous [4.11179441e-06 5.95418170e-06 6.81245336e-02 5.23998172e-01\n",
      " 2.39570704e-01 2.41102439e-12 1.72967223e-14 1.54908427e-01\n",
      " 1.33233324e-02 8.71280215e-13 6.47645235e-05]\n",
      "nervous [3.84521544e-06 2.41885797e-06 4.85314067e-02 6.39040317e-01\n",
      " 1.12755932e-01 1.97929937e-12 2.28779611e-14 1.88727836e-01\n",
      " 1.08688837e-02 4.87389960e-13 6.93608479e-05]\n"
     ]
    },
    {
     "name": "stderr",
     "output_type": "stream",
     "text": [
      "C:\\Users\\vinay\\AppData\\Roaming\\Python\\Python310\\site-packages\\sklearn\\base.py:445: UserWarning: X does not have valid feature names, but StandardScaler was fitted with feature names\n",
      "  warnings.warn(\n",
      "C:\\Users\\vinay\\AppData\\Roaming\\Python\\Python310\\site-packages\\sklearn\\base.py:445: UserWarning: X does not have valid feature names, but StandardScaler was fitted with feature names\n",
      "  warnings.warn(\n",
      "C:\\Users\\vinay\\AppData\\Roaming\\Python\\Python310\\site-packages\\sklearn\\base.py:445: UserWarning: X does not have valid feature names, but StandardScaler was fitted with feature names\n",
      "  warnings.warn(\n",
      "C:\\Users\\vinay\\AppData\\Roaming\\Python\\Python310\\site-packages\\sklearn\\base.py:445: UserWarning: X does not have valid feature names, but StandardScaler was fitted with feature names\n",
      "  warnings.warn(\n"
     ]
    },
    {
     "name": "stdout",
     "output_type": "stream",
     "text": [
      "nervous [4.26482514e-06 2.02818670e-06 5.18346709e-02 6.70572079e-01\n",
      " 1.20050268e-01 2.99588582e-12 2.75613669e-14 1.40745270e-01\n",
      " 1.67078412e-02 6.32167177e-13 8.35768736e-05]\n",
      "nervous [3.42817920e-06 1.94569961e-06 3.55225252e-02 5.96542487e-01\n",
      " 1.30465428e-01 3.30136080e-12 2.39801630e-14 2.24754911e-01\n",
      " 1.26554920e-02 5.01533975e-13 5.37831701e-05]\n"
     ]
    },
    {
     "name": "stderr",
     "output_type": "stream",
     "text": [
      "C:\\Users\\vinay\\AppData\\Roaming\\Python\\Python310\\site-packages\\sklearn\\base.py:445: UserWarning: X does not have valid feature names, but StandardScaler was fitted with feature names\n",
      "  warnings.warn(\n",
      "C:\\Users\\vinay\\AppData\\Roaming\\Python\\Python310\\site-packages\\sklearn\\base.py:445: UserWarning: X does not have valid feature names, but StandardScaler was fitted with feature names\n",
      "  warnings.warn(\n",
      "C:\\Users\\vinay\\AppData\\Roaming\\Python\\Python310\\site-packages\\sklearn\\base.py:445: UserWarning: X does not have valid feature names, but StandardScaler was fitted with feature names\n",
      "  warnings.warn(\n",
      "C:\\Users\\vinay\\AppData\\Roaming\\Python\\Python310\\site-packages\\sklearn\\base.py:445: UserWarning: X does not have valid feature names, but StandardScaler was fitted with feature names\n",
      "  warnings.warn(\n"
     ]
    },
    {
     "name": "stdout",
     "output_type": "stream",
     "text": [
      "nervous [3.31098579e-06 1.78764896e-06 3.69365171e-02 6.96787831e-01\n",
      " 2.52292385e-02 4.09217220e-12 2.59525425e-14 2.30765098e-01\n",
      " 1.01557953e-02 4.60488068e-13 1.20420945e-04]\n",
      "nervous [3.85038271e-06 1.52362889e-06 4.06849148e-02 6.88150634e-01\n",
      " 3.08904156e-02 5.11154110e-12 3.23825797e-14 2.28635260e-01\n",
      " 1.15167104e-02 5.61881087e-13 1.16691716e-04]\n"
     ]
    },
    {
     "name": "stderr",
     "output_type": "stream",
     "text": [
      "C:\\Users\\vinay\\AppData\\Roaming\\Python\\Python310\\site-packages\\sklearn\\base.py:445: UserWarning: X does not have valid feature names, but StandardScaler was fitted with feature names\n",
      "  warnings.warn(\n",
      "C:\\Users\\vinay\\AppData\\Roaming\\Python\\Python310\\site-packages\\sklearn\\base.py:445: UserWarning: X does not have valid feature names, but StandardScaler was fitted with feature names\n",
      "  warnings.warn(\n",
      "C:\\Users\\vinay\\AppData\\Roaming\\Python\\Python310\\site-packages\\sklearn\\base.py:445: UserWarning: X does not have valid feature names, but StandardScaler was fitted with feature names\n",
      "  warnings.warn(\n",
      "C:\\Users\\vinay\\AppData\\Roaming\\Python\\Python310\\site-packages\\sklearn\\base.py:445: UserWarning: X does not have valid feature names, but StandardScaler was fitted with feature names\n",
      "  warnings.warn(\n"
     ]
    },
    {
     "name": "stdout",
     "output_type": "stream",
     "text": [
      "nervous [4.67823748e-06 1.20781247e-06 4.04985695e-02 7.55538159e-01\n",
      " 3.89088047e-02 5.31211522e-12 4.17797377e-14 1.43453133e-01\n",
      " 2.14931165e-02 5.46872491e-13 1.02331336e-04]\n",
      "nervous [2.41542657e-06 3.78997384e-07 6.77376105e-02 5.91915355e-01\n",
      " 2.26022003e-02 1.07078616e-12 9.70619688e-15 3.07815958e-01\n",
      " 9.85828402e-03 1.53667015e-13 6.77974234e-05]\n"
     ]
    },
    {
     "name": "stderr",
     "output_type": "stream",
     "text": [
      "C:\\Users\\vinay\\AppData\\Roaming\\Python\\Python310\\site-packages\\sklearn\\base.py:445: UserWarning: X does not have valid feature names, but StandardScaler was fitted with feature names\n",
      "  warnings.warn(\n",
      "C:\\Users\\vinay\\AppData\\Roaming\\Python\\Python310\\site-packages\\sklearn\\base.py:445: UserWarning: X does not have valid feature names, but StandardScaler was fitted with feature names\n",
      "  warnings.warn(\n",
      "C:\\Users\\vinay\\AppData\\Roaming\\Python\\Python310\\site-packages\\sklearn\\base.py:445: UserWarning: X does not have valid feature names, but StandardScaler was fitted with feature names\n",
      "  warnings.warn(\n",
      "C:\\Users\\vinay\\AppData\\Roaming\\Python\\Python310\\site-packages\\sklearn\\base.py:445: UserWarning: X does not have valid feature names, but StandardScaler was fitted with feature names\n",
      "  warnings.warn(\n"
     ]
    },
    {
     "name": "stdout",
     "output_type": "stream",
     "text": [
      "neutral [1.37418064e-07 2.15504709e-06 3.39121367e-01 1.70993264e-01\n",
      " 3.52425373e-01 1.04296417e-13 1.84803107e-15 1.33526727e-01\n",
      " 3.81787657e-03 1.86812482e-13 1.13100707e-04]\n",
      "confident [8.17274880e-08 1.56771625e-06 6.17993052e-01 7.60485663e-02\n",
      " 2.70506152e-01 1.02541604e-13 7.37641221e-15 3.34624498e-02\n",
      " 1.87528899e-03 3.26934892e-13 1.12841630e-04]\n"
     ]
    },
    {
     "name": "stderr",
     "output_type": "stream",
     "text": [
      "C:\\Users\\vinay\\AppData\\Roaming\\Python\\Python310\\site-packages\\sklearn\\base.py:445: UserWarning: X does not have valid feature names, but StandardScaler was fitted with feature names\n",
      "  warnings.warn(\n",
      "C:\\Users\\vinay\\AppData\\Roaming\\Python\\Python310\\site-packages\\sklearn\\base.py:445: UserWarning: X does not have valid feature names, but StandardScaler was fitted with feature names\n",
      "  warnings.warn(\n",
      "C:\\Users\\vinay\\AppData\\Roaming\\Python\\Python310\\site-packages\\sklearn\\base.py:445: UserWarning: X does not have valid feature names, but StandardScaler was fitted with feature names\n",
      "  warnings.warn(\n",
      "C:\\Users\\vinay\\AppData\\Roaming\\Python\\Python310\\site-packages\\sklearn\\base.py:445: UserWarning: X does not have valid feature names, but StandardScaler was fitted with feature names\n",
      "  warnings.warn(\n"
     ]
    },
    {
     "name": "stdout",
     "output_type": "stream",
     "text": [
      "neutral [5.59759471e-08 1.00379856e-07 9.99132476e-02 8.40782268e-03\n",
      " 8.89133933e-01 7.45426637e-14 1.13761029e-13 1.94054783e-03\n",
      " 6.00814277e-04 3.86327848e-13 3.47812677e-06]\n",
      "neutral [3.83992275e-07 1.83383801e-06 3.25770430e-01 6.38168647e-02\n",
      " 5.90685078e-01 1.50854419e-12 1.82123256e-12 1.75598606e-02\n",
      " 2.14975289e-03 2.96596981e-12 1.57953406e-05]\n"
     ]
    },
    {
     "name": "stderr",
     "output_type": "stream",
     "text": [
      "C:\\Users\\vinay\\AppData\\Roaming\\Python\\Python310\\site-packages\\sklearn\\base.py:445: UserWarning: X does not have valid feature names, but StandardScaler was fitted with feature names\n",
      "  warnings.warn(\n",
      "C:\\Users\\vinay\\AppData\\Roaming\\Python\\Python310\\site-packages\\sklearn\\base.py:445: UserWarning: X does not have valid feature names, but StandardScaler was fitted with feature names\n",
      "  warnings.warn(\n",
      "C:\\Users\\vinay\\AppData\\Roaming\\Python\\Python310\\site-packages\\sklearn\\base.py:445: UserWarning: X does not have valid feature names, but StandardScaler was fitted with feature names\n",
      "  warnings.warn(\n",
      "C:\\Users\\vinay\\AppData\\Roaming\\Python\\Python310\\site-packages\\sklearn\\base.py:445: UserWarning: X does not have valid feature names, but StandardScaler was fitted with feature names\n",
      "  warnings.warn(\n"
     ]
    },
    {
     "name": "stdout",
     "output_type": "stream",
     "text": [
      "neutral [4.19982157e-07 2.97589775e-06 3.80817367e-01 7.47177892e-02\n",
      " 5.24716461e-01 2.43023451e-12 8.81302395e-13 1.72816261e-02\n",
      " 2.44482047e-03 3.62175271e-12 1.85408834e-05]\n",
      "neutral [6.20596423e-07 2.16183771e-06 3.97172161e-01 1.17072918e-01\n",
      " 4.52035115e-01 2.60602761e-12 3.72594433e-13 3.01168872e-02\n",
      " 3.57221724e-03 2.60808479e-12 2.79198820e-05]\n"
     ]
    },
    {
     "name": "stderr",
     "output_type": "stream",
     "text": [
      "C:\\Users\\vinay\\AppData\\Roaming\\Python\\Python310\\site-packages\\sklearn\\base.py:445: UserWarning: X does not have valid feature names, but StandardScaler was fitted with feature names\n",
      "  warnings.warn(\n",
      "C:\\Users\\vinay\\AppData\\Roaming\\Python\\Python310\\site-packages\\sklearn\\base.py:445: UserWarning: X does not have valid feature names, but StandardScaler was fitted with feature names\n",
      "  warnings.warn(\n",
      "C:\\Users\\vinay\\AppData\\Roaming\\Python\\Python310\\site-packages\\sklearn\\base.py:445: UserWarning: X does not have valid feature names, but StandardScaler was fitted with feature names\n",
      "  warnings.warn(\n",
      "C:\\Users\\vinay\\AppData\\Roaming\\Python\\Python310\\site-packages\\sklearn\\base.py:445: UserWarning: X does not have valid feature names, but StandardScaler was fitted with feature names\n",
      "  warnings.warn(\n"
     ]
    },
    {
     "name": "stdout",
     "output_type": "stream",
     "text": [
      "confident [1.35842615e-06 2.61815432e-06 4.01966010e-01 2.10566375e-01\n",
      " 3.35703851e-01 5.46900239e-12 3.29362333e-13 4.45429056e-02\n",
      " 7.13624810e-03 4.01945119e-12 8.06334815e-05]\n",
      "confident [2.11369175e-06 2.62391270e-06 3.92967600e-01 2.49920139e-01\n",
      " 2.67898263e-01 9.73553354e-12 3.46935043e-13 7.88323673e-02\n",
      " 1.02268880e-02 5.44534404e-12 1.50004728e-04]\n"
     ]
    },
    {
     "name": "stderr",
     "output_type": "stream",
     "text": [
      "C:\\Users\\vinay\\AppData\\Roaming\\Python\\Python310\\site-packages\\sklearn\\base.py:445: UserWarning: X does not have valid feature names, but StandardScaler was fitted with feature names\n",
      "  warnings.warn(\n",
      "C:\\Users\\vinay\\AppData\\Roaming\\Python\\Python310\\site-packages\\sklearn\\base.py:445: UserWarning: X does not have valid feature names, but StandardScaler was fitted with feature names\n",
      "  warnings.warn(\n",
      "C:\\Users\\vinay\\AppData\\Roaming\\Python\\Python310\\site-packages\\sklearn\\base.py:445: UserWarning: X does not have valid feature names, but StandardScaler was fitted with feature names\n",
      "  warnings.warn(\n",
      "C:\\Users\\vinay\\AppData\\Roaming\\Python\\Python310\\site-packages\\sklearn\\base.py:445: UserWarning: X does not have valid feature names, but StandardScaler was fitted with feature names\n",
      "  warnings.warn(\n"
     ]
    },
    {
     "name": "stdout",
     "output_type": "stream",
     "text": [
      "nervous [1.46860755e-06 2.89435568e-06 3.03769411e-01 4.97214473e-01\n",
      " 6.74586224e-03 1.64759621e-11 4.26972270e-14 1.82537738e-01\n",
      " 9.19239261e-03 1.03505223e-12 5.35760244e-04]\n",
      "nervous [1.87628459e-06 3.18017419e-06 3.22332526e-01 4.50717320e-01\n",
      " 2.38940019e-02 1.61172787e-11 8.80251199e-14 1.93991381e-01\n",
      " 8.71995063e-03 1.73036534e-12 3.39763429e-04]\n"
     ]
    },
    {
     "name": "stderr",
     "output_type": "stream",
     "text": [
      "C:\\Users\\vinay\\AppData\\Roaming\\Python\\Python310\\site-packages\\sklearn\\base.py:445: UserWarning: X does not have valid feature names, but StandardScaler was fitted with feature names\n",
      "  warnings.warn(\n",
      "C:\\Users\\vinay\\AppData\\Roaming\\Python\\Python310\\site-packages\\sklearn\\base.py:445: UserWarning: X does not have valid feature names, but StandardScaler was fitted with feature names\n",
      "  warnings.warn(\n",
      "C:\\Users\\vinay\\AppData\\Roaming\\Python\\Python310\\site-packages\\sklearn\\base.py:445: UserWarning: X does not have valid feature names, but StandardScaler was fitted with feature names\n",
      "  warnings.warn(\n",
      "C:\\Users\\vinay\\AppData\\Roaming\\Python\\Python310\\site-packages\\sklearn\\base.py:445: UserWarning: X does not have valid feature names, but StandardScaler was fitted with feature names\n",
      "  warnings.warn(\n"
     ]
    },
    {
     "name": "stdout",
     "output_type": "stream",
     "text": [
      "nervous [2.38490936e-06 3.10872842e-06 3.08319867e-01 4.68520017e-01\n",
      " 3.73290275e-02 2.07539270e-11 1.22649681e-13 1.75595084e-01\n",
      " 9.81684482e-03 2.43766330e-12 4.13665707e-04]\n",
      "nervous [2.65670290e-06 4.51888481e-06 2.66632397e-01 4.65340744e-01\n",
      " 3.57040188e-02 2.11807335e-11 6.78151369e-14 2.23800696e-01\n",
      " 8.15287199e-03 2.69741214e-12 3.62096566e-04]\n"
     ]
    },
    {
     "name": "stderr",
     "output_type": "stream",
     "text": [
      "C:\\Users\\vinay\\AppData\\Roaming\\Python\\Python310\\site-packages\\sklearn\\base.py:445: UserWarning: X does not have valid feature names, but StandardScaler was fitted with feature names\n",
      "  warnings.warn(\n",
      "C:\\Users\\vinay\\AppData\\Roaming\\Python\\Python310\\site-packages\\sklearn\\base.py:445: UserWarning: X does not have valid feature names, but StandardScaler was fitted with feature names\n",
      "  warnings.warn(\n",
      "C:\\Users\\vinay\\AppData\\Roaming\\Python\\Python310\\site-packages\\sklearn\\base.py:445: UserWarning: X does not have valid feature names, but StandardScaler was fitted with feature names\n",
      "  warnings.warn(\n",
      "C:\\Users\\vinay\\AppData\\Roaming\\Python\\Python310\\site-packages\\sklearn\\base.py:445: UserWarning: X does not have valid feature names, but StandardScaler was fitted with feature names\n",
      "  warnings.warn(\n"
     ]
    },
    {
     "name": "stdout",
     "output_type": "stream",
     "text": [
      "nervous [2.95283536e-06 6.26848308e-06 2.56569060e-01 4.66597258e-01\n",
      " 6.41731954e-02 1.98314788e-11 8.81209682e-14 2.03437563e-01\n",
      " 8.93367609e-03 3.32695747e-12 2.80026014e-04]\n",
      "nervous [3.31800265e-06 1.83981542e-06 3.26193095e-01 4.04935114e-01\n",
      " 8.79824273e-02 1.74050720e-11 1.02069098e-13 1.74933498e-01\n",
      " 5.70153937e-03 3.38582309e-12 2.49169269e-04]\n"
     ]
    },
    {
     "name": "stderr",
     "output_type": "stream",
     "text": [
      "C:\\Users\\vinay\\AppData\\Roaming\\Python\\Python310\\site-packages\\sklearn\\base.py:445: UserWarning: X does not have valid feature names, but StandardScaler was fitted with feature names\n",
      "  warnings.warn(\n",
      "C:\\Users\\vinay\\AppData\\Roaming\\Python\\Python310\\site-packages\\sklearn\\base.py:445: UserWarning: X does not have valid feature names, but StandardScaler was fitted with feature names\n",
      "  warnings.warn(\n",
      "C:\\Users\\vinay\\AppData\\Roaming\\Python\\Python310\\site-packages\\sklearn\\base.py:445: UserWarning: X does not have valid feature names, but StandardScaler was fitted with feature names\n",
      "  warnings.warn(\n",
      "C:\\Users\\vinay\\AppData\\Roaming\\Python\\Python310\\site-packages\\sklearn\\base.py:445: UserWarning: X does not have valid feature names, but StandardScaler was fitted with feature names\n",
      "  warnings.warn(\n"
     ]
    },
    {
     "name": "stdout",
     "output_type": "stream",
     "text": [
      "nervous [3.00351863e-06 2.01226277e-06 3.10704165e-01 3.94147156e-01\n",
      " 1.12208730e-01 1.50020862e-11 9.77037025e-14 1.76361610e-01\n",
      " 6.33949416e-03 3.30500127e-12 2.33829254e-04]\n",
      "nervous [2.86036291e-06 2.01266309e-06 3.14942809e-01 3.61814422e-01\n",
      " 1.11190814e-01 1.59333559e-11 9.93093154e-14 2.05237107e-01\n",
      " 6.54976045e-03 3.96140292e-12 2.60215560e-04]\n"
     ]
    },
    {
     "name": "stderr",
     "output_type": "stream",
     "text": [
      "C:\\Users\\vinay\\AppData\\Roaming\\Python\\Python310\\site-packages\\sklearn\\base.py:445: UserWarning: X does not have valid feature names, but StandardScaler was fitted with feature names\n",
      "  warnings.warn(\n",
      "C:\\Users\\vinay\\AppData\\Roaming\\Python\\Python310\\site-packages\\sklearn\\base.py:445: UserWarning: X does not have valid feature names, but StandardScaler was fitted with feature names\n",
      "  warnings.warn(\n",
      "C:\\Users\\vinay\\AppData\\Roaming\\Python\\Python310\\site-packages\\sklearn\\base.py:445: UserWarning: X does not have valid feature names, but StandardScaler was fitted with feature names\n",
      "  warnings.warn(\n",
      "C:\\Users\\vinay\\AppData\\Roaming\\Python\\Python310\\site-packages\\sklearn\\base.py:445: UserWarning: X does not have valid feature names, but StandardScaler was fitted with feature names\n",
      "  warnings.warn(\n"
     ]
    },
    {
     "name": "stdout",
     "output_type": "stream",
     "text": [
      "confident [2.96828875e-06 1.48502587e-06 3.15098263e-01 2.81533534e-01\n",
      " 2.01107256e-01 1.05728781e-11 1.72531722e-13 1.96603093e-01\n",
      " 5.48292475e-03 4.83472224e-12 1.70476400e-04]\n",
      "confident [2.13332839e-06 1.36930289e-06 3.10708943e-01 2.65840011e-01\n",
      " 2.91222173e-01 1.12223776e-11 1.24618657e-13 1.26035433e-01\n",
      " 5.96040446e-03 4.01183632e-12 2.29532923e-04]\n"
     ]
    },
    {
     "name": "stderr",
     "output_type": "stream",
     "text": [
      "C:\\Users\\vinay\\AppData\\Roaming\\Python\\Python310\\site-packages\\sklearn\\base.py:445: UserWarning: X does not have valid feature names, but StandardScaler was fitted with feature names\n",
      "  warnings.warn(\n",
      "C:\\Users\\vinay\\AppData\\Roaming\\Python\\Python310\\site-packages\\sklearn\\base.py:445: UserWarning: X does not have valid feature names, but StandardScaler was fitted with feature names\n",
      "  warnings.warn(\n",
      "C:\\Users\\vinay\\AppData\\Roaming\\Python\\Python310\\site-packages\\sklearn\\base.py:445: UserWarning: X does not have valid feature names, but StandardScaler was fitted with feature names\n",
      "  warnings.warn(\n",
      "C:\\Users\\vinay\\AppData\\Roaming\\Python\\Python310\\site-packages\\sklearn\\base.py:445: UserWarning: X does not have valid feature names, but StandardScaler was fitted with feature names\n",
      "  warnings.warn(\n"
     ]
    },
    {
     "name": "stdout",
     "output_type": "stream",
     "text": [
      "nervous [2.03017804e-06 2.67009656e-06 3.01071842e-01 4.05582151e-01\n",
      " 1.09209314e-01 1.35833121e-11 5.70223901e-14 1.76578956e-01\n",
      " 7.29077478e-03 2.61189644e-12 2.62261294e-04]\n",
      "nervous [2.11121653e-06 3.36702630e-06 3.45341430e-01 4.39741131e-01\n",
      " 6.39043258e-02 1.69883755e-11 5.71790956e-14 1.41776305e-01\n",
      " 8.84578879e-03 2.46792442e-12 3.85542018e-04]\n"
     ]
    },
    {
     "name": "stderr",
     "output_type": "stream",
     "text": [
      "C:\\Users\\vinay\\AppData\\Roaming\\Python\\Python310\\site-packages\\sklearn\\base.py:445: UserWarning: X does not have valid feature names, but StandardScaler was fitted with feature names\n",
      "  warnings.warn(\n",
      "C:\\Users\\vinay\\AppData\\Roaming\\Python\\Python310\\site-packages\\sklearn\\base.py:445: UserWarning: X does not have valid feature names, but StandardScaler was fitted with feature names\n",
      "  warnings.warn(\n",
      "C:\\Users\\vinay\\AppData\\Roaming\\Python\\Python310\\site-packages\\sklearn\\base.py:445: UserWarning: X does not have valid feature names, but StandardScaler was fitted with feature names\n",
      "  warnings.warn(\n",
      "C:\\Users\\vinay\\AppData\\Roaming\\Python\\Python310\\site-packages\\sklearn\\base.py:445: UserWarning: X does not have valid feature names, but StandardScaler was fitted with feature names\n",
      "  warnings.warn(\n"
     ]
    },
    {
     "name": "stdout",
     "output_type": "stream",
     "text": [
      "nervous [3.70950359e-06 1.82917747e-06 3.34509110e-01 4.36739341e-01\n",
      " 7.68927696e-02 1.85036058e-11 1.88004469e-13 1.41309163e-01\n",
      " 1.02092335e-02 4.21664009e-12 3.34843701e-04]\n",
      "nervous [3.45727457e-06 1.72824524e-06 2.99860342e-01 4.12229565e-01\n",
      " 1.08566145e-01 1.98432782e-11 1.48434807e-13 1.70370915e-01\n",
      " 8.62176497e-03 4.18741295e-12 3.46082902e-04]\n"
     ]
    },
    {
     "name": "stderr",
     "output_type": "stream",
     "text": [
      "C:\\Users\\vinay\\AppData\\Roaming\\Python\\Python310\\site-packages\\sklearn\\base.py:445: UserWarning: X does not have valid feature names, but StandardScaler was fitted with feature names\n",
      "  warnings.warn(\n",
      "C:\\Users\\vinay\\AppData\\Roaming\\Python\\Python310\\site-packages\\sklearn\\base.py:445: UserWarning: X does not have valid feature names, but StandardScaler was fitted with feature names\n",
      "  warnings.warn(\n",
      "C:\\Users\\vinay\\AppData\\Roaming\\Python\\Python310\\site-packages\\sklearn\\base.py:445: UserWarning: X does not have valid feature names, but StandardScaler was fitted with feature names\n",
      "  warnings.warn(\n",
      "C:\\Users\\vinay\\AppData\\Roaming\\Python\\Python310\\site-packages\\sklearn\\base.py:445: UserWarning: X does not have valid feature names, but StandardScaler was fitted with feature names\n",
      "  warnings.warn(\n"
     ]
    },
    {
     "name": "stdout",
     "output_type": "stream",
     "text": [
      "nervous [3.99093572e-06 3.13215516e-06 2.58695157e-01 4.19145080e-01\n",
      " 8.15994774e-02 2.53668842e-11 7.21414568e-14 2.33519169e-01\n",
      " 6.72167344e-03 4.24126154e-12 3.12320329e-04]\n",
      "smile [1.03390061e-06 5.88007747e-09 2.18673415e-02 5.91591820e-02\n",
      " 2.73457531e-05 4.02695485e-12 1.72260997e-15 9.18898890e-01\n",
      " 3.11333546e-05 7.59503400e-14 1.50676582e-05]\n"
     ]
    },
    {
     "name": "stderr",
     "output_type": "stream",
     "text": [
      "C:\\Users\\vinay\\AppData\\Roaming\\Python\\Python310\\site-packages\\sklearn\\base.py:445: UserWarning: X does not have valid feature names, but StandardScaler was fitted with feature names\n",
      "  warnings.warn(\n",
      "C:\\Users\\vinay\\AppData\\Roaming\\Python\\Python310\\site-packages\\sklearn\\base.py:445: UserWarning: X does not have valid feature names, but StandardScaler was fitted with feature names\n",
      "  warnings.warn(\n",
      "C:\\Users\\vinay\\AppData\\Roaming\\Python\\Python310\\site-packages\\sklearn\\base.py:445: UserWarning: X does not have valid feature names, but StandardScaler was fitted with feature names\n",
      "  warnings.warn(\n",
      "C:\\Users\\vinay\\AppData\\Roaming\\Python\\Python310\\site-packages\\sklearn\\base.py:445: UserWarning: X does not have valid feature names, but StandardScaler was fitted with feature names\n",
      "  warnings.warn(\n"
     ]
    },
    {
     "name": "stdout",
     "output_type": "stream",
     "text": [
      "smile [7.09213881e-07 3.08876998e-09 1.00677002e-02 4.98585259e-02\n",
      " 1.01806049e-05 2.26968762e-12 7.12122562e-16 9.40037460e-01\n",
      " 1.83581923e-05 2.72952773e-14 7.06288536e-06]\n",
      "smile [7.14549667e-07 9.93618823e-10 3.68408994e-03 3.19023170e-02\n",
      " 2.21865978e-05 5.91232871e-13 6.98255604e-16 9.64381085e-01\n",
      " 8.91961246e-06 1.05307906e-14 6.86740928e-07]\n"
     ]
    },
    {
     "name": "stderr",
     "output_type": "stream",
     "text": [
      "C:\\Users\\vinay\\AppData\\Roaming\\Python\\Python310\\site-packages\\sklearn\\base.py:445: UserWarning: X does not have valid feature names, but StandardScaler was fitted with feature names\n",
      "  warnings.warn(\n",
      "C:\\Users\\vinay\\AppData\\Roaming\\Python\\Python310\\site-packages\\sklearn\\base.py:445: UserWarning: X does not have valid feature names, but StandardScaler was fitted with feature names\n",
      "  warnings.warn(\n",
      "C:\\Users\\vinay\\AppData\\Roaming\\Python\\Python310\\site-packages\\sklearn\\base.py:445: UserWarning: X does not have valid feature names, but StandardScaler was fitted with feature names\n",
      "  warnings.warn(\n",
      "C:\\Users\\vinay\\AppData\\Roaming\\Python\\Python310\\site-packages\\sklearn\\base.py:445: UserWarning: X does not have valid feature names, but StandardScaler was fitted with feature names\n",
      "  warnings.warn(\n"
     ]
    },
    {
     "name": "stdout",
     "output_type": "stream",
     "text": [
      "smile [9.19258411e-07 7.97196697e-10 3.47273771e-03 5.81945922e-02\n",
      " 1.53257763e-05 4.04507304e-13 6.09797015e-16 9.38304695e-01\n",
      " 1.11877343e-05 4.42247416e-15 5.41297993e-07]\n",
      "smile [1.11531163e-06 4.39797768e-10 1.82440665e-03 9.97564427e-02\n",
      " 8.43179561e-06 1.94269466e-13 2.17206039e-16 8.98397700e-01\n",
      " 1.16376902e-05 9.19163459e-16 2.65021299e-07]\n"
     ]
    },
    {
     "name": "stderr",
     "output_type": "stream",
     "text": [
      "C:\\Users\\vinay\\AppData\\Roaming\\Python\\Python310\\site-packages\\sklearn\\base.py:445: UserWarning: X does not have valid feature names, but StandardScaler was fitted with feature names\n",
      "  warnings.warn(\n",
      "C:\\Users\\vinay\\AppData\\Roaming\\Python\\Python310\\site-packages\\sklearn\\base.py:445: UserWarning: X does not have valid feature names, but StandardScaler was fitted with feature names\n",
      "  warnings.warn(\n",
      "C:\\Users\\vinay\\AppData\\Roaming\\Python\\Python310\\site-packages\\sklearn\\base.py:445: UserWarning: X does not have valid feature names, but StandardScaler was fitted with feature names\n",
      "  warnings.warn(\n",
      "C:\\Users\\vinay\\AppData\\Roaming\\Python\\Python310\\site-packages\\sklearn\\base.py:445: UserWarning: X does not have valid feature names, but StandardScaler was fitted with feature names\n",
      "  warnings.warn(\n"
     ]
    },
    {
     "name": "stdout",
     "output_type": "stream",
     "text": [
      "smile [1.35059452e-06 1.00001885e-10 7.54346068e-04 8.87503794e-02\n",
      " 1.32151156e-06 1.16483752e-13 7.37294801e-17 9.10486596e-01\n",
      " 5.90639180e-06 2.07595895e-16 9.99567011e-08]\n",
      "nervous [1.01212628e-05 6.26485130e-09 4.51513468e-03 8.10884476e-01\n",
      " 4.00374296e-04 1.27671020e-12 8.93999898e-16 1.83780641e-01\n",
      " 4.07518097e-04 2.98862809e-15 1.72828661e-06]\n"
     ]
    },
    {
     "name": "stderr",
     "output_type": "stream",
     "text": [
      "C:\\Users\\vinay\\AppData\\Roaming\\Python\\Python310\\site-packages\\sklearn\\base.py:445: UserWarning: X does not have valid feature names, but StandardScaler was fitted with feature names\n",
      "  warnings.warn(\n",
      "C:\\Users\\vinay\\AppData\\Roaming\\Python\\Python310\\site-packages\\sklearn\\base.py:445: UserWarning: X does not have valid feature names, but StandardScaler was fitted with feature names\n",
      "  warnings.warn(\n",
      "C:\\Users\\vinay\\AppData\\Roaming\\Python\\Python310\\site-packages\\sklearn\\base.py:445: UserWarning: X does not have valid feature names, but StandardScaler was fitted with feature names\n",
      "  warnings.warn(\n",
      "C:\\Users\\vinay\\AppData\\Roaming\\Python\\Python310\\site-packages\\sklearn\\base.py:445: UserWarning: X does not have valid feature names, but StandardScaler was fitted with feature names\n",
      "  warnings.warn(\n"
     ]
    },
    {
     "name": "stdout",
     "output_type": "stream",
     "text": [
      "nervous [9.00380637e-06 2.91472998e-09 9.29188546e-04 9.00008879e-01\n",
      " 7.38290985e-06 6.37182367e-13 5.60683269e-16 7.94725498e-02\n",
      " 1.95719496e-02 7.78461363e-16 1.04322664e-06]\n",
      "surprise [6.67883440e-07 7.95666949e-11 3.33732537e-05 1.85239352e-01\n",
      " 1.20890814e-09 9.16473673e-15 7.60550411e-18 5.40111283e-03\n",
      " 8.09325447e-01 5.52036748e-18 4.59687926e-08]\n"
     ]
    },
    {
     "name": "stderr",
     "output_type": "stream",
     "text": [
      "C:\\Users\\vinay\\AppData\\Roaming\\Python\\Python310\\site-packages\\sklearn\\base.py:445: UserWarning: X does not have valid feature names, but StandardScaler was fitted with feature names\n",
      "  warnings.warn(\n",
      "C:\\Users\\vinay\\AppData\\Roaming\\Python\\Python310\\site-packages\\sklearn\\base.py:445: UserWarning: X does not have valid feature names, but StandardScaler was fitted with feature names\n",
      "  warnings.warn(\n",
      "C:\\Users\\vinay\\AppData\\Roaming\\Python\\Python310\\site-packages\\sklearn\\base.py:445: UserWarning: X does not have valid feature names, but StandardScaler was fitted with feature names\n",
      "  warnings.warn(\n",
      "C:\\Users\\vinay\\AppData\\Roaming\\Python\\Python310\\site-packages\\sklearn\\base.py:445: UserWarning: X does not have valid feature names, but StandardScaler was fitted with feature names\n",
      "  warnings.warn(\n"
     ]
    },
    {
     "name": "stdout",
     "output_type": "stream",
     "text": [
      "surprise [1.39563516e-08 4.07511653e-12 1.09776109e-06 6.74532666e-03\n",
      " 4.92119482e-11 8.11753574e-17 2.45231300e-19 4.21415980e-05\n",
      " 9.93211418e-01 1.51392246e-19 2.18443294e-09]\n",
      "surprise [8.33505151e-09 3.31052745e-12 1.12206423e-06 4.79002018e-03\n",
      " 1.98112323e-11 4.68132234e-17 1.45675986e-19 1.91088851e-05\n",
      " 9.95189737e-01 9.57276399e-20 3.61018914e-09]\n"
     ]
    },
    {
     "name": "stderr",
     "output_type": "stream",
     "text": [
      "C:\\Users\\vinay\\AppData\\Roaming\\Python\\Python310\\site-packages\\sklearn\\base.py:445: UserWarning: X does not have valid feature names, but StandardScaler was fitted with feature names\n",
      "  warnings.warn(\n",
      "C:\\Users\\vinay\\AppData\\Roaming\\Python\\Python310\\site-packages\\sklearn\\base.py:445: UserWarning: X does not have valid feature names, but StandardScaler was fitted with feature names\n",
      "  warnings.warn(\n",
      "C:\\Users\\vinay\\AppData\\Roaming\\Python\\Python310\\site-packages\\sklearn\\base.py:445: UserWarning: X does not have valid feature names, but StandardScaler was fitted with feature names\n",
      "  warnings.warn(\n",
      "C:\\Users\\vinay\\AppData\\Roaming\\Python\\Python310\\site-packages\\sklearn\\base.py:445: UserWarning: X does not have valid feature names, but StandardScaler was fitted with feature names\n",
      "  warnings.warn(\n"
     ]
    },
    {
     "name": "stdout",
     "output_type": "stream",
     "text": [
      "surprise [1.75040662e-08 1.32840263e-12 1.69812767e-06 5.98753704e-03\n",
      " 5.48413788e-12 9.98819284e-17 9.74950152e-20 4.60896982e-05\n",
      " 9.93964652e-01 9.77499592e-20 5.45973662e-09]\n",
      "surprise [4.53379741e-08 2.33483478e-12 3.55286613e-06 9.74556019e-03\n",
      " 4.61902861e-11 2.51105549e-16 2.58817650e-19 4.37844338e-05\n",
      " 9.90207046e-01 3.24810162e-19 1.14756560e-08]\n"
     ]
    },
    {
     "name": "stderr",
     "output_type": "stream",
     "text": [
      "C:\\Users\\vinay\\AppData\\Roaming\\Python\\Python310\\site-packages\\sklearn\\base.py:445: UserWarning: X does not have valid feature names, but StandardScaler was fitted with feature names\n",
      "  warnings.warn(\n",
      "C:\\Users\\vinay\\AppData\\Roaming\\Python\\Python310\\site-packages\\sklearn\\base.py:445: UserWarning: X does not have valid feature names, but StandardScaler was fitted with feature names\n",
      "  warnings.warn(\n",
      "C:\\Users\\vinay\\AppData\\Roaming\\Python\\Python310\\site-packages\\sklearn\\base.py:445: UserWarning: X does not have valid feature names, but StandardScaler was fitted with feature names\n",
      "  warnings.warn(\n",
      "C:\\Users\\vinay\\AppData\\Roaming\\Python\\Python310\\site-packages\\sklearn\\base.py:445: UserWarning: X does not have valid feature names, but StandardScaler was fitted with feature names\n",
      "  warnings.warn(\n"
     ]
    },
    {
     "name": "stdout",
     "output_type": "stream",
     "text": [
      "nervous [2.16113413e-06 9.74073774e-09 2.96458093e-03 6.78610554e-01\n",
      " 5.61780464e-05 1.05569352e-13 2.14348497e-16 1.48427085e-02\n",
      " 3.03519262e-01 8.91250146e-16 4.54558221e-06]\n",
      "nervous [4.06787336e-06 3.20047624e-08 1.28495739e-02 8.50307479e-01\n",
      " 4.47089432e-03 4.51293985e-13 1.08261973e-15 1.25668098e-01\n",
      " 6.68910024e-03 6.85869482e-15 1.07552211e-05]\n"
     ]
    },
    {
     "name": "stderr",
     "output_type": "stream",
     "text": [
      "C:\\Users\\vinay\\AppData\\Roaming\\Python\\Python310\\site-packages\\sklearn\\base.py:445: UserWarning: X does not have valid feature names, but StandardScaler was fitted with feature names\n",
      "  warnings.warn(\n",
      "C:\\Users\\vinay\\AppData\\Roaming\\Python\\Python310\\site-packages\\sklearn\\base.py:445: UserWarning: X does not have valid feature names, but StandardScaler was fitted with feature names\n",
      "  warnings.warn(\n",
      "C:\\Users\\vinay\\AppData\\Roaming\\Python\\Python310\\site-packages\\sklearn\\base.py:445: UserWarning: X does not have valid feature names, but StandardScaler was fitted with feature names\n",
      "  warnings.warn(\n",
      "C:\\Users\\vinay\\AppData\\Roaming\\Python\\Python310\\site-packages\\sklearn\\base.py:445: UserWarning: X does not have valid feature names, but StandardScaler was fitted with feature names\n",
      "  warnings.warn(\n"
     ]
    },
    {
     "name": "stdout",
     "output_type": "stream",
     "text": [
      "nervous [8.18192879e-06 5.08178221e-08 1.45012346e-02 7.91445324e-01\n",
      " 1.70986141e-02 1.87843033e-12 1.91646157e-15 1.74103522e-01\n",
      " 2.81488469e-03 2.36396137e-14 2.81883701e-05]\n",
      "nervous [1.95724848e-05 2.68864721e-08 2.79389232e-02 8.22675642e-01\n",
      " 3.03901896e-03 5.21599342e-12 2.26424038e-15 1.30888807e-01\n",
      " 1.53389378e-02 5.61071504e-14 9.90721043e-05]\n"
     ]
    },
    {
     "name": "stderr",
     "output_type": "stream",
     "text": [
      "C:\\Users\\vinay\\AppData\\Roaming\\Python\\Python310\\site-packages\\sklearn\\base.py:445: UserWarning: X does not have valid feature names, but StandardScaler was fitted with feature names\n",
      "  warnings.warn(\n",
      "C:\\Users\\vinay\\AppData\\Roaming\\Python\\Python310\\site-packages\\sklearn\\base.py:445: UserWarning: X does not have valid feature names, but StandardScaler was fitted with feature names\n",
      "  warnings.warn(\n",
      "C:\\Users\\vinay\\AppData\\Roaming\\Python\\Python310\\site-packages\\sklearn\\base.py:445: UserWarning: X does not have valid feature names, but StandardScaler was fitted with feature names\n",
      "  warnings.warn(\n",
      "C:\\Users\\vinay\\AppData\\Roaming\\Python\\Python310\\site-packages\\sklearn\\base.py:445: UserWarning: X does not have valid feature names, but StandardScaler was fitted with feature names\n",
      "  warnings.warn(\n"
     ]
    },
    {
     "name": "stdout",
     "output_type": "stream",
     "text": [
      "nervous [7.91962364e-06 2.43912505e-07 5.83693069e-03 7.84234890e-01\n",
      " 3.99352421e-08 4.34766003e-11 4.43090121e-15 2.05675371e-01\n",
      " 5.97079541e-04 9.40897096e-14 3.64752512e-03]\n",
      "nervous [1.04547185e-02 8.39197793e-10 3.95334296e-03 9.65836999e-01\n",
      " 1.53903893e-08 7.90866882e-06 2.48394266e-10 3.19219846e-03\n",
      " 1.03402468e-04 9.19465810e-11 1.64514134e-02]\n"
     ]
    },
    {
     "name": "stderr",
     "output_type": "stream",
     "text": [
      "C:\\Users\\vinay\\AppData\\Roaming\\Python\\Python310\\site-packages\\sklearn\\base.py:445: UserWarning: X does not have valid feature names, but StandardScaler was fitted with feature names\n",
      "  warnings.warn(\n",
      "C:\\Users\\vinay\\AppData\\Roaming\\Python\\Python310\\site-packages\\sklearn\\base.py:445: UserWarning: X does not have valid feature names, but StandardScaler was fitted with feature names\n",
      "  warnings.warn(\n",
      "C:\\Users\\vinay\\AppData\\Roaming\\Python\\Python310\\site-packages\\sklearn\\base.py:445: UserWarning: X does not have valid feature names, but StandardScaler was fitted with feature names\n",
      "  warnings.warn(\n",
      "C:\\Users\\vinay\\AppData\\Roaming\\Python\\Python310\\site-packages\\sklearn\\base.py:445: UserWarning: X does not have valid feature names, but StandardScaler was fitted with feature names\n",
      "  warnings.warn(\n"
     ]
    },
    {
     "name": "stdout",
     "output_type": "stream",
     "text": [
      "nervous [4.56951409e-02 2.58816318e-11 3.50893985e-04 9.52990984e-01\n",
      " 3.72790198e-07 1.82244204e-04 1.19162661e-04 2.57928137e-04\n",
      " 4.00172711e-04 1.13763645e-09 3.09919606e-06]\n",
      "sad [1.20448420e-01 9.69237055e-17 1.88535203e-10 1.09290172e-03\n",
      " 2.39225419e-13 8.78429627e-01 2.89492578e-05 2.67730528e-08\n",
      " 3.45290740e-08 5.21485366e-11 4.03821470e-08]\n"
     ]
    },
    {
     "name": "stderr",
     "output_type": "stream",
     "text": [
      "C:\\Users\\vinay\\AppData\\Roaming\\Python\\Python310\\site-packages\\sklearn\\base.py:445: UserWarning: X does not have valid feature names, but StandardScaler was fitted with feature names\n",
      "  warnings.warn(\n",
      "C:\\Users\\vinay\\AppData\\Roaming\\Python\\Python310\\site-packages\\sklearn\\base.py:445: UserWarning: X does not have valid feature names, but StandardScaler was fitted with feature names\n",
      "  warnings.warn(\n",
      "C:\\Users\\vinay\\AppData\\Roaming\\Python\\Python310\\site-packages\\sklearn\\base.py:445: UserWarning: X does not have valid feature names, but StandardScaler was fitted with feature names\n",
      "  warnings.warn(\n",
      "C:\\Users\\vinay\\AppData\\Roaming\\Python\\Python310\\site-packages\\sklearn\\base.py:445: UserWarning: X does not have valid feature names, but StandardScaler was fitted with feature names\n",
      "  warnings.warn(\n"
     ]
    },
    {
     "name": "stdout",
     "output_type": "stream",
     "text": [
      "sad [3.28965631e-02 2.98973940e-18 3.37499834e-12 1.70190446e-04\n",
      " 6.02911037e-16 9.66921768e-01 1.14707262e-05 2.30975606e-09\n",
      " 2.66632424e-09 5.02776338e-12 2.83458453e-09]\n",
      "sad [9.34540922e-02 1.12871197e-18 1.11347534e-12 3.62413640e-04\n",
      " 5.32476684e-16 9.06150549e-01 3.29401464e-05 1.31148026e-09\n",
      " 3.00419588e-09 2.73016616e-12 6.02584623e-10]\n"
     ]
    },
    {
     "name": "stderr",
     "output_type": "stream",
     "text": [
      "C:\\Users\\vinay\\AppData\\Roaming\\Python\\Python310\\site-packages\\sklearn\\base.py:445: UserWarning: X does not have valid feature names, but StandardScaler was fitted with feature names\n",
      "  warnings.warn(\n",
      "C:\\Users\\vinay\\AppData\\Roaming\\Python\\Python310\\site-packages\\sklearn\\base.py:445: UserWarning: X does not have valid feature names, but StandardScaler was fitted with feature names\n",
      "  warnings.warn(\n",
      "C:\\Users\\vinay\\AppData\\Roaming\\Python\\Python310\\site-packages\\sklearn\\base.py:445: UserWarning: X does not have valid feature names, but StandardScaler was fitted with feature names\n",
      "  warnings.warn(\n",
      "C:\\Users\\vinay\\AppData\\Roaming\\Python\\Python310\\site-packages\\sklearn\\base.py:445: UserWarning: X does not have valid feature names, but StandardScaler was fitted with feature names\n",
      "  warnings.warn(\n"
     ]
    },
    {
     "name": "stdout",
     "output_type": "stream",
     "text": [
      "sad [2.44241436e-01 2.35976398e-18 8.35886970e-13 1.48302617e-03\n",
      " 2.98755693e-16 7.54215955e-01 5.95744124e-05 3.73177637e-09\n",
      " 4.13310078e-09 2.33864141e-12 7.49837203e-10]\n",
      "sad [3.16396460e-01 1.08846701e-17 6.76579302e-13 7.38189233e-03\n",
      " 2.05895217e-16 6.76206365e-01 1.52537182e-05 1.47469725e-08\n",
      " 1.33444683e-08 6.36778543e-13 9.38170080e-10]\n"
     ]
    },
    {
     "name": "stderr",
     "output_type": "stream",
     "text": [
      "C:\\Users\\vinay\\AppData\\Roaming\\Python\\Python310\\site-packages\\sklearn\\base.py:445: UserWarning: X does not have valid feature names, but StandardScaler was fitted with feature names\n",
      "  warnings.warn(\n",
      "C:\\Users\\vinay\\AppData\\Roaming\\Python\\Python310\\site-packages\\sklearn\\base.py:445: UserWarning: X does not have valid feature names, but StandardScaler was fitted with feature names\n",
      "  warnings.warn(\n",
      "C:\\Users\\vinay\\AppData\\Roaming\\Python\\Python310\\site-packages\\sklearn\\base.py:445: UserWarning: X does not have valid feature names, but StandardScaler was fitted with feature names\n",
      "  warnings.warn(\n",
      "C:\\Users\\vinay\\AppData\\Roaming\\Python\\Python310\\site-packages\\sklearn\\base.py:445: UserWarning: X does not have valid feature names, but StandardScaler was fitted with feature names\n",
      "  warnings.warn(\n"
     ]
    },
    {
     "name": "stdout",
     "output_type": "stream",
     "text": [
      "angry [7.67676606e-01 7.51043452e-18 8.75770416e-13 1.01257734e-02\n",
      " 7.37800052e-15 2.21994833e-01 2.02743024e-04 2.46781959e-08\n",
      " 1.91787883e-08 1.52604402e-12 1.78118992e-10]\n",
      "angry [7.92019203e-01 1.23451954e-15 8.09586961e-12 1.59667542e-01\n",
      " 8.65752543e-12 2.88786123e-02 1.94319131e-02 7.13573271e-08\n",
      " 2.65757926e-06 1.25222128e-11 4.51626875e-10]\n"
     ]
    },
    {
     "name": "stderr",
     "output_type": "stream",
     "text": [
      "C:\\Users\\vinay\\AppData\\Roaming\\Python\\Python310\\site-packages\\sklearn\\base.py:445: UserWarning: X does not have valid feature names, but StandardScaler was fitted with feature names\n",
      "  warnings.warn(\n",
      "C:\\Users\\vinay\\AppData\\Roaming\\Python\\Python310\\site-packages\\sklearn\\base.py:445: UserWarning: X does not have valid feature names, but StandardScaler was fitted with feature names\n",
      "  warnings.warn(\n",
      "C:\\Users\\vinay\\AppData\\Roaming\\Python\\Python310\\site-packages\\sklearn\\base.py:445: UserWarning: X does not have valid feature names, but StandardScaler was fitted with feature names\n",
      "  warnings.warn(\n",
      "C:\\Users\\vinay\\AppData\\Roaming\\Python\\Python310\\site-packages\\sklearn\\base.py:445: UserWarning: X does not have valid feature names, but StandardScaler was fitted with feature names\n",
      "  warnings.warn(\n"
     ]
    },
    {
     "name": "stdout",
     "output_type": "stream",
     "text": [
      "shame [2.28203805e-02 7.24535218e-14 1.05841857e-09 1.28991137e-01\n",
      " 1.59063553e-07 1.23308768e-04 8.47929099e-01 2.77647076e-08\n",
      " 1.35885626e-04 1.14515853e-10 7.47153034e-10]\n",
      "nervous [5.69037056e-04 4.97428475e-11 8.90392533e-07 6.36728291e-01\n",
      " 5.11447509e-03 1.44279158e-07 3.52935999e-01 2.32598844e-08\n",
      " 4.65113940e-03 1.59796928e-10 3.31554486e-10]\n"
     ]
    },
    {
     "name": "stderr",
     "output_type": "stream",
     "text": [
      "C:\\Users\\vinay\\AppData\\Roaming\\Python\\Python310\\site-packages\\sklearn\\base.py:445: UserWarning: X does not have valid feature names, but StandardScaler was fitted with feature names\n",
      "  warnings.warn(\n",
      "C:\\Users\\vinay\\AppData\\Roaming\\Python\\Python310\\site-packages\\sklearn\\base.py:445: UserWarning: X does not have valid feature names, but StandardScaler was fitted with feature names\n",
      "  warnings.warn(\n",
      "C:\\Users\\vinay\\AppData\\Roaming\\Python\\Python310\\site-packages\\sklearn\\base.py:445: UserWarning: X does not have valid feature names, but StandardScaler was fitted with feature names\n",
      "  warnings.warn(\n",
      "C:\\Users\\vinay\\AppData\\Roaming\\Python\\Python310\\site-packages\\sklearn\\base.py:445: UserWarning: X does not have valid feature names, but StandardScaler was fitted with feature names\n",
      "  warnings.warn(\n"
     ]
    },
    {
     "name": "stdout",
     "output_type": "stream",
     "text": [
      "neutral [5.61308728e-05 5.52192784e-11 4.73554401e-06 2.30975628e-01\n",
      " 3.99462642e-01 3.03372907e-09 3.64471649e-01 1.89327145e-09\n",
      " 5.02920968e-03 8.72712466e-11 2.03064081e-11]\n",
      "neutral [1.03857690e-06 5.21346525e-12 8.92412712e-07 8.73281852e-03\n",
      " 8.20623875e-01 1.20923497e-11 1.70489904e-01 2.01893104e-11\n",
      " 1.51471223e-04 7.28437985e-12 4.86522667e-14]\n"
     ]
    },
    {
     "name": "stderr",
     "output_type": "stream",
     "text": [
      "C:\\Users\\vinay\\AppData\\Roaming\\Python\\Python310\\site-packages\\sklearn\\base.py:445: UserWarning: X does not have valid feature names, but StandardScaler was fitted with feature names\n",
      "  warnings.warn(\n",
      "C:\\Users\\vinay\\AppData\\Roaming\\Python\\Python310\\site-packages\\sklearn\\base.py:445: UserWarning: X does not have valid feature names, but StandardScaler was fitted with feature names\n",
      "  warnings.warn(\n",
      "C:\\Users\\vinay\\AppData\\Roaming\\Python\\Python310\\site-packages\\sklearn\\base.py:445: UserWarning: X does not have valid feature names, but StandardScaler was fitted with feature names\n",
      "  warnings.warn(\n",
      "C:\\Users\\vinay\\AppData\\Roaming\\Python\\Python310\\site-packages\\sklearn\\base.py:445: UserWarning: X does not have valid feature names, but StandardScaler was fitted with feature names\n",
      "  warnings.warn(\n"
     ]
    },
    {
     "name": "stdout",
     "output_type": "stream",
     "text": [
      "shame [4.31836382e-06 4.35755342e-13 2.30457513e-06 1.26352159e-02\n",
      " 4.93400600e-01 2.71628188e-11 4.93913645e-01 1.02503451e-11\n",
      " 4.39157333e-05 7.10149530e-12 1.36401542e-14]\n",
      "shame [1.10140164e-05 1.19841427e-13 5.86796465e-07 1.45992939e-02\n",
      " 1.26357015e-01 2.16552925e-11 8.59001143e-01 1.27896713e-11\n",
      " 3.09478178e-05 3.36333076e-12 2.72259759e-15]\n"
     ]
    },
    {
     "name": "stderr",
     "output_type": "stream",
     "text": [
      "C:\\Users\\vinay\\AppData\\Roaming\\Python\\Python310\\site-packages\\sklearn\\base.py:445: UserWarning: X does not have valid feature names, but StandardScaler was fitted with feature names\n",
      "  warnings.warn(\n",
      "C:\\Users\\vinay\\AppData\\Roaming\\Python\\Python310\\site-packages\\sklearn\\base.py:445: UserWarning: X does not have valid feature names, but StandardScaler was fitted with feature names\n",
      "  warnings.warn(\n",
      "C:\\Users\\vinay\\AppData\\Roaming\\Python\\Python310\\site-packages\\sklearn\\base.py:445: UserWarning: X does not have valid feature names, but StandardScaler was fitted with feature names\n",
      "  warnings.warn(\n",
      "C:\\Users\\vinay\\AppData\\Roaming\\Python\\Python310\\site-packages\\sklearn\\base.py:445: UserWarning: X does not have valid feature names, but StandardScaler was fitted with feature names\n",
      "  warnings.warn(\n"
     ]
    },
    {
     "name": "stdout",
     "output_type": "stream",
     "text": [
      "shame [5.22758060e-05 1.29649186e-14 4.98258030e-08 3.34445095e-02\n",
      " 1.37526956e-03 1.12644922e-10 9.65043273e-01 2.21645482e-11\n",
      " 8.46225145e-05 8.65335520e-13 7.59435046e-15]\n",
      "shame [3.87924153e-04 1.48129456e-14 1.05942832e-08 5.18474300e-02\n",
      " 1.62523073e-04 5.64934170e-09 9.47584872e-01 3.43004447e-10\n",
      " 1.72337807e-05 2.63760768e-12 4.96847980e-13]\n"
     ]
    },
    {
     "name": "stderr",
     "output_type": "stream",
     "text": [
      "C:\\Users\\vinay\\AppData\\Roaming\\Python\\Python310\\site-packages\\sklearn\\base.py:445: UserWarning: X does not have valid feature names, but StandardScaler was fitted with feature names\n",
      "  warnings.warn(\n",
      "C:\\Users\\vinay\\AppData\\Roaming\\Python\\Python310\\site-packages\\sklearn\\base.py:445: UserWarning: X does not have valid feature names, but StandardScaler was fitted with feature names\n",
      "  warnings.warn(\n",
      "C:\\Users\\vinay\\AppData\\Roaming\\Python\\Python310\\site-packages\\sklearn\\base.py:445: UserWarning: X does not have valid feature names, but StandardScaler was fitted with feature names\n",
      "  warnings.warn(\n",
      "C:\\Users\\vinay\\AppData\\Roaming\\Python\\Python310\\site-packages\\sklearn\\base.py:445: UserWarning: X does not have valid feature names, but StandardScaler was fitted with feature names\n",
      "  warnings.warn(\n"
     ]
    },
    {
     "name": "stdout",
     "output_type": "stream",
     "text": [
      "shame [1.36852761e-03 2.96350264e-15 4.59959677e-09 4.04612681e-02\n",
      " 1.84845851e-05 3.78213642e-08 9.58148863e-01 1.39975960e-09\n",
      " 2.81238184e-06 3.86094617e-12 2.07675041e-12]\n",
      "shame [3.48416349e-03 9.20067666e-14 1.94659541e-08 1.10365150e-01\n",
      " 1.95383667e-06 2.72384755e-06 8.86005042e-01 5.50477754e-08\n",
      " 1.40890836e-04 1.49573405e-10 1.60327515e-09]\n"
     ]
    },
    {
     "name": "stderr",
     "output_type": "stream",
     "text": [
      "C:\\Users\\vinay\\AppData\\Roaming\\Python\\Python310\\site-packages\\sklearn\\base.py:445: UserWarning: X does not have valid feature names, but StandardScaler was fitted with feature names\n",
      "  warnings.warn(\n",
      "C:\\Users\\vinay\\AppData\\Roaming\\Python\\Python310\\site-packages\\sklearn\\base.py:445: UserWarning: X does not have valid feature names, but StandardScaler was fitted with feature names\n",
      "  warnings.warn(\n",
      "C:\\Users\\vinay\\AppData\\Roaming\\Python\\Python310\\site-packages\\sklearn\\base.py:445: UserWarning: X does not have valid feature names, but StandardScaler was fitted with feature names\n",
      "  warnings.warn(\n",
      "C:\\Users\\vinay\\AppData\\Roaming\\Python\\Python310\\site-packages\\sklearn\\base.py:445: UserWarning: X does not have valid feature names, but StandardScaler was fitted with feature names\n",
      "  warnings.warn(\n"
     ]
    },
    {
     "name": "stdout",
     "output_type": "stream",
     "text": [
      "shame [9.82741843e-03 2.90795058e-14 3.89934848e-08 1.66988096e-01\n",
      " 2.13931463e-06 4.17418359e-06 8.23131545e-01 7.19282780e-08\n",
      " 4.65143393e-05 1.05706781e-10 1.42815014e-09]\n",
      "shame [1.10127592e-02 1.62258288e-13 3.46679678e-08 2.95074859e-01\n",
      " 5.18644752e-06 4.71992164e-06 6.93798292e-01 2.34162126e-07\n",
      " 1.03912672e-04 1.43555909e-10 1.12716079e-09]\n"
     ]
    },
    {
     "name": "stderr",
     "output_type": "stream",
     "text": [
      "C:\\Users\\vinay\\AppData\\Roaming\\Python\\Python310\\site-packages\\sklearn\\base.py:445: UserWarning: X does not have valid feature names, but StandardScaler was fitted with feature names\n",
      "  warnings.warn(\n",
      "C:\\Users\\vinay\\AppData\\Roaming\\Python\\Python310\\site-packages\\sklearn\\base.py:445: UserWarning: X does not have valid feature names, but StandardScaler was fitted with feature names\n",
      "  warnings.warn(\n",
      "C:\\Users\\vinay\\AppData\\Roaming\\Python\\Python310\\site-packages\\sklearn\\base.py:445: UserWarning: X does not have valid feature names, but StandardScaler was fitted with feature names\n",
      "  warnings.warn(\n",
      "C:\\Users\\vinay\\AppData\\Roaming\\Python\\Python310\\site-packages\\sklearn\\base.py:445: UserWarning: X does not have valid feature names, but StandardScaler was fitted with feature names\n",
      "  warnings.warn(\n"
     ]
    },
    {
     "name": "stdout",
     "output_type": "stream",
     "text": [
      "shame [4.83093117e-03 2.19430628e-14 1.35886778e-08 1.01252522e-01\n",
      " 6.44356857e-06 6.67209328e-07 8.93887216e-01 3.41530829e-08\n",
      " 2.21721549e-05 3.87106151e-11 1.09004355e-10]\n",
      "shame [3.61424752e-03 2.53369267e-14 1.47371432e-08 1.00097032e-01\n",
      " 1.22867279e-05 5.87325695e-07 8.96247261e-01 1.75334378e-08\n",
      " 2.85526405e-05 3.72675084e-11 1.14775405e-10]\n"
     ]
    },
    {
     "name": "stderr",
     "output_type": "stream",
     "text": [
      "C:\\Users\\vinay\\AppData\\Roaming\\Python\\Python310\\site-packages\\sklearn\\base.py:445: UserWarning: X does not have valid feature names, but StandardScaler was fitted with feature names\n",
      "  warnings.warn(\n",
      "C:\\Users\\vinay\\AppData\\Roaming\\Python\\Python310\\site-packages\\sklearn\\base.py:445: UserWarning: X does not have valid feature names, but StandardScaler was fitted with feature names\n",
      "  warnings.warn(\n",
      "C:\\Users\\vinay\\AppData\\Roaming\\Python\\Python310\\site-packages\\sklearn\\base.py:445: UserWarning: X does not have valid feature names, but StandardScaler was fitted with feature names\n",
      "  warnings.warn(\n",
      "C:\\Users\\vinay\\AppData\\Roaming\\Python\\Python310\\site-packages\\sklearn\\base.py:445: UserWarning: X does not have valid feature names, but StandardScaler was fitted with feature names\n",
      "  warnings.warn(\n"
     ]
    },
    {
     "name": "stdout",
     "output_type": "stream",
     "text": [
      "shame [6.79415422e-03 2.16660788e-14 2.03034444e-08 1.57442834e-01\n",
      " 9.64753527e-06 1.37875241e-06 8.35695582e-01 1.43998061e-08\n",
      " 5.63687668e-05 4.14332642e-11 2.76829942e-10]\n",
      "shame [2.23813620e-02 1.24485459e-13 4.73388659e-08 3.73398393e-01\n",
      " 9.22457592e-06 2.42030771e-06 6.04026591e-01 1.24253961e-07\n",
      " 1.81835984e-04 1.22807097e-10 7.97908319e-10]\n"
     ]
    },
    {
     "name": "stderr",
     "output_type": "stream",
     "text": [
      "C:\\Users\\vinay\\AppData\\Roaming\\Python\\Python310\\site-packages\\sklearn\\base.py:445: UserWarning: X does not have valid feature names, but StandardScaler was fitted with feature names\n",
      "  warnings.warn(\n",
      "C:\\Users\\vinay\\AppData\\Roaming\\Python\\Python310\\site-packages\\sklearn\\base.py:445: UserWarning: X does not have valid feature names, but StandardScaler was fitted with feature names\n",
      "  warnings.warn(\n",
      "C:\\Users\\vinay\\AppData\\Roaming\\Python\\Python310\\site-packages\\sklearn\\base.py:445: UserWarning: X does not have valid feature names, but StandardScaler was fitted with feature names\n",
      "  warnings.warn(\n",
      "C:\\Users\\vinay\\AppData\\Roaming\\Python\\Python310\\site-packages\\sklearn\\base.py:445: UserWarning: X does not have valid feature names, but StandardScaler was fitted with feature names\n",
      "  warnings.warn(\n"
     ]
    },
    {
     "name": "stdout",
     "output_type": "stream",
     "text": [
      "nervous [4.66392378e-02 8.89361307e-14 3.71686674e-08 9.49634431e-01\n",
      " 2.25808472e-07 2.83742147e-07 3.70952290e-03 2.30151924e-06\n",
      " 1.39587506e-05 7.67433728e-12 1.30517946e-09]\n",
      "nervous [9.09311394e-04 2.63897083e-12 2.43951309e-06 9.98975711e-01\n",
      " 2.30397429e-10 3.65054117e-08 4.43353501e-09 3.02146067e-05\n",
      " 7.01988565e-05 2.12127760e-13 1.20834054e-05]\n"
     ]
    },
    {
     "name": "stderr",
     "output_type": "stream",
     "text": [
      "C:\\Users\\vinay\\AppData\\Roaming\\Python\\Python310\\site-packages\\sklearn\\base.py:445: UserWarning: X does not have valid feature names, but StandardScaler was fitted with feature names\n",
      "  warnings.warn(\n",
      "C:\\Users\\vinay\\AppData\\Roaming\\Python\\Python310\\site-packages\\sklearn\\base.py:445: UserWarning: X does not have valid feature names, but StandardScaler was fitted with feature names\n",
      "  warnings.warn(\n",
      "C:\\Users\\vinay\\AppData\\Roaming\\Python\\Python310\\site-packages\\sklearn\\base.py:445: UserWarning: X does not have valid feature names, but StandardScaler was fitted with feature names\n",
      "  warnings.warn(\n",
      "C:\\Users\\vinay\\AppData\\Roaming\\Python\\Python310\\site-packages\\sklearn\\base.py:445: UserWarning: X does not have valid feature names, but StandardScaler was fitted with feature names\n",
      "  warnings.warn(\n"
     ]
    },
    {
     "name": "stdout",
     "output_type": "stream",
     "text": [
      "nervous [1.27629329e-03 5.86272007e-12 3.67803769e-06 9.98128602e-01\n",
      " 4.27461452e-11 6.83921806e-08 1.31110684e-11 3.52812943e-04\n",
      " 2.65983759e-05 1.23620286e-13 2.11946455e-04]\n",
      "nervous [4.51817371e-02 1.19496475e-14 3.12880831e-07 9.52432031e-01\n",
      " 7.63707753e-15 3.15067597e-05 3.29103077e-13 1.32603550e-04\n",
      " 5.21824911e-07 6.12822848e-14 2.22128676e-03]\n"
     ]
    },
    {
     "name": "stderr",
     "output_type": "stream",
     "text": [
      "C:\\Users\\vinay\\AppData\\Roaming\\Python\\Python310\\site-packages\\sklearn\\base.py:445: UserWarning: X does not have valid feature names, but StandardScaler was fitted with feature names\n",
      "  warnings.warn(\n",
      "C:\\Users\\vinay\\AppData\\Roaming\\Python\\Python310\\site-packages\\sklearn\\base.py:445: UserWarning: X does not have valid feature names, but StandardScaler was fitted with feature names\n",
      "  warnings.warn(\n",
      "C:\\Users\\vinay\\AppData\\Roaming\\Python\\Python310\\site-packages\\sklearn\\base.py:445: UserWarning: X does not have valid feature names, but StandardScaler was fitted with feature names\n",
      "  warnings.warn(\n",
      "C:\\Users\\vinay\\AppData\\Roaming\\Python\\Python310\\site-packages\\sklearn\\base.py:445: UserWarning: X does not have valid feature names, but StandardScaler was fitted with feature names\n",
      "  warnings.warn(\n"
     ]
    },
    {
     "name": "stdout",
     "output_type": "stream",
     "text": [
      "nervous [4.52574418e-01 1.23255811e-16 8.66813434e-09 5.45794519e-01\n",
      " 1.78294689e-17 2.03942659e-04 2.38865959e-13 3.91262652e-04\n",
      " 9.53492203e-09 1.41462191e-14 1.03583862e-03]\n",
      "nervous [2.54097941e-02 1.13008402e-15 7.96169194e-11 9.71047334e-01\n",
      " 8.87310709e-20 3.47453390e-05 1.18403316e-17 3.07738498e-03\n",
      " 9.66636809e-09 1.61639169e-17 4.30731745e-04]\n"
     ]
    },
    {
     "name": "stderr",
     "output_type": "stream",
     "text": [
      "C:\\Users\\vinay\\AppData\\Roaming\\Python\\Python310\\site-packages\\sklearn\\base.py:445: UserWarning: X does not have valid feature names, but StandardScaler was fitted with feature names\n",
      "  warnings.warn(\n",
      "C:\\Users\\vinay\\AppData\\Roaming\\Python\\Python310\\site-packages\\sklearn\\base.py:445: UserWarning: X does not have valid feature names, but StandardScaler was fitted with feature names\n",
      "  warnings.warn(\n"
     ]
    },
    {
     "name": "stdout",
     "output_type": "stream",
     "text": [
      "angry [9.97618367e-01 3.16759478e-24 1.48556219e-13 4.07358619e-04\n",
      " 5.28720260e-25 1.05499724e-03 3.03833766e-16 9.19181471e-04\n",
      " 3.75469356e-11 1.77265398e-18 9.52662646e-08]\n"
     ]
    },
    {
     "name": "stderr",
     "output_type": "stream",
     "text": [
      "C:\\Users\\vinay\\AppData\\Roaming\\Python\\Python310\\site-packages\\sklearn\\base.py:445: UserWarning: X does not have valid feature names, but StandardScaler was fitted with feature names\n",
      "  warnings.warn(\n",
      "C:\\Users\\vinay\\AppData\\Roaming\\Python\\Python310\\site-packages\\sklearn\\base.py:445: UserWarning: X does not have valid feature names, but StandardScaler was fitted with feature names\n",
      "  warnings.warn(\n",
      "C:\\Users\\vinay\\AppData\\Roaming\\Python\\Python310\\site-packages\\sklearn\\base.py:445: UserWarning: X does not have valid feature names, but StandardScaler was fitted with feature names\n",
      "  warnings.warn(\n",
      "C:\\Users\\vinay\\AppData\\Roaming\\Python\\Python310\\site-packages\\sklearn\\base.py:445: UserWarning: X does not have valid feature names, but StandardScaler was fitted with feature names\n",
      "  warnings.warn(\n"
     ]
    },
    {
     "name": "stdout",
     "output_type": "stream",
     "text": [
      "sad [2.60611074e-02 7.43079862e-37 8.44904117e-28 1.05547638e-11\n",
      " 9.85612879e-37 9.73938893e-01 1.00250731e-14 4.75415527e-13\n",
      " 5.24328911e-21 1.78845280e-23 2.85783380e-17]\n",
      "sad [9.50745726e-02 1.90680390e-37 6.59904233e-27 4.87499772e-11\n",
      " 7.58230513e-37 9.04925427e-01 4.18393548e-15 7.23854526e-11\n",
      " 1.00420799e-21 1.77979495e-23 2.41872748e-17]\n"
     ]
    },
    {
     "name": "stderr",
     "output_type": "stream",
     "text": [
      "C:\\Users\\vinay\\AppData\\Roaming\\Python\\Python310\\site-packages\\sklearn\\base.py:445: UserWarning: X does not have valid feature names, but StandardScaler was fitted with feature names\n",
      "  warnings.warn(\n",
      "C:\\Users\\vinay\\AppData\\Roaming\\Python\\Python310\\site-packages\\sklearn\\base.py:445: UserWarning: X does not have valid feature names, but StandardScaler was fitted with feature names\n",
      "  warnings.warn(\n",
      "C:\\Users\\vinay\\AppData\\Roaming\\Python\\Python310\\site-packages\\sklearn\\base.py:445: UserWarning: X does not have valid feature names, but StandardScaler was fitted with feature names\n",
      "  warnings.warn(\n",
      "C:\\Users\\vinay\\AppData\\Roaming\\Python\\Python310\\site-packages\\sklearn\\base.py:445: UserWarning: X does not have valid feature names, but StandardScaler was fitted with feature names\n",
      "  warnings.warn(\n"
     ]
    },
    {
     "name": "stdout",
     "output_type": "stream",
     "text": [
      "sad [3.05823569e-01 7.94163524e-35 3.83404778e-24 1.32740043e-09\n",
      " 2.99023133e-33 6.94176428e-01 7.76002750e-15 1.94690569e-09\n",
      " 5.23404681e-20 4.18776996e-22 1.15314086e-15]\n",
      "angry [8.96109982e-01 3.73542553e-32 2.29114805e-21 1.03928677e-07\n",
      " 2.15422164e-30 1.03889191e-01 6.65266969e-15 7.22592696e-07\n",
      " 3.41908989e-18 2.22257734e-21 7.35629866e-14]\n"
     ]
    },
    {
     "name": "stderr",
     "output_type": "stream",
     "text": [
      "C:\\Users\\vinay\\AppData\\Roaming\\Python\\Python310\\site-packages\\sklearn\\base.py:445: UserWarning: X does not have valid feature names, but StandardScaler was fitted with feature names\n",
      "  warnings.warn(\n",
      "C:\\Users\\vinay\\AppData\\Roaming\\Python\\Python310\\site-packages\\sklearn\\base.py:445: UserWarning: X does not have valid feature names, but StandardScaler was fitted with feature names\n",
      "  warnings.warn(\n",
      "C:\\Users\\vinay\\AppData\\Roaming\\Python\\Python310\\site-packages\\sklearn\\base.py:445: UserWarning: X does not have valid feature names, but StandardScaler was fitted with feature names\n",
      "  warnings.warn(\n",
      "C:\\Users\\vinay\\AppData\\Roaming\\Python\\Python310\\site-packages\\sklearn\\base.py:445: UserWarning: X does not have valid feature names, but StandardScaler was fitted with feature names\n",
      "  warnings.warn(\n"
     ]
    },
    {
     "name": "stdout",
     "output_type": "stream",
     "text": [
      "angry [9.66598697e-01 3.49327543e-30 9.69100678e-20 5.02710030e-07\n",
      " 5.14621130e-27 3.33989029e-02 8.31074179e-14 1.89730330e-06\n",
      " 6.48486767e-17 3.22466183e-20 4.09912907e-13]\n",
      "angry [9.83846898e-01 4.63176387e-29 2.46064432e-19 1.09930109e-06\n",
      " 8.36143391e-27 1.61460949e-02 5.17170233e-14 5.90771312e-06\n",
      " 2.83516256e-16 1.64702174e-20 7.61498467e-13]\n"
     ]
    },
    {
     "name": "stderr",
     "output_type": "stream",
     "text": [
      "C:\\Users\\vinay\\AppData\\Roaming\\Python\\Python310\\site-packages\\sklearn\\base.py:445: UserWarning: X does not have valid feature names, but StandardScaler was fitted with feature names\n",
      "  warnings.warn(\n",
      "C:\\Users\\vinay\\AppData\\Roaming\\Python\\Python310\\site-packages\\sklearn\\base.py:445: UserWarning: X does not have valid feature names, but StandardScaler was fitted with feature names\n",
      "  warnings.warn(\n",
      "C:\\Users\\vinay\\AppData\\Roaming\\Python\\Python310\\site-packages\\sklearn\\base.py:445: UserWarning: X does not have valid feature names, but StandardScaler was fitted with feature names\n",
      "  warnings.warn(\n",
      "C:\\Users\\vinay\\AppData\\Roaming\\Python\\Python310\\site-packages\\sklearn\\base.py:445: UserWarning: X does not have valid feature names, but StandardScaler was fitted with feature names\n",
      "  warnings.warn(\n"
     ]
    },
    {
     "name": "stdout",
     "output_type": "stream",
     "text": [
      "angry [9.86532393e-01 4.57422320e-29 3.15559279e-19 7.20642631e-07\n",
      " 1.00956269e-25 1.34650662e-02 7.16481173e-14 1.81973668e-06\n",
      " 3.78499558e-16 5.30512855e-20 5.47913294e-13]\n",
      "angry [9.65403341e-01 4.25116174e-29 3.45695194e-19 5.58931914e-07\n",
      " 2.35950536e-26 3.45936237e-02 5.43389736e-14 2.47615723e-06\n",
      " 1.56694679e-16 6.25022925e-20 7.52374732e-13]\n"
     ]
    },
    {
     "name": "stderr",
     "output_type": "stream",
     "text": [
      "C:\\Users\\vinay\\AppData\\Roaming\\Python\\Python310\\site-packages\\sklearn\\base.py:445: UserWarning: X does not have valid feature names, but StandardScaler was fitted with feature names\n",
      "  warnings.warn(\n",
      "C:\\Users\\vinay\\AppData\\Roaming\\Python\\Python310\\site-packages\\sklearn\\base.py:445: UserWarning: X does not have valid feature names, but StandardScaler was fitted with feature names\n",
      "  warnings.warn(\n",
      "C:\\Users\\vinay\\AppData\\Roaming\\Python\\Python310\\site-packages\\sklearn\\base.py:445: UserWarning: X does not have valid feature names, but StandardScaler was fitted with feature names\n",
      "  warnings.warn(\n",
      "C:\\Users\\vinay\\AppData\\Roaming\\Python\\Python310\\site-packages\\sklearn\\base.py:445: UserWarning: X does not have valid feature names, but StandardScaler was fitted with feature names\n",
      "  warnings.warn(\n"
     ]
    },
    {
     "name": "stdout",
     "output_type": "stream",
     "text": [
      "angry [9.80258968e-01 2.67742777e-29 2.71699018e-19 3.25360180e-07\n",
      " 4.63398476e-26 1.97390483e-02 7.98500229e-14 1.65833772e-06\n",
      " 7.69325375e-17 5.59705898e-20 2.90749081e-13]\n",
      "angry [9.91206671e-01 1.26040334e-29 7.41559886e-19 3.45490092e-07\n",
      " 1.28626749e-26 8.79043702e-03 2.34895915e-14 2.54689548e-06\n",
      " 2.48785277e-17 2.06916908e-20 2.52400429e-13]\n"
     ]
    },
    {
     "name": "stderr",
     "output_type": "stream",
     "text": [
      "C:\\Users\\vinay\\AppData\\Roaming\\Python\\Python310\\site-packages\\sklearn\\base.py:445: UserWarning: X does not have valid feature names, but StandardScaler was fitted with feature names\n",
      "  warnings.warn(\n",
      "C:\\Users\\vinay\\AppData\\Roaming\\Python\\Python310\\site-packages\\sklearn\\base.py:445: UserWarning: X does not have valid feature names, but StandardScaler was fitted with feature names\n",
      "  warnings.warn(\n",
      "C:\\Users\\vinay\\AppData\\Roaming\\Python\\Python310\\site-packages\\sklearn\\base.py:445: UserWarning: X does not have valid feature names, but StandardScaler was fitted with feature names\n",
      "  warnings.warn(\n",
      "C:\\Users\\vinay\\AppData\\Roaming\\Python\\Python310\\site-packages\\sklearn\\base.py:445: UserWarning: X does not have valid feature names, but StandardScaler was fitted with feature names\n",
      "  warnings.warn(\n"
     ]
    },
    {
     "name": "stdout",
     "output_type": "stream",
     "text": [
      "angry [9.97698179e-01 4.27723689e-29 2.11168139e-18 1.19524387e-06\n",
      " 4.35515456e-26 2.29290717e-03 5.00005629e-15 7.71851910e-06\n",
      " 6.03894208e-17 9.02865550e-21 4.68060387e-13]\n",
      "angry [9.98960263e-01 7.21492152e-29 1.03474223e-17 2.25165782e-06\n",
      " 2.80863837e-25 1.03549942e-03 6.05603568e-15 1.98633643e-06\n",
      " 1.40253314e-16 9.66958052e-21 6.86940547e-13]\n"
     ]
    },
    {
     "name": "stderr",
     "output_type": "stream",
     "text": [
      "C:\\Users\\vinay\\AppData\\Roaming\\Python\\Python310\\site-packages\\sklearn\\base.py:445: UserWarning: X does not have valid feature names, but StandardScaler was fitted with feature names\n",
      "  warnings.warn(\n",
      "C:\\Users\\vinay\\AppData\\Roaming\\Python\\Python310\\site-packages\\sklearn\\base.py:445: UserWarning: X does not have valid feature names, but StandardScaler was fitted with feature names\n",
      "  warnings.warn(\n",
      "C:\\Users\\vinay\\AppData\\Roaming\\Python\\Python310\\site-packages\\sklearn\\base.py:445: UserWarning: X does not have valid feature names, but StandardScaler was fitted with feature names\n",
      "  warnings.warn(\n",
      "C:\\Users\\vinay\\AppData\\Roaming\\Python\\Python310\\site-packages\\sklearn\\base.py:445: UserWarning: X does not have valid feature names, but StandardScaler was fitted with feature names\n",
      "  warnings.warn(\n"
     ]
    },
    {
     "name": "stdout",
     "output_type": "stream",
     "text": [
      "angry [9.99188560e-01 2.86400351e-28 2.78930219e-17 3.44935268e-06\n",
      " 7.19330022e-25 8.05116183e-04 3.88791370e-15 2.87423452e-06\n",
      " 9.98679513e-16 1.07029348e-20 2.28924132e-12]\n",
      "angry [9.97809982e-01 1.28124059e-26 6.50746171e-17 7.20494915e-06\n",
      " 9.82839733e-23 2.18235830e-03 3.18612001e-14 4.54335767e-07\n",
      " 4.02197163e-14 1.19713514e-19 1.96757903e-11]\n"
     ]
    },
    {
     "name": "stderr",
     "output_type": "stream",
     "text": [
      "C:\\Users\\vinay\\AppData\\Roaming\\Python\\Python310\\site-packages\\sklearn\\base.py:445: UserWarning: X does not have valid feature names, but StandardScaler was fitted with feature names\n",
      "  warnings.warn(\n",
      "C:\\Users\\vinay\\AppData\\Roaming\\Python\\Python310\\site-packages\\sklearn\\base.py:445: UserWarning: X does not have valid feature names, but StandardScaler was fitted with feature names\n",
      "  warnings.warn(\n",
      "C:\\Users\\vinay\\AppData\\Roaming\\Python\\Python310\\site-packages\\sklearn\\base.py:445: UserWarning: X does not have valid feature names, but StandardScaler was fitted with feature names\n",
      "  warnings.warn(\n",
      "C:\\Users\\vinay\\AppData\\Roaming\\Python\\Python310\\site-packages\\sklearn\\base.py:445: UserWarning: X does not have valid feature names, but StandardScaler was fitted with feature names\n",
      "  warnings.warn(\n"
     ]
    },
    {
     "name": "stdout",
     "output_type": "stream",
     "text": [
      "angry [9.99007232e-01 5.25654461e-27 3.51434630e-17 5.46113208e-06\n",
      " 1.32993264e-22 9.86375608e-04 3.71216786e-14 9.31380283e-07\n",
      " 8.40314757e-15 9.23296069e-20 4.42245543e-12]\n",
      "angry [9.99468091e-01 3.13339474e-27 2.61699144e-17 7.01538595e-06\n",
      " 1.52374695e-23 5.15077571e-04 1.55949091e-14 9.81623206e-06\n",
      " 4.96254625e-15 3.21974503e-20 1.99384107e-12]\n"
     ]
    },
    {
     "name": "stderr",
     "output_type": "stream",
     "text": [
      "C:\\Users\\vinay\\AppData\\Roaming\\Python\\Python310\\site-packages\\sklearn\\base.py:445: UserWarning: X does not have valid feature names, but StandardScaler was fitted with feature names\n",
      "  warnings.warn(\n",
      "C:\\Users\\vinay\\AppData\\Roaming\\Python\\Python310\\site-packages\\sklearn\\base.py:445: UserWarning: X does not have valid feature names, but StandardScaler was fitted with feature names\n",
      "  warnings.warn(\n",
      "C:\\Users\\vinay\\AppData\\Roaming\\Python\\Python310\\site-packages\\sklearn\\base.py:445: UserWarning: X does not have valid feature names, but StandardScaler was fitted with feature names\n",
      "  warnings.warn(\n",
      "C:\\Users\\vinay\\AppData\\Roaming\\Python\\Python310\\site-packages\\sklearn\\base.py:445: UserWarning: X does not have valid feature names, but StandardScaler was fitted with feature names\n",
      "  warnings.warn(\n"
     ]
    },
    {
     "name": "stdout",
     "output_type": "stream",
     "text": [
      "angry [9.98623085e-01 1.53269472e-26 1.02738203e-16 1.09013855e-05\n",
      " 6.43313486e-22 1.36506580e-03 4.73932057e-14 9.47553024e-07\n",
      " 7.29308591e-14 1.45816925e-19 2.04992395e-11]\n",
      "angry [9.98896328e-01 8.79080360e-27 1.34403781e-16 1.10549171e-05\n",
      " 3.89744561e-22 1.09185105e-03 1.93554027e-14 7.66073222e-07\n",
      " 7.09982767e-14 8.80261590e-20 2.40007193e-11]\n"
     ]
    },
    {
     "name": "stderr",
     "output_type": "stream",
     "text": [
      "C:\\Users\\vinay\\AppData\\Roaming\\Python\\Python310\\site-packages\\sklearn\\base.py:445: UserWarning: X does not have valid feature names, but StandardScaler was fitted with feature names\n",
      "  warnings.warn(\n",
      "C:\\Users\\vinay\\AppData\\Roaming\\Python\\Python310\\site-packages\\sklearn\\base.py:445: UserWarning: X does not have valid feature names, but StandardScaler was fitted with feature names\n",
      "  warnings.warn(\n",
      "C:\\Users\\vinay\\AppData\\Roaming\\Python\\Python310\\site-packages\\sklearn\\base.py:445: UserWarning: X does not have valid feature names, but StandardScaler was fitted with feature names\n",
      "  warnings.warn(\n",
      "C:\\Users\\vinay\\AppData\\Roaming\\Python\\Python310\\site-packages\\sklearn\\base.py:445: UserWarning: X does not have valid feature names, but StandardScaler was fitted with feature names\n",
      "  warnings.warn(\n"
     ]
    },
    {
     "name": "stdout",
     "output_type": "stream",
     "text": [
      "angry [9.99348708e-01 3.48747364e-26 2.24788086e-16 2.64539857e-05\n",
      " 9.05402835e-22 6.23699032e-04 1.42718651e-14 1.13915386e-06\n",
      " 2.18931341e-13 7.08855539e-20 4.44447128e-11]\n",
      "angry [9.99466006e-01 1.45254381e-26 2.94926961e-16 3.31734098e-05\n",
      " 2.39085664e-22 4.96778134e-04 3.59726114e-15 4.04200007e-06\n",
      " 1.06859713e-13 3.60498130e-20 4.25226292e-11]\n"
     ]
    },
    {
     "name": "stderr",
     "output_type": "stream",
     "text": [
      "C:\\Users\\vinay\\AppData\\Roaming\\Python\\Python310\\site-packages\\sklearn\\base.py:445: UserWarning: X does not have valid feature names, but StandardScaler was fitted with feature names\n",
      "  warnings.warn(\n",
      "C:\\Users\\vinay\\AppData\\Roaming\\Python\\Python310\\site-packages\\sklearn\\base.py:445: UserWarning: X does not have valid feature names, but StandardScaler was fitted with feature names\n",
      "  warnings.warn(\n",
      "C:\\Users\\vinay\\AppData\\Roaming\\Python\\Python310\\site-packages\\sklearn\\base.py:445: UserWarning: X does not have valid feature names, but StandardScaler was fitted with feature names\n",
      "  warnings.warn(\n",
      "C:\\Users\\vinay\\AppData\\Roaming\\Python\\Python310\\site-packages\\sklearn\\base.py:445: UserWarning: X does not have valid feature names, but StandardScaler was fitted with feature names\n",
      "  warnings.warn(\n"
     ]
    },
    {
     "name": "stdout",
     "output_type": "stream",
     "text": [
      "angry [9.99498825e-01 4.28742609e-27 4.52281697e-16 6.05805292e-05\n",
      " 4.61692044e-24 1.82435400e-04 5.25129466e-16 2.58159357e-04\n",
      " 1.37784261e-14 7.06603006e-21 1.50031039e-11]\n",
      "angry [9.99661894e-01 1.33637124e-26 4.27072331e-16 6.30154697e-05\n",
      " 2.06541162e-23 8.63925400e-05 1.95202015e-15 1.88697955e-04\n",
      " 3.24166626e-14 9.60258604e-21 1.27339649e-11]\n"
     ]
    },
    {
     "name": "stderr",
     "output_type": "stream",
     "text": [
      "C:\\Users\\vinay\\AppData\\Roaming\\Python\\Python310\\site-packages\\sklearn\\base.py:445: UserWarning: X does not have valid feature names, but StandardScaler was fitted with feature names\n",
      "  warnings.warn(\n",
      "C:\\Users\\vinay\\AppData\\Roaming\\Python\\Python310\\site-packages\\sklearn\\base.py:445: UserWarning: X does not have valid feature names, but StandardScaler was fitted with feature names\n",
      "  warnings.warn(\n",
      "C:\\Users\\vinay\\AppData\\Roaming\\Python\\Python310\\site-packages\\sklearn\\base.py:445: UserWarning: X does not have valid feature names, but StandardScaler was fitted with feature names\n",
      "  warnings.warn(\n",
      "C:\\Users\\vinay\\AppData\\Roaming\\Python\\Python310\\site-packages\\sklearn\\base.py:445: UserWarning: X does not have valid feature names, but StandardScaler was fitted with feature names\n",
      "  warnings.warn(\n"
     ]
    },
    {
     "name": "stdout",
     "output_type": "stream",
     "text": [
      "angry [9.99552850e-01 7.50149604e-26 5.84361201e-16 1.07170863e-04\n",
      " 1.24799387e-22 1.01509004e-04 6.76205030e-15 2.38470330e-04\n",
      " 1.13119544e-13 2.23938614e-20 2.91205941e-11]\n",
      "angry [9.99197201e-01 3.68305694e-25 5.61544243e-16 1.47574138e-04\n",
      " 4.93275407e-22 1.09498904e-04 5.93080050e-15 5.45725863e-04\n",
      " 1.73163499e-13 3.23097209e-20 2.85082083e-11]\n"
     ]
    },
    {
     "name": "stderr",
     "output_type": "stream",
     "text": [
      "C:\\Users\\vinay\\AppData\\Roaming\\Python\\Python310\\site-packages\\sklearn\\base.py:445: UserWarning: X does not have valid feature names, but StandardScaler was fitted with feature names\n",
      "  warnings.warn(\n",
      "C:\\Users\\vinay\\AppData\\Roaming\\Python\\Python310\\site-packages\\sklearn\\base.py:445: UserWarning: X does not have valid feature names, but StandardScaler was fitted with feature names\n",
      "  warnings.warn(\n",
      "C:\\Users\\vinay\\AppData\\Roaming\\Python\\Python310\\site-packages\\sklearn\\base.py:445: UserWarning: X does not have valid feature names, but StandardScaler was fitted with feature names\n",
      "  warnings.warn(\n",
      "C:\\Users\\vinay\\AppData\\Roaming\\Python\\Python310\\site-packages\\sklearn\\base.py:445: UserWarning: X does not have valid feature names, but StandardScaler was fitted with feature names\n",
      "  warnings.warn(\n"
     ]
    },
    {
     "name": "stdout",
     "output_type": "stream",
     "text": [
      "angry [9.99316039e-01 2.36562390e-25 9.43176742e-16 1.84959469e-04\n",
      " 4.62590955e-22 1.04363939e-04 2.89090665e-15 3.94637671e-04\n",
      " 1.97659865e-13 2.45956832e-20 4.86215863e-11]\n",
      "angry [9.98737415e-01 1.32277460e-24 2.68423385e-15 3.84278457e-04\n",
      " 2.65029906e-21 1.38450683e-04 4.54178529e-15 7.39855268e-04\n",
      " 2.29394014e-12 1.02817999e-19 2.25340441e-10]\n"
     ]
    },
    {
     "name": "stderr",
     "output_type": "stream",
     "text": [
      "C:\\Users\\vinay\\AppData\\Roaming\\Python\\Python310\\site-packages\\sklearn\\base.py:445: UserWarning: X does not have valid feature names, but StandardScaler was fitted with feature names\n",
      "  warnings.warn(\n",
      "C:\\Users\\vinay\\AppData\\Roaming\\Python\\Python310\\site-packages\\sklearn\\base.py:445: UserWarning: X does not have valid feature names, but StandardScaler was fitted with feature names\n",
      "  warnings.warn(\n",
      "C:\\Users\\vinay\\AppData\\Roaming\\Python\\Python310\\site-packages\\sklearn\\base.py:445: UserWarning: X does not have valid feature names, but StandardScaler was fitted with feature names\n",
      "  warnings.warn(\n",
      "C:\\Users\\vinay\\AppData\\Roaming\\Python\\Python310\\site-packages\\sklearn\\base.py:445: UserWarning: X does not have valid feature names, but StandardScaler was fitted with feature names\n",
      "  warnings.warn(\n"
     ]
    },
    {
     "name": "stdout",
     "output_type": "stream",
     "text": [
      "angry [9.88573884e-01 4.51569567e-22 2.74001278e-14 4.00360230e-03\n",
      " 6.55775611e-20 1.72765423e-05 1.18533045e-15 7.40523490e-03\n",
      " 4.24421639e-10 2.04104449e-19 1.44871745e-09]\n",
      "angry [7.94900640e-01 3.85913420e-18 2.67078405e-12 6.91962972e-02\n",
      " 1.31136181e-15 5.55257001e-07 8.22424933e-15 1.35902249e-01\n",
      " 2.07539924e-07 4.57715113e-18 5.05118463e-08]\n"
     ]
    },
    {
     "name": "stderr",
     "output_type": "stream",
     "text": [
      "C:\\Users\\vinay\\AppData\\Roaming\\Python\\Python310\\site-packages\\sklearn\\base.py:445: UserWarning: X does not have valid feature names, but StandardScaler was fitted with feature names\n",
      "  warnings.warn(\n",
      "C:\\Users\\vinay\\AppData\\Roaming\\Python\\Python310\\site-packages\\sklearn\\base.py:445: UserWarning: X does not have valid feature names, but StandardScaler was fitted with feature names\n",
      "  warnings.warn(\n",
      "C:\\Users\\vinay\\AppData\\Roaming\\Python\\Python310\\site-packages\\sklearn\\base.py:445: UserWarning: X does not have valid feature names, but StandardScaler was fitted with feature names\n",
      "  warnings.warn(\n",
      "C:\\Users\\vinay\\AppData\\Roaming\\Python\\Python310\\site-packages\\sklearn\\base.py:445: UserWarning: X does not have valid feature names, but StandardScaler was fitted with feature names\n",
      "  warnings.warn(\n"
     ]
    },
    {
     "name": "stdout",
     "output_type": "stream",
     "text": [
      "smile [7.20824758e-02 7.09292179e-16 6.25283137e-10 4.11209723e-01\n",
      " 1.37037085e-12 8.68574015e-09 1.88475895e-15 5.16703305e-01\n",
      " 4.04565794e-06 7.08732360e-18 4.41754356e-07]\n",
      "nervous [2.08746107e-04 4.60352909e-14 1.02896836e-08 9.87043744e-01\n",
      " 1.22144294e-13 7.73112256e-11 3.09750680e-16 1.27361179e-02\n",
      " 6.07745456e-06 7.42125674e-19 5.30421173e-06]\n"
     ]
    },
    {
     "name": "stderr",
     "output_type": "stream",
     "text": [
      "C:\\Users\\vinay\\AppData\\Roaming\\Python\\Python310\\site-packages\\sklearn\\base.py:445: UserWarning: X does not have valid feature names, but StandardScaler was fitted with feature names\n",
      "  warnings.warn(\n",
      "C:\\Users\\vinay\\AppData\\Roaming\\Python\\Python310\\site-packages\\sklearn\\base.py:445: UserWarning: X does not have valid feature names, but StandardScaler was fitted with feature names\n",
      "  warnings.warn(\n",
      "C:\\Users\\vinay\\AppData\\Roaming\\Python\\Python310\\site-packages\\sklearn\\base.py:445: UserWarning: X does not have valid feature names, but StandardScaler was fitted with feature names\n",
      "  warnings.warn(\n",
      "C:\\Users\\vinay\\AppData\\Roaming\\Python\\Python310\\site-packages\\sklearn\\base.py:445: UserWarning: X does not have valid feature names, but StandardScaler was fitted with feature names\n",
      "  warnings.warn(\n"
     ]
    },
    {
     "name": "stdout",
     "output_type": "stream",
     "text": [
      "nervous [4.99954300e-05 7.12215240e-12 1.11417868e-06 9.95564261e-01\n",
      " 4.56747193e-10 6.23425595e-11 1.51494467e-15 4.25355058e-03\n",
      " 9.34989897e-05 7.52714888e-17 3.75796497e-05]\n",
      "nervous [2.06300326e-06 6.56599741e-08 8.88534564e-06 9.94041890e-01\n",
      " 7.44618648e-05 2.96358484e-12 5.22194152e-13 1.15346793e-04\n",
      " 5.72862642e-03 1.23483379e-14 2.86607448e-05]\n"
     ]
    },
    {
     "name": "stderr",
     "output_type": "stream",
     "text": [
      "C:\\Users\\vinay\\AppData\\Roaming\\Python\\Python310\\site-packages\\sklearn\\base.py:445: UserWarning: X does not have valid feature names, but StandardScaler was fitted with feature names\n",
      "  warnings.warn(\n",
      "C:\\Users\\vinay\\AppData\\Roaming\\Python\\Python310\\site-packages\\sklearn\\base.py:445: UserWarning: X does not have valid feature names, but StandardScaler was fitted with feature names\n",
      "  warnings.warn(\n",
      "C:\\Users\\vinay\\AppData\\Roaming\\Python\\Python310\\site-packages\\sklearn\\base.py:445: UserWarning: X does not have valid feature names, but StandardScaler was fitted with feature names\n",
      "  warnings.warn(\n",
      "C:\\Users\\vinay\\AppData\\Roaming\\Python\\Python310\\site-packages\\sklearn\\base.py:445: UserWarning: X does not have valid feature names, but StandardScaler was fitted with feature names\n",
      "  warnings.warn(\n"
     ]
    },
    {
     "name": "stdout",
     "output_type": "stream",
     "text": [
      "nervous [3.50228791e-08 1.86458525e-05 4.55548665e-05 9.40209857e-01\n",
      " 1.12125253e-02 2.44075102e-13 1.91405290e-13 1.01995836e-04\n",
      " 4.71076422e-02 2.08277008e-14 1.30374382e-03]\n",
      "worried [8.91654925e-08 1.48964990e-04 2.28845416e-03 3.29997389e-01\n",
      " 1.69684806e-01 1.53598317e-12 1.29630611e-12 1.23198137e-04\n",
      " 2.34915803e-02 4.97874317e-12 4.74265519e-01]\n"
     ]
    },
    {
     "name": "stderr",
     "output_type": "stream",
     "text": [
      "C:\\Users\\vinay\\AppData\\Roaming\\Python\\Python310\\site-packages\\sklearn\\base.py:445: UserWarning: X does not have valid feature names, but StandardScaler was fitted with feature names\n",
      "  warnings.warn(\n",
      "C:\\Users\\vinay\\AppData\\Roaming\\Python\\Python310\\site-packages\\sklearn\\base.py:445: UserWarning: X does not have valid feature names, but StandardScaler was fitted with feature names\n",
      "  warnings.warn(\n",
      "C:\\Users\\vinay\\AppData\\Roaming\\Python\\Python310\\site-packages\\sklearn\\base.py:445: UserWarning: X does not have valid feature names, but StandardScaler was fitted with feature names\n",
      "  warnings.warn(\n",
      "C:\\Users\\vinay\\AppData\\Roaming\\Python\\Python310\\site-packages\\sklearn\\base.py:445: UserWarning: X does not have valid feature names, but StandardScaler was fitted with feature names\n",
      "  warnings.warn(\n"
     ]
    },
    {
     "name": "stdout",
     "output_type": "stream",
     "text": [
      "neutral [1.52558213e-09 2.70162608e-04 1.95933201e-03 3.63089642e-03\n",
      " 7.79836555e-01 5.91551747e-14 3.88871192e-14 1.12050923e-06\n",
      " 1.46412963e-02 4.03541786e-12 1.99660635e-01]\n",
      "neutral [1.95638524e-10 4.85820842e-04 2.67672795e-03 1.14259296e-03\n",
      " 6.36855665e-01 1.13476751e-14 1.48819264e-14 8.65132885e-07\n",
      " 2.79042417e-03 7.17644789e-12 3.56047903e-01]\n"
     ]
    },
    {
     "name": "stderr",
     "output_type": "stream",
     "text": [
      "C:\\Users\\vinay\\AppData\\Roaming\\Python\\Python310\\site-packages\\sklearn\\base.py:445: UserWarning: X does not have valid feature names, but StandardScaler was fitted with feature names\n",
      "  warnings.warn(\n",
      "C:\\Users\\vinay\\AppData\\Roaming\\Python\\Python310\\site-packages\\sklearn\\base.py:445: UserWarning: X does not have valid feature names, but StandardScaler was fitted with feature names\n",
      "  warnings.warn(\n",
      "C:\\Users\\vinay\\AppData\\Roaming\\Python\\Python310\\site-packages\\sklearn\\base.py:445: UserWarning: X does not have valid feature names, but StandardScaler was fitted with feature names\n",
      "  warnings.warn(\n",
      "C:\\Users\\vinay\\AppData\\Roaming\\Python\\Python310\\site-packages\\sklearn\\base.py:445: UserWarning: X does not have valid feature names, but StandardScaler was fitted with feature names\n",
      "  warnings.warn(\n"
     ]
    },
    {
     "name": "stdout",
     "output_type": "stream",
     "text": [
      "neutral [1.80380234e-10 2.34729019e-04 1.09053015e-03 5.53627525e-04\n",
      " 9.62245570e-01 3.16536666e-15 1.73141385e-14 3.51981995e-06\n",
      " 3.02482856e-03 6.49052393e-12 3.28471943e-02]\n",
      "neutral [8.18078169e-10 1.26155638e-03 6.90853886e-03 3.72138667e-03\n",
      " 5.09343390e-01 2.77889435e-14 1.91179568e-13 3.80721321e-05\n",
      " 1.61373603e-02 3.33813732e-11 4.62589695e-01]\n"
     ]
    },
    {
     "name": "stderr",
     "output_type": "stream",
     "text": [
      "C:\\Users\\vinay\\AppData\\Roaming\\Python\\Python310\\site-packages\\sklearn\\base.py:445: UserWarning: X does not have valid feature names, but StandardScaler was fitted with feature names\n",
      "  warnings.warn(\n",
      "C:\\Users\\vinay\\AppData\\Roaming\\Python\\Python310\\site-packages\\sklearn\\base.py:445: UserWarning: X does not have valid feature names, but StandardScaler was fitted with feature names\n",
      "  warnings.warn(\n",
      "C:\\Users\\vinay\\AppData\\Roaming\\Python\\Python310\\site-packages\\sklearn\\base.py:445: UserWarning: X does not have valid feature names, but StandardScaler was fitted with feature names\n",
      "  warnings.warn(\n",
      "C:\\Users\\vinay\\AppData\\Roaming\\Python\\Python310\\site-packages\\sklearn\\base.py:445: UserWarning: X does not have valid feature names, but StandardScaler was fitted with feature names\n",
      "  warnings.warn(\n"
     ]
    },
    {
     "name": "stdout",
     "output_type": "stream",
     "text": [
      "worried [4.19973148e-10 8.90663184e-04 5.22599295e-03 2.32902607e-03\n",
      " 3.56690296e-01 2.15190903e-14 7.79955231e-14 3.11110697e-05\n",
      " 5.30540927e-03 2.54090268e-11 6.29527501e-01]\n",
      "worried [1.46907313e-10 7.19227558e-04 4.02510158e-03 1.59720845e-03\n",
      " 8.19183725e-02 1.49462214e-14 3.73305201e-14 2.20815046e-05\n",
      " 3.73893454e-03 1.69737424e-11 9.07979074e-01]\n"
     ]
    },
    {
     "name": "stderr",
     "output_type": "stream",
     "text": [
      "C:\\Users\\vinay\\AppData\\Roaming\\Python\\Python310\\site-packages\\sklearn\\base.py:445: UserWarning: X does not have valid feature names, but StandardScaler was fitted with feature names\n",
      "  warnings.warn(\n",
      "C:\\Users\\vinay\\AppData\\Roaming\\Python\\Python310\\site-packages\\sklearn\\base.py:445: UserWarning: X does not have valid feature names, but StandardScaler was fitted with feature names\n",
      "  warnings.warn(\n",
      "C:\\Users\\vinay\\AppData\\Roaming\\Python\\Python310\\site-packages\\sklearn\\base.py:445: UserWarning: X does not have valid feature names, but StandardScaler was fitted with feature names\n",
      "  warnings.warn(\n",
      "C:\\Users\\vinay\\AppData\\Roaming\\Python\\Python310\\site-packages\\sklearn\\base.py:445: UserWarning: X does not have valid feature names, but StandardScaler was fitted with feature names\n",
      "  warnings.warn(\n"
     ]
    },
    {
     "name": "stdout",
     "output_type": "stream",
     "text": [
      "worried [4.77132400e-11 5.76967224e-04 2.25228933e-03 8.95026481e-04\n",
      " 2.18989625e-02 8.90793228e-15 3.64606662e-15 8.53784353e-06\n",
      " 1.25466354e-03 5.12272884e-12 9.73113553e-01]\n",
      "worried [2.33023220e-11 2.99146534e-04 1.02648179e-03 2.70880471e-04\n",
      " 1.35407517e-02 5.19973655e-15 1.83320295e-15 4.10549450e-06\n",
      " 3.68094371e-04 5.79997470e-12 9.84490540e-01]\n"
     ]
    },
    {
     "name": "stderr",
     "output_type": "stream",
     "text": [
      "C:\\Users\\vinay\\AppData\\Roaming\\Python\\Python310\\site-packages\\sklearn\\base.py:445: UserWarning: X does not have valid feature names, but StandardScaler was fitted with feature names\n",
      "  warnings.warn(\n",
      "C:\\Users\\vinay\\AppData\\Roaming\\Python\\Python310\\site-packages\\sklearn\\base.py:445: UserWarning: X does not have valid feature names, but StandardScaler was fitted with feature names\n",
      "  warnings.warn(\n",
      "C:\\Users\\vinay\\AppData\\Roaming\\Python\\Python310\\site-packages\\sklearn\\base.py:445: UserWarning: X does not have valid feature names, but StandardScaler was fitted with feature names\n",
      "  warnings.warn(\n",
      "C:\\Users\\vinay\\AppData\\Roaming\\Python\\Python310\\site-packages\\sklearn\\base.py:445: UserWarning: X does not have valid feature names, but StandardScaler was fitted with feature names\n",
      "  warnings.warn(\n"
     ]
    },
    {
     "name": "stdout",
     "output_type": "stream",
     "text": [
      "worried [1.12041125e-11 2.27657136e-04 3.34079264e-04 1.09773787e-04\n",
      " 3.97221187e-03 2.51903256e-15 9.05455292e-16 5.30967894e-06\n",
      " 3.49967127e-04 4.58928991e-12 9.95001001e-01]\n",
      "worried [1.15791650e-11 9.35686842e-05 3.33418010e-04 1.00270000e-04\n",
      " 2.13501011e-03 2.92268434e-15 2.54124293e-16 4.90831157e-06\n",
      " 1.10823834e-04 3.43538269e-12 9.97222001e-01]\n"
     ]
    },
    {
     "name": "stderr",
     "output_type": "stream",
     "text": [
      "C:\\Users\\vinay\\AppData\\Roaming\\Python\\Python310\\site-packages\\sklearn\\base.py:445: UserWarning: X does not have valid feature names, but StandardScaler was fitted with feature names\n",
      "  warnings.warn(\n",
      "C:\\Users\\vinay\\AppData\\Roaming\\Python\\Python310\\site-packages\\sklearn\\base.py:445: UserWarning: X does not have valid feature names, but StandardScaler was fitted with feature names\n",
      "  warnings.warn(\n",
      "C:\\Users\\vinay\\AppData\\Roaming\\Python\\Python310\\site-packages\\sklearn\\base.py:445: UserWarning: X does not have valid feature names, but StandardScaler was fitted with feature names\n",
      "  warnings.warn(\n",
      "C:\\Users\\vinay\\AppData\\Roaming\\Python\\Python310\\site-packages\\sklearn\\base.py:445: UserWarning: X does not have valid feature names, but StandardScaler was fitted with feature names\n",
      "  warnings.warn(\n"
     ]
    },
    {
     "name": "stdout",
     "output_type": "stream",
     "text": [
      "worried [3.24472273e-11 1.03624315e-04 3.98262258e-04 1.76322146e-04\n",
      " 5.72830649e-04 8.50450728e-15 2.39827993e-16 2.59078229e-05\n",
      " 1.33564737e-04 6.40588560e-12 9.98589488e-01]\n",
      "worried [9.27385341e-11 3.85216314e-04 6.68954450e-04 1.97031184e-03\n",
      " 2.96117460e-04 3.79009037e-14 3.16915505e-16 5.07259866e-05\n",
      " 8.36316862e-04 1.02030634e-11 9.95792357e-01]\n"
     ]
    },
    {
     "name": "stderr",
     "output_type": "stream",
     "text": [
      "C:\\Users\\vinay\\AppData\\Roaming\\Python\\Python310\\site-packages\\sklearn\\base.py:445: UserWarning: X does not have valid feature names, but StandardScaler was fitted with feature names\n",
      "  warnings.warn(\n",
      "C:\\Users\\vinay\\AppData\\Roaming\\Python\\Python310\\site-packages\\sklearn\\base.py:445: UserWarning: X does not have valid feature names, but StandardScaler was fitted with feature names\n",
      "  warnings.warn(\n",
      "C:\\Users\\vinay\\AppData\\Roaming\\Python\\Python310\\site-packages\\sklearn\\base.py:445: UserWarning: X does not have valid feature names, but StandardScaler was fitted with feature names\n",
      "  warnings.warn(\n",
      "C:\\Users\\vinay\\AppData\\Roaming\\Python\\Python310\\site-packages\\sklearn\\base.py:445: UserWarning: X does not have valid feature names, but StandardScaler was fitted with feature names\n",
      "  warnings.warn(\n"
     ]
    },
    {
     "name": "stdout",
     "output_type": "stream",
     "text": [
      "worried [3.36750201e-09 6.43594645e-05 1.68107298e-02 3.91622286e-02\n",
      " 7.98631366e-02 2.22236234e-12 5.82684467e-14 7.76565240e-06\n",
      " 5.92860224e-03 1.69790453e-10 8.58163174e-01]\n",
      "worried [2.86403284e-08 1.61091377e-05 9.99110028e-02 1.42006065e-01\n",
      " 3.38385987e-01 1.01207589e-11 6.91970342e-12 9.27467129e-06\n",
      " 2.42227666e-02 1.42528584e-09 3.95448765e-01]\n"
     ]
    },
    {
     "name": "stderr",
     "output_type": "stream",
     "text": [
      "C:\\Users\\vinay\\AppData\\Roaming\\Python\\Python310\\site-packages\\sklearn\\base.py:445: UserWarning: X does not have valid feature names, but StandardScaler was fitted with feature names\n",
      "  warnings.warn(\n",
      "C:\\Users\\vinay\\AppData\\Roaming\\Python\\Python310\\site-packages\\sklearn\\base.py:445: UserWarning: X does not have valid feature names, but StandardScaler was fitted with feature names\n",
      "  warnings.warn(\n",
      "C:\\Users\\vinay\\AppData\\Roaming\\Python\\Python310\\site-packages\\sklearn\\base.py:445: UserWarning: X does not have valid feature names, but StandardScaler was fitted with feature names\n",
      "  warnings.warn(\n",
      "C:\\Users\\vinay\\AppData\\Roaming\\Python\\Python310\\site-packages\\sklearn\\base.py:445: UserWarning: X does not have valid feature names, but StandardScaler was fitted with feature names\n",
      "  warnings.warn(\n"
     ]
    },
    {
     "name": "stdout",
     "output_type": "stream",
     "text": [
      "neutral [2.10970103e-07 2.94392977e-05 2.06806770e-01 2.02901092e-01\n",
      " 4.86063342e-01 1.49372705e-11 6.66892290e-11 2.89057263e-05\n",
      " 1.45784980e-02 3.59937196e-09 8.95917385e-02]\n",
      "smile [6.41637224e-06 2.94748249e-07 1.10731364e-01 9.66618567e-02\n",
      " 6.07950153e-03 4.78609712e-11 4.47548798e-12 7.34112241e-01\n",
      " 1.19636490e-02 5.39178455e-10 4.04446758e-02]\n"
     ]
    },
    {
     "name": "stderr",
     "output_type": "stream",
     "text": [
      "C:\\Users\\vinay\\AppData\\Roaming\\Python\\Python310\\site-packages\\sklearn\\base.py:445: UserWarning: X does not have valid feature names, but StandardScaler was fitted with feature names\n",
      "  warnings.warn(\n",
      "C:\\Users\\vinay\\AppData\\Roaming\\Python\\Python310\\site-packages\\sklearn\\base.py:445: UserWarning: X does not have valid feature names, but StandardScaler was fitted with feature names\n",
      "  warnings.warn(\n",
      "C:\\Users\\vinay\\AppData\\Roaming\\Python\\Python310\\site-packages\\sklearn\\base.py:445: UserWarning: X does not have valid feature names, but StandardScaler was fitted with feature names\n",
      "  warnings.warn(\n",
      "C:\\Users\\vinay\\AppData\\Roaming\\Python\\Python310\\site-packages\\sklearn\\base.py:445: UserWarning: X does not have valid feature names, but StandardScaler was fitted with feature names\n",
      "  warnings.warn(\n"
     ]
    },
    {
     "name": "stdout",
     "output_type": "stream",
     "text": [
      "smile [8.58280567e-06 3.13984345e-07 4.98884674e-02 4.45276478e-02\n",
      " 1.14710200e-01 1.98598462e-10 2.12621733e-12 4.58354360e-01\n",
      " 8.57625134e-04 9.76771019e-10 3.31652802e-01]\n",
      "worried [8.70026530e-07 2.61989780e-05 9.76561716e-03 3.73744173e-02\n",
      " 4.72001068e-04 2.69671036e-11 1.23755585e-13 2.36206332e-01\n",
      " 7.14849400e-03 4.53440835e-10 7.09006069e-01]\n"
     ]
    },
    {
     "name": "stderr",
     "output_type": "stream",
     "text": [
      "C:\\Users\\vinay\\AppData\\Roaming\\Python\\Python310\\site-packages\\sklearn\\base.py:445: UserWarning: X does not have valid feature names, but StandardScaler was fitted with feature names\n",
      "  warnings.warn(\n",
      "C:\\Users\\vinay\\AppData\\Roaming\\Python\\Python310\\site-packages\\sklearn\\base.py:445: UserWarning: X does not have valid feature names, but StandardScaler was fitted with feature names\n",
      "  warnings.warn(\n",
      "C:\\Users\\vinay\\AppData\\Roaming\\Python\\Python310\\site-packages\\sklearn\\base.py:445: UserWarning: X does not have valid feature names, but StandardScaler was fitted with feature names\n",
      "  warnings.warn(\n",
      "C:\\Users\\vinay\\AppData\\Roaming\\Python\\Python310\\site-packages\\sklearn\\base.py:445: UserWarning: X does not have valid feature names, but StandardScaler was fitted with feature names\n",
      "  warnings.warn(\n"
     ]
    },
    {
     "name": "stdout",
     "output_type": "stream",
     "text": [
      "worried [4.37932287e-08 3.38178614e-04 7.51520750e-03 9.28265363e-03\n",
      " 1.02239018e-01 3.00108747e-12 1.57621398e-13 1.72361216e-02\n",
      " 3.34087241e-03 1.11548284e-09 8.60047903e-01]\n",
      "worried [3.76819086e-09 2.91154725e-03 1.01914274e-02 9.90203332e-04\n",
      " 1.40676902e-01 3.55765411e-13 4.87083447e-15 1.18225755e-04\n",
      " 8.00371457e-04 1.15778267e-09 8.44311318e-01]\n"
     ]
    },
    {
     "name": "stderr",
     "output_type": "stream",
     "text": [
      "C:\\Users\\vinay\\AppData\\Roaming\\Python\\Python310\\site-packages\\sklearn\\base.py:445: UserWarning: X does not have valid feature names, but StandardScaler was fitted with feature names\n",
      "  warnings.warn(\n",
      "C:\\Users\\vinay\\AppData\\Roaming\\Python\\Python310\\site-packages\\sklearn\\base.py:445: UserWarning: X does not have valid feature names, but StandardScaler was fitted with feature names\n",
      "  warnings.warn(\n",
      "C:\\Users\\vinay\\AppData\\Roaming\\Python\\Python310\\site-packages\\sklearn\\base.py:445: UserWarning: X does not have valid feature names, but StandardScaler was fitted with feature names\n",
      "  warnings.warn(\n",
      "C:\\Users\\vinay\\AppData\\Roaming\\Python\\Python310\\site-packages\\sklearn\\base.py:445: UserWarning: X does not have valid feature names, but StandardScaler was fitted with feature names\n",
      "  warnings.warn(\n"
     ]
    },
    {
     "name": "stdout",
     "output_type": "stream",
     "text": [
      "worried [1.42856468e-09 8.45524414e-03 1.18279936e-02 2.55965027e-03\n",
      " 6.28479058e-02 8.98823607e-14 2.62979776e-14 2.17563849e-04\n",
      " 4.09777093e-03 1.11610411e-09 9.09993869e-01]\n",
      "worried [3.17209514e-10 1.64025240e-02 1.91685749e-02 8.59693784e-03\n",
      " 2.15903467e-02 2.82326977e-14 4.41083172e-13 8.49055877e-04\n",
      " 2.75594148e-02 2.11727656e-10 9.05833145e-01]\n"
     ]
    },
    {
     "name": "stderr",
     "output_type": "stream",
     "text": [
      "C:\\Users\\vinay\\AppData\\Roaming\\Python\\Python310\\site-packages\\sklearn\\base.py:445: UserWarning: X does not have valid feature names, but StandardScaler was fitted with feature names\n",
      "  warnings.warn(\n",
      "C:\\Users\\vinay\\AppData\\Roaming\\Python\\Python310\\site-packages\\sklearn\\base.py:445: UserWarning: X does not have valid feature names, but StandardScaler was fitted with feature names\n",
      "  warnings.warn(\n",
      "C:\\Users\\vinay\\AppData\\Roaming\\Python\\Python310\\site-packages\\sklearn\\base.py:445: UserWarning: X does not have valid feature names, but StandardScaler was fitted with feature names\n",
      "  warnings.warn(\n",
      "C:\\Users\\vinay\\AppData\\Roaming\\Python\\Python310\\site-packages\\sklearn\\base.py:445: UserWarning: X does not have valid feature names, but StandardScaler was fitted with feature names\n",
      "  warnings.warn(\n"
     ]
    },
    {
     "name": "stdout",
     "output_type": "stream",
     "text": [
      "worried [3.85429144e-10 8.44167285e-02 1.36882582e-01 1.36101174e-02\n",
      " 1.84121424e-01 2.80183023e-14 2.67564346e-12 1.23547283e-03\n",
      " 2.48494854e-02 7.75192725e-10 5.54884188e-01]\n",
      "neutral [3.86884241e-11 8.32062895e-03 3.20784026e-02 5.88063221e-04\n",
      " 9.39047510e-01 3.97566672e-15 8.64604416e-13 1.19205438e-05\n",
      " 2.68648422e-04 3.12586407e-10 1.96848256e-02]\n"
     ]
    },
    {
     "name": "stderr",
     "output_type": "stream",
     "text": [
      "C:\\Users\\vinay\\AppData\\Roaming\\Python\\Python310\\site-packages\\sklearn\\base.py:445: UserWarning: X does not have valid feature names, but StandardScaler was fitted with feature names\n",
      "  warnings.warn(\n",
      "C:\\Users\\vinay\\AppData\\Roaming\\Python\\Python310\\site-packages\\sklearn\\base.py:445: UserWarning: X does not have valid feature names, but StandardScaler was fitted with feature names\n",
      "  warnings.warn(\n",
      "C:\\Users\\vinay\\AppData\\Roaming\\Python\\Python310\\site-packages\\sklearn\\base.py:445: UserWarning: X does not have valid feature names, but StandardScaler was fitted with feature names\n",
      "  warnings.warn(\n",
      "C:\\Users\\vinay\\AppData\\Roaming\\Python\\Python310\\site-packages\\sklearn\\base.py:445: UserWarning: X does not have valid feature names, but StandardScaler was fitted with feature names\n",
      "  warnings.warn(\n"
     ]
    },
    {
     "name": "stdout",
     "output_type": "stream",
     "text": [
      "neutral [3.52348194e-09 3.42055207e-02 3.26418843e-01 3.50297639e-02\n",
      " 5.30765542e-01 1.10884711e-13 1.69177924e-10 5.06134139e-04\n",
      " 3.86480779e-02 2.89908909e-09 3.44261115e-02]\n",
      "neutral [6.00198931e-10 7.47264184e-03 7.39804681e-03 1.02977733e-03\n",
      " 9.82568030e-01 5.68695268e-15 1.32824285e-12 2.66239371e-05\n",
      " 1.48942269e-03 9.59708452e-11 1.54562057e-05]\n"
     ]
    },
    {
     "name": "stderr",
     "output_type": "stream",
     "text": [
      "C:\\Users\\vinay\\AppData\\Roaming\\Python\\Python310\\site-packages\\sklearn\\base.py:445: UserWarning: X does not have valid feature names, but StandardScaler was fitted with feature names\n",
      "  warnings.warn(\n",
      "C:\\Users\\vinay\\AppData\\Roaming\\Python\\Python310\\site-packages\\sklearn\\base.py:445: UserWarning: X does not have valid feature names, but StandardScaler was fitted with feature names\n",
      "  warnings.warn(\n",
      "C:\\Users\\vinay\\AppData\\Roaming\\Python\\Python310\\site-packages\\sklearn\\base.py:445: UserWarning: X does not have valid feature names, but StandardScaler was fitted with feature names\n",
      "  warnings.warn(\n"
     ]
    },
    {
     "name": "stdout",
     "output_type": "stream",
     "text": [
      "neutral [2.51141723e-08 3.78625795e-02 1.14682304e-01 8.76668471e-02\n",
      " 7.44974127e-01 7.54199553e-14 1.07799130e-12 9.64877593e-04\n",
      " 1.37600626e-02 1.37791898e-10 8.91769381e-05]\n"
     ]
    },
    {
     "name": "stderr",
     "output_type": "stream",
     "text": [
      "C:\\Users\\vinay\\AppData\\Roaming\\Python\\Python310\\site-packages\\sklearn\\base.py:445: UserWarning: X does not have valid feature names, but StandardScaler was fitted with feature names\n",
      "  warnings.warn(\n",
      "C:\\Users\\vinay\\AppData\\Roaming\\Python\\Python310\\site-packages\\sklearn\\base.py:445: UserWarning: X does not have valid feature names, but StandardScaler was fitted with feature names\n",
      "  warnings.warn(\n",
      "C:\\Users\\vinay\\AppData\\Roaming\\Python\\Python310\\site-packages\\sklearn\\base.py:445: UserWarning: X does not have valid feature names, but StandardScaler was fitted with feature names\n",
      "  warnings.warn(\n"
     ]
    },
    {
     "name": "stdout",
     "output_type": "stream",
     "text": [
      "neutral [1.38884992e-07 6.95535671e-04 3.46071958e-01 1.65229728e-01\n",
      " 4.44120729e-01 2.89646086e-13 4.74610418e-13 2.87723165e-02\n",
      " 1.46479225e-02 3.31649680e-11 4.61671350e-04]\n",
      "nervous [8.26916493e-07 6.11078514e-04 2.70623749e-01 5.80576635e-01\n",
      " 3.62662895e-02 1.37471346e-12 5.79840476e-13 9.77744950e-02\n",
      " 1.11323595e-02 3.78764874e-11 3.01456649e-03]\n"
     ]
    },
    {
     "name": "stderr",
     "output_type": "stream",
     "text": [
      "C:\\Users\\vinay\\AppData\\Roaming\\Python\\Python310\\site-packages\\sklearn\\base.py:445: UserWarning: X does not have valid feature names, but StandardScaler was fitted with feature names\n",
      "  warnings.warn(\n",
      "C:\\Users\\vinay\\AppData\\Roaming\\Python\\Python310\\site-packages\\sklearn\\base.py:445: UserWarning: X does not have valid feature names, but StandardScaler was fitted with feature names\n",
      "  warnings.warn(\n",
      "C:\\Users\\vinay\\AppData\\Roaming\\Python\\Python310\\site-packages\\sklearn\\base.py:445: UserWarning: X does not have valid feature names, but StandardScaler was fitted with feature names\n",
      "  warnings.warn(\n",
      "C:\\Users\\vinay\\AppData\\Roaming\\Python\\Python310\\site-packages\\sklearn\\base.py:445: UserWarning: X does not have valid feature names, but StandardScaler was fitted with feature names\n",
      "  warnings.warn(\n"
     ]
    },
    {
     "name": "stdout",
     "output_type": "stream",
     "text": [
      "nervous [4.01972012e-07 7.76103759e-04 1.36584883e-01 7.60007079e-01\n",
      " 1.24146582e-02 1.48799664e-12 1.00791222e-12 3.53186469e-02\n",
      " 1.89812165e-02 1.25297183e-10 3.59170108e-02]\n",
      "nervous [6.14360744e-07 9.18816911e-04 1.08035355e-01 7.11861106e-01\n",
      " 5.91574220e-02 3.00431075e-12 1.24514147e-12 2.72648888e-03\n",
      " 1.07276059e-02 3.54876748e-10 1.06572590e-01]\n"
     ]
    },
    {
     "name": "stderr",
     "output_type": "stream",
     "text": [
      "C:\\Users\\vinay\\AppData\\Roaming\\Python\\Python310\\site-packages\\sklearn\\base.py:445: UserWarning: X does not have valid feature names, but StandardScaler was fitted with feature names\n",
      "  warnings.warn(\n",
      "C:\\Users\\vinay\\AppData\\Roaming\\Python\\Python310\\site-packages\\sklearn\\base.py:445: UserWarning: X does not have valid feature names, but StandardScaler was fitted with feature names\n",
      "  warnings.warn(\n",
      "C:\\Users\\vinay\\AppData\\Roaming\\Python\\Python310\\site-packages\\sklearn\\base.py:445: UserWarning: X does not have valid feature names, but StandardScaler was fitted with feature names\n",
      "  warnings.warn(\n",
      "C:\\Users\\vinay\\AppData\\Roaming\\Python\\Python310\\site-packages\\sklearn\\base.py:445: UserWarning: X does not have valid feature names, but StandardScaler was fitted with feature names\n",
      "  warnings.warn(\n"
     ]
    },
    {
     "name": "stdout",
     "output_type": "stream",
     "text": [
      "worried [3.48482094e-07 9.89710578e-04 6.95375695e-02 9.62544359e-02\n",
      " 9.05189526e-02 3.67616871e-12 2.78371425e-14 4.89275223e-04\n",
      " 2.43229593e-02 4.15344145e-10 7.17886748e-01]\n",
      "worried [6.15967840e-09 1.79334514e-04 2.73221228e-03 5.28527527e-03\n",
      " 3.26247619e-03 1.24530478e-13 3.40786453e-16 3.76939351e-05\n",
      " 2.89920685e-03 3.86192118e-11 9.85603795e-01]\n"
     ]
    },
    {
     "name": "stderr",
     "output_type": "stream",
     "text": [
      "C:\\Users\\vinay\\AppData\\Roaming\\Python\\Python310\\site-packages\\sklearn\\base.py:445: UserWarning: X does not have valid feature names, but StandardScaler was fitted with feature names\n",
      "  warnings.warn(\n",
      "C:\\Users\\vinay\\AppData\\Roaming\\Python\\Python310\\site-packages\\sklearn\\base.py:445: UserWarning: X does not have valid feature names, but StandardScaler was fitted with feature names\n",
      "  warnings.warn(\n",
      "C:\\Users\\vinay\\AppData\\Roaming\\Python\\Python310\\site-packages\\sklearn\\base.py:445: UserWarning: X does not have valid feature names, but StandardScaler was fitted with feature names\n",
      "  warnings.warn(\n",
      "C:\\Users\\vinay\\AppData\\Roaming\\Python\\Python310\\site-packages\\sklearn\\base.py:445: UserWarning: X does not have valid feature names, but StandardScaler was fitted with feature names\n",
      "  warnings.warn(\n"
     ]
    },
    {
     "name": "stdout",
     "output_type": "stream",
     "text": [
      "worried [2.08132020e-10 1.98159979e-06 1.78705392e-04 6.43014794e-05\n",
      " 5.56437113e-05 1.36103207e-14 2.33269979e-18 4.99188541e-05\n",
      " 2.48345653e-05 3.70248662e-12 9.99624614e-01]\n",
      "worried [9.24269815e-11 2.43222471e-06 4.61264221e-05 5.94396570e-05\n",
      " 1.02085743e-06 8.60690911e-15 4.56263903e-19 2.46632717e-03\n",
      " 4.03817357e-05 5.03137482e-13 9.97384272e-01]\n"
     ]
    },
    {
     "name": "stderr",
     "output_type": "stream",
     "text": [
      "C:\\Users\\vinay\\AppData\\Roaming\\Python\\Python310\\site-packages\\sklearn\\base.py:445: UserWarning: X does not have valid feature names, but StandardScaler was fitted with feature names\n",
      "  warnings.warn(\n",
      "C:\\Users\\vinay\\AppData\\Roaming\\Python\\Python310\\site-packages\\sklearn\\base.py:445: UserWarning: X does not have valid feature names, but StandardScaler was fitted with feature names\n",
      "  warnings.warn(\n",
      "C:\\Users\\vinay\\AppData\\Roaming\\Python\\Python310\\site-packages\\sklearn\\base.py:445: UserWarning: X does not have valid feature names, but StandardScaler was fitted with feature names\n",
      "  warnings.warn(\n",
      "C:\\Users\\vinay\\AppData\\Roaming\\Python\\Python310\\site-packages\\sklearn\\base.py:445: UserWarning: X does not have valid feature names, but StandardScaler was fitted with feature names\n",
      "  warnings.warn(\n"
     ]
    },
    {
     "name": "stdout",
     "output_type": "stream",
     "text": [
      "worried [2.88277972e-10 2.20841195e-07 6.96072812e-05 3.50482827e-05\n",
      " 8.75936851e-08 2.04548359e-14 3.79279297e-19 2.53611299e-02\n",
      " 3.63933289e-05 1.45980850e-13 9.74497512e-01]\n",
      "worried [5.87972860e-10 2.71189868e-06 1.70665500e-04 7.80413408e-05\n",
      " 4.24455963e-06 4.34608830e-14 3.45001193e-18 8.05135619e-02\n",
      " 7.26043126e-05 6.41368985e-13 9.19158170e-01]\n"
     ]
    },
    {
     "name": "stderr",
     "output_type": "stream",
     "text": [
      "C:\\Users\\vinay\\AppData\\Roaming\\Python\\Python310\\site-packages\\sklearn\\base.py:445: UserWarning: X does not have valid feature names, but StandardScaler was fitted with feature names\n",
      "  warnings.warn(\n",
      "C:\\Users\\vinay\\AppData\\Roaming\\Python\\Python310\\site-packages\\sklearn\\base.py:445: UserWarning: X does not have valid feature names, but StandardScaler was fitted with feature names\n",
      "  warnings.warn(\n",
      "C:\\Users\\vinay\\AppData\\Roaming\\Python\\Python310\\site-packages\\sklearn\\base.py:445: UserWarning: X does not have valid feature names, but StandardScaler was fitted with feature names\n",
      "  warnings.warn(\n",
      "C:\\Users\\vinay\\AppData\\Roaming\\Python\\Python310\\site-packages\\sklearn\\base.py:445: UserWarning: X does not have valid feature names, but StandardScaler was fitted with feature names\n",
      "  warnings.warn(\n"
     ]
    },
    {
     "name": "stdout",
     "output_type": "stream",
     "text": [
      "worried [1.61836840e-09 2.40339075e-06 3.97277399e-04 2.12833452e-04\n",
      " 2.31095396e-06 9.59997069e-14 4.85036299e-18 1.43427996e-01\n",
      " 1.35011408e-04 6.71532894e-13 8.55822165e-01]\n",
      "worried [2.31978874e-09 1.21043047e-05 9.75152839e-04 5.53423900e-04\n",
      " 1.27020807e-05 2.30347016e-13 7.00302106e-18 3.52280546e-01\n",
      " 2.17316685e-04 1.25140079e-12 6.45948752e-01]\n"
     ]
    },
    {
     "name": "stderr",
     "output_type": "stream",
     "text": [
      "C:\\Users\\vinay\\AppData\\Roaming\\Python\\Python310\\site-packages\\sklearn\\base.py:445: UserWarning: X does not have valid feature names, but StandardScaler was fitted with feature names\n",
      "  warnings.warn(\n",
      "C:\\Users\\vinay\\AppData\\Roaming\\Python\\Python310\\site-packages\\sklearn\\base.py:445: UserWarning: X does not have valid feature names, but StandardScaler was fitted with feature names\n",
      "  warnings.warn(\n",
      "C:\\Users\\vinay\\AppData\\Roaming\\Python\\Python310\\site-packages\\sklearn\\base.py:445: UserWarning: X does not have valid feature names, but StandardScaler was fitted with feature names\n",
      "  warnings.warn(\n",
      "C:\\Users\\vinay\\AppData\\Roaming\\Python\\Python310\\site-packages\\sklearn\\base.py:445: UserWarning: X does not have valid feature names, but StandardScaler was fitted with feature names\n",
      "  warnings.warn(\n"
     ]
    },
    {
     "name": "stdout",
     "output_type": "stream",
     "text": [
      "smile [7.90668391e-09 5.05231185e-05 3.86586755e-03 1.77442418e-03\n",
      " 2.79745682e-04 7.68046448e-13 8.71320839e-17 5.36196719e-01\n",
      " 2.70303269e-04 6.53018946e-12 4.57562410e-01]\n",
      "worried [2.03964884e-08 8.86259958e-05 1.22439694e-02 4.03477891e-03\n",
      " 1.49135867e-03 1.91408914e-12 6.38474463e-16 3.75464552e-01\n",
      " 1.09390404e-03 2.12309222e-11 6.05582791e-01]\n"
     ]
    },
    {
     "name": "stderr",
     "output_type": "stream",
     "text": [
      "C:\\Users\\vinay\\AppData\\Roaming\\Python\\Python310\\site-packages\\sklearn\\base.py:445: UserWarning: X does not have valid feature names, but StandardScaler was fitted with feature names\n",
      "  warnings.warn(\n",
      "C:\\Users\\vinay\\AppData\\Roaming\\Python\\Python310\\site-packages\\sklearn\\base.py:445: UserWarning: X does not have valid feature names, but StandardScaler was fitted with feature names\n",
      "  warnings.warn(\n",
      "C:\\Users\\vinay\\AppData\\Roaming\\Python\\Python310\\site-packages\\sklearn\\base.py:445: UserWarning: X does not have valid feature names, but StandardScaler was fitted with feature names\n",
      "  warnings.warn(\n",
      "C:\\Users\\vinay\\AppData\\Roaming\\Python\\Python310\\site-packages\\sklearn\\base.py:445: UserWarning: X does not have valid feature names, but StandardScaler was fitted with feature names\n",
      "  warnings.warn(\n"
     ]
    },
    {
     "name": "stdout",
     "output_type": "stream",
     "text": [
      "worried [2.81061811e-08 9.86137945e-05 3.07655129e-02 7.84385894e-03\n",
      " 4.11240321e-03 2.18357058e-12 1.23030794e-15 1.43401124e-01\n",
      " 1.48489752e-03 1.87903500e-11 8.12293561e-01]\n",
      "worried [4.49944744e-08 1.25066115e-04 8.71031738e-02 1.23428632e-02\n",
      " 1.29996524e-02 2.47639532e-12 1.98789429e-15 3.03732771e-01\n",
      " 2.33140733e-03 2.92835341e-11 5.81365021e-01]\n"
     ]
    },
    {
     "name": "stderr",
     "output_type": "stream",
     "text": [
      "C:\\Users\\vinay\\AppData\\Roaming\\Python\\Python310\\site-packages\\sklearn\\base.py:445: UserWarning: X does not have valid feature names, but StandardScaler was fitted with feature names\n",
      "  warnings.warn(\n",
      "C:\\Users\\vinay\\AppData\\Roaming\\Python\\Python310\\site-packages\\sklearn\\base.py:445: UserWarning: X does not have valid feature names, but StandardScaler was fitted with feature names\n",
      "  warnings.warn(\n",
      "C:\\Users\\vinay\\AppData\\Roaming\\Python\\Python310\\site-packages\\sklearn\\base.py:445: UserWarning: X does not have valid feature names, but StandardScaler was fitted with feature names\n",
      "  warnings.warn(\n",
      "C:\\Users\\vinay\\AppData\\Roaming\\Python\\Python310\\site-packages\\sklearn\\base.py:445: UserWarning: X does not have valid feature names, but StandardScaler was fitted with feature names\n",
      "  warnings.warn(\n"
     ]
    },
    {
     "name": "stdout",
     "output_type": "stream",
     "text": [
      "smile [4.69386567e-08 1.39331795e-04 1.04716330e-01 1.35576898e-02\n",
      " 1.59275911e-02 2.21245420e-12 1.78424446e-15 4.39917008e-01\n",
      " 1.43624407e-03 2.71284680e-11 4.24305758e-01]\n",
      "worried [4.53939637e-08 2.61788260e-04 9.03238624e-02 1.44289088e-02\n",
      " 2.79428256e-02 2.56486585e-12 4.08828726e-15 3.34785891e-01\n",
      " 1.13979844e-03 6.75913663e-11 5.31116880e-01]\n"
     ]
    },
    {
     "name": "stderr",
     "output_type": "stream",
     "text": [
      "C:\\Users\\vinay\\AppData\\Roaming\\Python\\Python310\\site-packages\\sklearn\\base.py:445: UserWarning: X does not have valid feature names, but StandardScaler was fitted with feature names\n",
      "  warnings.warn(\n",
      "C:\\Users\\vinay\\AppData\\Roaming\\Python\\Python310\\site-packages\\sklearn\\base.py:445: UserWarning: X does not have valid feature names, but StandardScaler was fitted with feature names\n",
      "  warnings.warn(\n",
      "C:\\Users\\vinay\\AppData\\Roaming\\Python\\Python310\\site-packages\\sklearn\\base.py:445: UserWarning: X does not have valid feature names, but StandardScaler was fitted with feature names\n",
      "  warnings.warn(\n",
      "C:\\Users\\vinay\\AppData\\Roaming\\Python\\Python310\\site-packages\\sklearn\\base.py:445: UserWarning: X does not have valid feature names, but StandardScaler was fitted with feature names\n",
      "  warnings.warn(\n"
     ]
    },
    {
     "name": "stdout",
     "output_type": "stream",
     "text": [
      "worried [2.99572189e-08 3.54657184e-05 2.56511938e-02 1.73811110e-02\n",
      " 2.41222203e-04 1.91204386e-12 4.35076097e-15 1.43426691e-01\n",
      " 2.86097453e-03 2.98254352e-11 8.10403312e-01]\n",
      "worried [5.98914340e-08 4.58788164e-05 2.43833575e-02 1.63685228e-02\n",
      " 6.49485269e-04 5.63519793e-12 8.93548794e-15 3.77421403e-01\n",
      " 9.09304679e-04 5.51780674e-11 5.80221988e-01]\n"
     ]
    },
    {
     "name": "stderr",
     "output_type": "stream",
     "text": [
      "C:\\Users\\vinay\\AppData\\Roaming\\Python\\Python310\\site-packages\\sklearn\\base.py:445: UserWarning: X does not have valid feature names, but StandardScaler was fitted with feature names\n",
      "  warnings.warn(\n",
      "C:\\Users\\vinay\\AppData\\Roaming\\Python\\Python310\\site-packages\\sklearn\\base.py:445: UserWarning: X does not have valid feature names, but StandardScaler was fitted with feature names\n",
      "  warnings.warn(\n",
      "C:\\Users\\vinay\\AppData\\Roaming\\Python\\Python310\\site-packages\\sklearn\\base.py:445: UserWarning: X does not have valid feature names, but StandardScaler was fitted with feature names\n",
      "  warnings.warn(\n",
      "C:\\Users\\vinay\\AppData\\Roaming\\Python\\Python310\\site-packages\\sklearn\\base.py:445: UserWarning: X does not have valid feature names, but StandardScaler was fitted with feature names\n",
      "  warnings.warn(\n"
     ]
    },
    {
     "name": "stdout",
     "output_type": "stream",
     "text": [
      "smile [4.80997643e-07 2.06245639e-04 8.31426328e-03 1.50920551e-01\n",
      " 2.22618463e-05 2.80177816e-11 5.15739342e-14 6.47202369e-01\n",
      " 7.82991287e-02 6.15920258e-11 1.15034700e-01]\n",
      "smile [6.72844019e-06 1.17910090e-04 4.94766355e-03 1.63718197e-01\n",
      " 3.88559550e-04 4.12915977e-10 6.24335921e-13 8.04388482e-01\n",
      " 7.22001644e-03 1.92031071e-10 1.92124429e-02]\n"
     ]
    },
    {
     "name": "stderr",
     "output_type": "stream",
     "text": [
      "C:\\Users\\vinay\\AppData\\Roaming\\Python\\Python310\\site-packages\\sklearn\\base.py:445: UserWarning: X does not have valid feature names, but StandardScaler was fitted with feature names\n",
      "  warnings.warn(\n",
      "C:\\Users\\vinay\\AppData\\Roaming\\Python\\Python310\\site-packages\\sklearn\\base.py:445: UserWarning: X does not have valid feature names, but StandardScaler was fitted with feature names\n",
      "  warnings.warn(\n",
      "C:\\Users\\vinay\\AppData\\Roaming\\Python\\Python310\\site-packages\\sklearn\\base.py:445: UserWarning: X does not have valid feature names, but StandardScaler was fitted with feature names\n",
      "  warnings.warn(\n",
      "C:\\Users\\vinay\\AppData\\Roaming\\Python\\Python310\\site-packages\\sklearn\\base.py:445: UserWarning: X does not have valid feature names, but StandardScaler was fitted with feature names\n",
      "  warnings.warn(\n"
     ]
    },
    {
     "name": "stdout",
     "output_type": "stream",
     "text": [
      "nervous [4.95936567e-04 1.17136336e-06 2.55138716e-04 8.41924052e-01\n",
      " 5.67732564e-07 3.43559351e-08 4.28050624e-12 1.40674313e-01\n",
      " 1.51789622e-02 3.49552260e-11 1.46982450e-03]\n",
      "nervous [2.76567478e-02 1.54787249e-08 4.35290180e-06 9.16393275e-01\n",
      " 4.30059799e-07 1.40075619e-05 4.41600448e-11 5.30134606e-02\n",
      " 2.75992865e-03 5.11175932e-11 1.57781448e-04]\n"
     ]
    },
    {
     "name": "stderr",
     "output_type": "stream",
     "text": [
      "C:\\Users\\vinay\\AppData\\Roaming\\Python\\Python310\\site-packages\\sklearn\\base.py:445: UserWarning: X does not have valid feature names, but StandardScaler was fitted with feature names\n",
      "  warnings.warn(\n",
      "C:\\Users\\vinay\\AppData\\Roaming\\Python\\Python310\\site-packages\\sklearn\\base.py:445: UserWarning: X does not have valid feature names, but StandardScaler was fitted with feature names\n",
      "  warnings.warn(\n",
      "C:\\Users\\vinay\\AppData\\Roaming\\Python\\Python310\\site-packages\\sklearn\\base.py:445: UserWarning: X does not have valid feature names, but StandardScaler was fitted with feature names\n",
      "  warnings.warn(\n",
      "C:\\Users\\vinay\\AppData\\Roaming\\Python\\Python310\\site-packages\\sklearn\\base.py:445: UserWarning: X does not have valid feature names, but StandardScaler was fitted with feature names\n",
      "  warnings.warn(\n"
     ]
    },
    {
     "name": "stdout",
     "output_type": "stream",
     "text": [
      "angry [5.63553539e-01 1.53240471e-10 3.24355309e-08 4.21281148e-01\n",
      " 2.20997154e-09 4.80642562e-04 2.41546777e-09 1.42021537e-02\n",
      " 4.82278758e-04 1.13552790e-11 2.00095789e-07]\n",
      "nervous [2.77183609e-01 3.87590167e-13 8.57972059e-10 4.28188998e-01\n",
      " 2.53384668e-14 2.99525121e-05 3.56360681e-11 2.94501338e-01\n",
      " 9.61007411e-05 1.28476602e-14 1.51451964e-09]\n"
     ]
    },
    {
     "name": "stderr",
     "output_type": "stream",
     "text": [
      "C:\\Users\\vinay\\AppData\\Roaming\\Python\\Python310\\site-packages\\sklearn\\base.py:445: UserWarning: X does not have valid feature names, but StandardScaler was fitted with feature names\n",
      "  warnings.warn(\n",
      "C:\\Users\\vinay\\AppData\\Roaming\\Python\\Python310\\site-packages\\sklearn\\base.py:445: UserWarning: X does not have valid feature names, but StandardScaler was fitted with feature names\n",
      "  warnings.warn(\n",
      "C:\\Users\\vinay\\AppData\\Roaming\\Python\\Python310\\site-packages\\sklearn\\base.py:445: UserWarning: X does not have valid feature names, but StandardScaler was fitted with feature names\n",
      "  warnings.warn(\n",
      "C:\\Users\\vinay\\AppData\\Roaming\\Python\\Python310\\site-packages\\sklearn\\base.py:445: UserWarning: X does not have valid feature names, but StandardScaler was fitted with feature names\n",
      "  warnings.warn(\n"
     ]
    },
    {
     "name": "stdout",
     "output_type": "stream",
     "text": [
      "nervous [2.90818757e-01 9.59627721e-13 1.23376293e-09 6.14327141e-01\n",
      " 7.25945994e-13 5.17827637e-05 5.22364248e-11 9.47629424e-02\n",
      " 3.93724820e-05 1.37385649e-14 2.63464810e-09]\n",
      "nervous [2.94700591e-01 1.47992743e-12 4.39197564e-09 4.39564363e-01\n",
      " 8.62076672e-13 7.02891417e-05 4.88235305e-11 2.65625391e-01\n",
      " 3.93111438e-05 1.58288849e-13 5.05946398e-08]\n"
     ]
    },
    {
     "name": "stderr",
     "output_type": "stream",
     "text": [
      "C:\\Users\\vinay\\AppData\\Roaming\\Python\\Python310\\site-packages\\sklearn\\base.py:445: UserWarning: X does not have valid feature names, but StandardScaler was fitted with feature names\n",
      "  warnings.warn(\n",
      "C:\\Users\\vinay\\AppData\\Roaming\\Python\\Python310\\site-packages\\sklearn\\base.py:445: UserWarning: X does not have valid feature names, but StandardScaler was fitted with feature names\n",
      "  warnings.warn(\n",
      "C:\\Users\\vinay\\AppData\\Roaming\\Python\\Python310\\site-packages\\sklearn\\base.py:445: UserWarning: X does not have valid feature names, but StandardScaler was fitted with feature names\n",
      "  warnings.warn(\n",
      "C:\\Users\\vinay\\AppData\\Roaming\\Python\\Python310\\site-packages\\sklearn\\base.py:445: UserWarning: X does not have valid feature names, but StandardScaler was fitted with feature names\n",
      "  warnings.warn(\n"
     ]
    },
    {
     "name": "stdout",
     "output_type": "stream",
     "text": [
      "smile [4.16175097e-02 5.95600060e-10 1.91167903e-08 1.19926745e-01\n",
      " 8.54318773e-10 4.12107778e-05 1.97548044e-11 8.37998931e-01\n",
      " 4.11739099e-04 1.14817921e-11 3.84395183e-06]\n",
      "smile [6.36824672e-03 1.00221881e-07 9.46640323e-08 4.21132315e-02\n",
      " 1.56692163e-07 8.77318007e-05 1.88953028e-11 9.47867687e-01\n",
      " 3.12874629e-03 5.90311620e-10 4.34004204e-04]\n"
     ]
    },
    {
     "name": "stderr",
     "output_type": "stream",
     "text": [
      "C:\\Users\\vinay\\AppData\\Roaming\\Python\\Python310\\site-packages\\sklearn\\base.py:445: UserWarning: X does not have valid feature names, but StandardScaler was fitted with feature names\n",
      "  warnings.warn(\n",
      "C:\\Users\\vinay\\AppData\\Roaming\\Python\\Python310\\site-packages\\sklearn\\base.py:445: UserWarning: X does not have valid feature names, but StandardScaler was fitted with feature names\n",
      "  warnings.warn(\n",
      "C:\\Users\\vinay\\AppData\\Roaming\\Python\\Python310\\site-packages\\sklearn\\base.py:445: UserWarning: X does not have valid feature names, but StandardScaler was fitted with feature names\n",
      "  warnings.warn(\n",
      "C:\\Users\\vinay\\AppData\\Roaming\\Python\\Python310\\site-packages\\sklearn\\base.py:445: UserWarning: X does not have valid feature names, but StandardScaler was fitted with feature names\n",
      "  warnings.warn(\n"
     ]
    },
    {
     "name": "stdout",
     "output_type": "stream",
     "text": [
      "smile [1.90976177e-01 3.52882887e-08 9.19598687e-09 2.34216228e-02\n",
      " 8.43888113e-09 6.23086178e-02 1.18112429e-09 6.72809264e-01\n",
      " 4.76861444e-02 2.42511014e-08 2.79809495e-03]\n",
      "sad [6.48519972e-02 2.15806293e-09 1.14898574e-11 2.44438335e-04\n",
      " 2.03891555e-09 8.11005391e-01 1.62519012e-08 1.23628938e-01\n",
      " 1.74204674e-04 1.13559484e-07 9.48971605e-05]\n"
     ]
    },
    {
     "name": "stderr",
     "output_type": "stream",
     "text": [
      "C:\\Users\\vinay\\AppData\\Roaming\\Python\\Python310\\site-packages\\sklearn\\base.py:445: UserWarning: X does not have valid feature names, but StandardScaler was fitted with feature names\n",
      "  warnings.warn(\n",
      "C:\\Users\\vinay\\AppData\\Roaming\\Python\\Python310\\site-packages\\sklearn\\base.py:445: UserWarning: X does not have valid feature names, but StandardScaler was fitted with feature names\n",
      "  warnings.warn(\n",
      "C:\\Users\\vinay\\AppData\\Roaming\\Python\\Python310\\site-packages\\sklearn\\base.py:445: UserWarning: X does not have valid feature names, but StandardScaler was fitted with feature names\n",
      "  warnings.warn(\n",
      "C:\\Users\\vinay\\AppData\\Roaming\\Python\\Python310\\site-packages\\sklearn\\base.py:445: UserWarning: X does not have valid feature names, but StandardScaler was fitted with feature names\n",
      "  warnings.warn(\n"
     ]
    },
    {
     "name": "stdout",
     "output_type": "stream",
     "text": [
      "sad [3.22156362e-02 8.28978209e-12 2.77377568e-15 6.32254936e-06\n",
      " 9.45998517e-13 9.65421184e-01 1.21763736e-08 2.34637725e-03\n",
      " 1.03838556e-05 8.85541264e-09 7.49750485e-08]\n",
      "angry [5.36691390e-01 2.29150986e-09 1.97831414e-10 2.02681150e-03\n",
      " 3.66438826e-08 4.42638049e-01 1.25392299e-08 1.83468222e-02\n",
      " 2.95638610e-04 9.61360335e-08 1.14050935e-06]\n"
     ]
    },
    {
     "name": "stderr",
     "output_type": "stream",
     "text": [
      "C:\\Users\\vinay\\AppData\\Roaming\\Python\\Python310\\site-packages\\sklearn\\base.py:445: UserWarning: X does not have valid feature names, but StandardScaler was fitted with feature names\n",
      "  warnings.warn(\n",
      "C:\\Users\\vinay\\AppData\\Roaming\\Python\\Python310\\site-packages\\sklearn\\base.py:445: UserWarning: X does not have valid feature names, but StandardScaler was fitted with feature names\n",
      "  warnings.warn(\n",
      "C:\\Users\\vinay\\AppData\\Roaming\\Python\\Python310\\site-packages\\sklearn\\base.py:445: UserWarning: X does not have valid feature names, but StandardScaler was fitted with feature names\n",
      "  warnings.warn(\n",
      "C:\\Users\\vinay\\AppData\\Roaming\\Python\\Python310\\site-packages\\sklearn\\base.py:445: UserWarning: X does not have valid feature names, but StandardScaler was fitted with feature names\n",
      "  warnings.warn(\n"
     ]
    },
    {
     "name": "stdout",
     "output_type": "stream",
     "text": [
      "confident [1.13890563e-05 8.84744184e-08 7.95267164e-01 1.90798201e-01\n",
      " 1.45829434e-05 9.36200706e-12 3.14069568e-18 1.38709601e-02\n",
      " 3.07738675e-05 8.47809276e-14 6.84047568e-06]\n",
      "confident [1.40280624e-21 4.24598893e-12 9.99999993e-01 2.19723500e-09\n",
      " 5.16790713e-09 1.58693397e-34 5.83472992e-37 1.70305092e-13\n",
      " 2.13010491e-16 1.36561806e-29 6.97502610e-16]\n"
     ]
    },
    {
     "name": "stderr",
     "output_type": "stream",
     "text": [
      "C:\\Users\\vinay\\AppData\\Roaming\\Python\\Python310\\site-packages\\sklearn\\base.py:445: UserWarning: X does not have valid feature names, but StandardScaler was fitted with feature names\n",
      "  warnings.warn(\n",
      "C:\\Users\\vinay\\AppData\\Roaming\\Python\\Python310\\site-packages\\sklearn\\base.py:445: UserWarning: X does not have valid feature names, but StandardScaler was fitted with feature names\n",
      "  warnings.warn(\n",
      "C:\\Users\\vinay\\AppData\\Roaming\\Python\\Python310\\site-packages\\sklearn\\base.py:445: UserWarning: X does not have valid feature names, but StandardScaler was fitted with feature names\n",
      "  warnings.warn(\n",
      "C:\\Users\\vinay\\AppData\\Roaming\\Python\\Python310\\site-packages\\sklearn\\base.py:445: UserWarning: X does not have valid feature names, but StandardScaler was fitted with feature names\n",
      "  warnings.warn(\n"
     ]
    },
    {
     "name": "stdout",
     "output_type": "stream",
     "text": [
      "confident [3.02701339e-25 3.87815748e-12 1.00000000e+00 1.36383224e-10\n",
      " 6.45464896e-12 3.31514874e-39 5.74787814e-41 9.42464190e-18\n",
      " 2.09851719e-18 8.07079252e-33 7.73246241e-18]\n",
      "confident [7.94287580e-31 4.03905235e-14 1.00000000e+00 1.12998774e-13\n",
      " 4.41080852e-15 7.87708575e-47 3.98972541e-47 1.01393751e-23\n",
      " 7.05914320e-23 4.83703395e-38 8.27702957e-21]\n"
     ]
    },
    {
     "name": "stderr",
     "output_type": "stream",
     "text": [
      "C:\\Users\\vinay\\AppData\\Roaming\\Python\\Python310\\site-packages\\sklearn\\base.py:445: UserWarning: X does not have valid feature names, but StandardScaler was fitted with feature names\n",
      "  warnings.warn(\n",
      "C:\\Users\\vinay\\AppData\\Roaming\\Python\\Python310\\site-packages\\sklearn\\base.py:445: UserWarning: X does not have valid feature names, but StandardScaler was fitted with feature names\n",
      "  warnings.warn(\n",
      "C:\\Users\\vinay\\AppData\\Roaming\\Python\\Python310\\site-packages\\sklearn\\base.py:445: UserWarning: X does not have valid feature names, but StandardScaler was fitted with feature names\n",
      "  warnings.warn(\n",
      "C:\\Users\\vinay\\AppData\\Roaming\\Python\\Python310\\site-packages\\sklearn\\base.py:445: UserWarning: X does not have valid feature names, but StandardScaler was fitted with feature names\n",
      "  warnings.warn(\n"
     ]
    },
    {
     "name": "stdout",
     "output_type": "stream",
     "text": [
      "confident [1.16526098e-33 4.30183250e-15 1.00000000e+00 4.70076961e-15\n",
      " 5.59573680e-17 1.77403554e-51 1.88581551e-52 4.02510712e-26\n",
      " 2.14720552e-25 7.10084631e-42 6.41350987e-22]\n",
      "confident [8.43834543e-34 1.91603236e-15 1.00000000e+00 1.42816257e-15\n",
      " 1.95188393e-19 2.45948097e-51 1.36320131e-53 3.64819092e-25\n",
      " 2.57450264e-25 8.66210497e-42 2.53428110e-20]\n"
     ]
    },
    {
     "name": "stderr",
     "output_type": "stream",
     "text": [
      "C:\\Users\\vinay\\AppData\\Roaming\\Python\\Python310\\site-packages\\sklearn\\base.py:445: UserWarning: X does not have valid feature names, but StandardScaler was fitted with feature names\n",
      "  warnings.warn(\n",
      "C:\\Users\\vinay\\AppData\\Roaming\\Python\\Python310\\site-packages\\sklearn\\base.py:445: UserWarning: X does not have valid feature names, but StandardScaler was fitted with feature names\n",
      "  warnings.warn(\n",
      "C:\\Users\\vinay\\AppData\\Roaming\\Python\\Python310\\site-packages\\sklearn\\base.py:445: UserWarning: X does not have valid feature names, but StandardScaler was fitted with feature names\n",
      "  warnings.warn(\n",
      "C:\\Users\\vinay\\AppData\\Roaming\\Python\\Python310\\site-packages\\sklearn\\base.py:445: UserWarning: X does not have valid feature names, but StandardScaler was fitted with feature names\n",
      "  warnings.warn(\n"
     ]
    },
    {
     "name": "stdout",
     "output_type": "stream",
     "text": [
      "confident [3.89713316e-33 9.70354058e-14 1.00000000e+00 1.79246875e-14\n",
      " 6.81771858e-20 9.00901950e-51 1.77579174e-52 3.27789212e-23\n",
      " 2.15403692e-22 8.18917338e-41 1.51409550e-18]\n",
      "confident [1.35345777e-33 1.09337132e-14 1.00000000e+00 6.52736489e-15\n",
      " 6.17246672e-20 2.22825919e-51 3.13773768e-54 2.21255623e-23\n",
      " 1.60899212e-25 7.80492937e-42 5.37191300e-18]\n"
     ]
    },
    {
     "name": "stderr",
     "output_type": "stream",
     "text": [
      "C:\\Users\\vinay\\AppData\\Roaming\\Python\\Python310\\site-packages\\sklearn\\base.py:445: UserWarning: X does not have valid feature names, but StandardScaler was fitted with feature names\n",
      "  warnings.warn(\n",
      "C:\\Users\\vinay\\AppData\\Roaming\\Python\\Python310\\site-packages\\sklearn\\base.py:445: UserWarning: X does not have valid feature names, but StandardScaler was fitted with feature names\n",
      "  warnings.warn(\n",
      "C:\\Users\\vinay\\AppData\\Roaming\\Python\\Python310\\site-packages\\sklearn\\base.py:445: UserWarning: X does not have valid feature names, but StandardScaler was fitted with feature names\n",
      "  warnings.warn(\n",
      "C:\\Users\\vinay\\AppData\\Roaming\\Python\\Python310\\site-packages\\sklearn\\base.py:445: UserWarning: X does not have valid feature names, but StandardScaler was fitted with feature names\n",
      "  warnings.warn(\n"
     ]
    },
    {
     "name": "stdout",
     "output_type": "stream",
     "text": [
      "confident [2.94975544e-34 2.92412888e-15 1.00000000e+00 1.53627078e-15\n",
      " 8.60450113e-20 2.74211205e-52 5.88667987e-55 1.67322116e-24\n",
      " 2.85337276e-26 2.36020735e-42 1.77442557e-18]\n",
      "confident [1.43804875e-33 5.06148353e-15 1.00000000e+00 4.93599629e-15\n",
      " 6.58438200e-20 3.78921089e-51 1.78457710e-54 4.36732802e-24\n",
      " 7.68641700e-26 9.49955893e-42 3.89503348e-18]\n"
     ]
    },
    {
     "name": "stderr",
     "output_type": "stream",
     "text": [
      "C:\\Users\\vinay\\AppData\\Roaming\\Python\\Python310\\site-packages\\sklearn\\base.py:445: UserWarning: X does not have valid feature names, but StandardScaler was fitted with feature names\n",
      "  warnings.warn(\n",
      "C:\\Users\\vinay\\AppData\\Roaming\\Python\\Python310\\site-packages\\sklearn\\base.py:445: UserWarning: X does not have valid feature names, but StandardScaler was fitted with feature names\n",
      "  warnings.warn(\n",
      "C:\\Users\\vinay\\AppData\\Roaming\\Python\\Python310\\site-packages\\sklearn\\base.py:445: UserWarning: X does not have valid feature names, but StandardScaler was fitted with feature names\n",
      "  warnings.warn(\n",
      "C:\\Users\\vinay\\AppData\\Roaming\\Python\\Python310\\site-packages\\sklearn\\base.py:445: UserWarning: X does not have valid feature names, but StandardScaler was fitted with feature names\n",
      "  warnings.warn(\n"
     ]
    },
    {
     "name": "stdout",
     "output_type": "stream",
     "text": [
      "confident [1.87717945e-33 1.43315973e-14 1.00000000e+00 4.54534455e-15\n",
      " 2.12523053e-19 1.40709305e-50 7.75803185e-54 4.60852688e-24\n",
      " 1.24934764e-25 5.83827376e-41 4.34050287e-18]\n",
      "confident [2.02917157e-33 2.08332934e-14 1.00000000e+00 3.48021249e-15\n",
      " 6.80017590e-19 2.89370121e-50 1.55010855e-53 3.76968759e-24\n",
      " 7.01211286e-26 1.76720094e-40 3.93133486e-18]\n"
     ]
    },
    {
     "name": "stderr",
     "output_type": "stream",
     "text": [
      "C:\\Users\\vinay\\AppData\\Roaming\\Python\\Python310\\site-packages\\sklearn\\base.py:445: UserWarning: X does not have valid feature names, but StandardScaler was fitted with feature names\n",
      "  warnings.warn(\n",
      "C:\\Users\\vinay\\AppData\\Roaming\\Python\\Python310\\site-packages\\sklearn\\base.py:445: UserWarning: X does not have valid feature names, but StandardScaler was fitted with feature names\n",
      "  warnings.warn(\n",
      "C:\\Users\\vinay\\AppData\\Roaming\\Python\\Python310\\site-packages\\sklearn\\base.py:445: UserWarning: X does not have valid feature names, but StandardScaler was fitted with feature names\n",
      "  warnings.warn(\n",
      "C:\\Users\\vinay\\AppData\\Roaming\\Python\\Python310\\site-packages\\sklearn\\base.py:445: UserWarning: X does not have valid feature names, but StandardScaler was fitted with feature names\n",
      "  warnings.warn(\n"
     ]
    },
    {
     "name": "stdout",
     "output_type": "stream",
     "text": [
      "confident [1.89141972e-33 7.70302439e-14 1.00000000e+00 2.67961518e-15\n",
      " 4.53565164e-18 6.74517165e-50 9.59270144e-53 2.02973636e-24\n",
      " 3.24465296e-25 1.02467711e-39 2.57517433e-18]\n",
      "confident [9.18279289e-34 2.91445749e-14 1.00000000e+00 1.80534358e-15\n",
      " 5.99688895e-18 1.80005309e-50 2.59218454e-53 3.18445279e-25\n",
      " 6.00193320e-26 2.90470023e-40 7.53094395e-19]\n"
     ]
    },
    {
     "name": "stderr",
     "output_type": "stream",
     "text": [
      "C:\\Users\\vinay\\AppData\\Roaming\\Python\\Python310\\site-packages\\sklearn\\base.py:445: UserWarning: X does not have valid feature names, but StandardScaler was fitted with feature names\n",
      "  warnings.warn(\n",
      "C:\\Users\\vinay\\AppData\\Roaming\\Python\\Python310\\site-packages\\sklearn\\base.py:445: UserWarning: X does not have valid feature names, but StandardScaler was fitted with feature names\n",
      "  warnings.warn(\n",
      "C:\\Users\\vinay\\AppData\\Roaming\\Python\\Python310\\site-packages\\sklearn\\base.py:445: UserWarning: X does not have valid feature names, but StandardScaler was fitted with feature names\n",
      "  warnings.warn(\n",
      "C:\\Users\\vinay\\AppData\\Roaming\\Python\\Python310\\site-packages\\sklearn\\base.py:445: UserWarning: X does not have valid feature names, but StandardScaler was fitted with feature names\n",
      "  warnings.warn(\n"
     ]
    },
    {
     "name": "stdout",
     "output_type": "stream",
     "text": [
      "confident [3.70077685e-34 2.24011195e-14 1.00000000e+00 2.85502312e-16\n",
      " 7.44276373e-18 1.27026905e-49 3.06717030e-53 2.26130840e-26\n",
      " 1.27771960e-25 2.37741795e-39 2.32067125e-18]\n",
      "confident [3.17887100e-31 6.83914512e-15 1.00000000e+00 1.13336055e-14\n",
      " 2.47981390e-20 1.13583081e-46 4.50124906e-51 4.34919267e-23\n",
      " 1.66749570e-24 6.28893254e-38 6.60272541e-17]\n"
     ]
    },
    {
     "name": "stderr",
     "output_type": "stream",
     "text": [
      "C:\\Users\\vinay\\AppData\\Roaming\\Python\\Python310\\site-packages\\sklearn\\base.py:445: UserWarning: X does not have valid feature names, but StandardScaler was fitted with feature names\n",
      "  warnings.warn(\n",
      "C:\\Users\\vinay\\AppData\\Roaming\\Python\\Python310\\site-packages\\sklearn\\base.py:445: UserWarning: X does not have valid feature names, but StandardScaler was fitted with feature names\n",
      "  warnings.warn(\n",
      "C:\\Users\\vinay\\AppData\\Roaming\\Python\\Python310\\site-packages\\sklearn\\base.py:445: UserWarning: X does not have valid feature names, but StandardScaler was fitted with feature names\n",
      "  warnings.warn(\n",
      "C:\\Users\\vinay\\AppData\\Roaming\\Python\\Python310\\site-packages\\sklearn\\base.py:445: UserWarning: X does not have valid feature names, but StandardScaler was fitted with feature names\n",
      "  warnings.warn(\n"
     ]
    },
    {
     "name": "stdout",
     "output_type": "stream",
     "text": [
      "confident [4.49414328e-30 1.43945272e-14 1.00000000e+00 4.09566015e-14\n",
      " 2.56048519e-20 3.36836187e-45 3.25233635e-50 4.99604476e-22\n",
      " 2.88861912e-24 6.28005202e-37 3.83572736e-16]\n",
      "confident [5.61108918e-29 6.93553385e-15 1.00000000e+00 9.82816274e-14\n",
      " 9.56376759e-22 4.98641835e-44 3.69961530e-50 2.42722329e-20\n",
      " 1.55950906e-24 1.85314165e-36 3.61409588e-15]\n"
     ]
    },
    {
     "name": "stderr",
     "output_type": "stream",
     "text": [
      "C:\\Users\\vinay\\AppData\\Roaming\\Python\\Python310\\site-packages\\sklearn\\base.py:445: UserWarning: X does not have valid feature names, but StandardScaler was fitted with feature names\n",
      "  warnings.warn(\n",
      "C:\\Users\\vinay\\AppData\\Roaming\\Python\\Python310\\site-packages\\sklearn\\base.py:445: UserWarning: X does not have valid feature names, but StandardScaler was fitted with feature names\n",
      "  warnings.warn(\n",
      "C:\\Users\\vinay\\AppData\\Roaming\\Python\\Python310\\site-packages\\sklearn\\base.py:445: UserWarning: X does not have valid feature names, but StandardScaler was fitted with feature names\n",
      "  warnings.warn(\n",
      "C:\\Users\\vinay\\AppData\\Roaming\\Python\\Python310\\site-packages\\sklearn\\base.py:445: UserWarning: X does not have valid feature names, but StandardScaler was fitted with feature names\n",
      "  warnings.warn(\n"
     ]
    },
    {
     "name": "stdout",
     "output_type": "stream",
     "text": [
      "confident [5.00742810e-28 2.34857759e-15 1.00000000e+00 1.42302167e-13\n",
      " 3.74942791e-23 6.86886178e-43 2.64561250e-50 2.39595048e-19\n",
      " 1.75320907e-24 5.28384947e-36 2.58748080e-14]\n",
      "confident [3.22790238e-28 1.17100938e-14 1.00000000e+00 1.38910564e-13\n",
      " 1.25646725e-22 4.57383214e-43 7.28167113e-51 4.94517504e-19\n",
      " 1.05289217e-24 7.47266863e-36 1.14666683e-13]\n"
     ]
    },
    {
     "name": "stderr",
     "output_type": "stream",
     "text": [
      "C:\\Users\\vinay\\AppData\\Roaming\\Python\\Python310\\site-packages\\sklearn\\base.py:445: UserWarning: X does not have valid feature names, but StandardScaler was fitted with feature names\n",
      "  warnings.warn(\n",
      "C:\\Users\\vinay\\AppData\\Roaming\\Python\\Python310\\site-packages\\sklearn\\base.py:445: UserWarning: X does not have valid feature names, but StandardScaler was fitted with feature names\n",
      "  warnings.warn(\n",
      "C:\\Users\\vinay\\AppData\\Roaming\\Python\\Python310\\site-packages\\sklearn\\base.py:445: UserWarning: X does not have valid feature names, but StandardScaler was fitted with feature names\n",
      "  warnings.warn(\n",
      "C:\\Users\\vinay\\AppData\\Roaming\\Python\\Python310\\site-packages\\sklearn\\base.py:445: UserWarning: X does not have valid feature names, but StandardScaler was fitted with feature names\n",
      "  warnings.warn(\n"
     ]
    },
    {
     "name": "stdout",
     "output_type": "stream",
     "text": [
      "confident [1.36988918e-28 2.06753560e-15 1.00000000e+00 5.75305639e-14\n",
      " 2.47173871e-23 1.87683101e-43 2.52126217e-51 1.49752692e-19\n",
      " 7.48868140e-25 2.39910812e-36 5.98909575e-14]\n",
      "confident [5.74017104e-31 9.13345591e-15 1.00000000e+00 1.25332105e-14\n",
      " 7.91476777e-22 6.81232558e-46 1.90639674e-53 7.14418209e-22\n",
      " 6.61812728e-26 8.89209749e-38 1.40502565e-14]\n"
     ]
    },
    {
     "name": "stderr",
     "output_type": "stream",
     "text": [
      "C:\\Users\\vinay\\AppData\\Roaming\\Python\\Python310\\site-packages\\sklearn\\base.py:445: UserWarning: X does not have valid feature names, but StandardScaler was fitted with feature names\n",
      "  warnings.warn(\n",
      "C:\\Users\\vinay\\AppData\\Roaming\\Python\\Python310\\site-packages\\sklearn\\base.py:445: UserWarning: X does not have valid feature names, but StandardScaler was fitted with feature names\n",
      "  warnings.warn(\n",
      "C:\\Users\\vinay\\AppData\\Roaming\\Python\\Python310\\site-packages\\sklearn\\base.py:445: UserWarning: X does not have valid feature names, but StandardScaler was fitted with feature names\n",
      "  warnings.warn(\n",
      "C:\\Users\\vinay\\AppData\\Roaming\\Python\\Python310\\site-packages\\sklearn\\base.py:445: UserWarning: X does not have valid feature names, but StandardScaler was fitted with feature names\n",
      "  warnings.warn(\n"
     ]
    },
    {
     "name": "stdout",
     "output_type": "stream",
     "text": [
      "confident [1.33438895e-32 1.57765512e-15 1.00000000e+00 8.52635572e-15\n",
      " 4.99862895e-22 7.99661170e-49 1.19820618e-54 3.52589226e-23\n",
      " 2.22556898e-25 9.57482774e-40 4.27664487e-17]\n",
      "confident [6.56903826e-32 4.37827144e-17 1.00000000e+00 6.51500054e-15\n",
      " 7.24126357e-21 1.26647856e-48 9.23489605e-53 3.66759728e-24\n",
      " 4.98635556e-25 2.72422599e-40 1.50957202e-19]\n"
     ]
    },
    {
     "name": "stderr",
     "output_type": "stream",
     "text": [
      "C:\\Users\\vinay\\AppData\\Roaming\\Python\\Python310\\site-packages\\sklearn\\base.py:445: UserWarning: X does not have valid feature names, but StandardScaler was fitted with feature names\n",
      "  warnings.warn(\n",
      "C:\\Users\\vinay\\AppData\\Roaming\\Python\\Python310\\site-packages\\sklearn\\base.py:445: UserWarning: X does not have valid feature names, but StandardScaler was fitted with feature names\n",
      "  warnings.warn(\n",
      "C:\\Users\\vinay\\AppData\\Roaming\\Python\\Python310\\site-packages\\sklearn\\base.py:445: UserWarning: X does not have valid feature names, but StandardScaler was fitted with feature names\n",
      "  warnings.warn(\n",
      "C:\\Users\\vinay\\AppData\\Roaming\\Python\\Python310\\site-packages\\sklearn\\base.py:445: UserWarning: X does not have valid feature names, but StandardScaler was fitted with feature names\n",
      "  warnings.warn(\n"
     ]
    },
    {
     "name": "stdout",
     "output_type": "stream",
     "text": [
      "confident [1.97990731e-31 8.72665362e-18 1.00000000e+00 6.54203807e-15\n",
      " 2.60275158e-19 4.89546255e-48 1.62621715e-51 1.80692021e-25\n",
      " 4.75854082e-26 3.26166486e-40 4.99903673e-20]\n",
      "confident [1.58761486e-31 7.08741763e-18 1.00000000e+00 3.26803791e-15\n",
      " 7.93098825e-19 7.44582625e-48 5.33687649e-51 4.46216669e-26\n",
      " 4.56391361e-26 1.17918943e-39 3.88766369e-20]\n"
     ]
    },
    {
     "name": "stderr",
     "output_type": "stream",
     "text": [
      "C:\\Users\\vinay\\AppData\\Roaming\\Python\\Python310\\site-packages\\sklearn\\base.py:445: UserWarning: X does not have valid feature names, but StandardScaler was fitted with feature names\n",
      "  warnings.warn(\n",
      "C:\\Users\\vinay\\AppData\\Roaming\\Python\\Python310\\site-packages\\sklearn\\base.py:445: UserWarning: X does not have valid feature names, but StandardScaler was fitted with feature names\n",
      "  warnings.warn(\n",
      "C:\\Users\\vinay\\AppData\\Roaming\\Python\\Python310\\site-packages\\sklearn\\base.py:445: UserWarning: X does not have valid feature names, but StandardScaler was fitted with feature names\n",
      "  warnings.warn(\n",
      "C:\\Users\\vinay\\AppData\\Roaming\\Python\\Python310\\site-packages\\sklearn\\base.py:445: UserWarning: X does not have valid feature names, but StandardScaler was fitted with feature names\n",
      "  warnings.warn(\n"
     ]
    },
    {
     "name": "stdout",
     "output_type": "stream",
     "text": [
      "confident [2.75613759e-31 9.13292482e-17 1.00000000e+00 2.35605686e-15\n",
      " 5.89767706e-17 2.09888781e-47 1.42440856e-50 1.99425773e-26\n",
      " 8.96154661e-25 1.12355659e-38 1.09162361e-19]\n",
      "confident [1.18528837e-27 2.01851563e-15 1.00000000e+00 1.98396725e-13\n",
      " 2.65232690e-16 1.41757087e-42 1.48023387e-47 6.19695172e-22\n",
      " 1.23872586e-23 1.63516091e-35 6.78147447e-17]\n"
     ]
    },
    {
     "name": "stderr",
     "output_type": "stream",
     "text": [
      "C:\\Users\\vinay\\AppData\\Roaming\\Python\\Python310\\site-packages\\sklearn\\base.py:445: UserWarning: X does not have valid feature names, but StandardScaler was fitted with feature names\n",
      "  warnings.warn(\n",
      "C:\\Users\\vinay\\AppData\\Roaming\\Python\\Python310\\site-packages\\sklearn\\base.py:445: UserWarning: X does not have valid feature names, but StandardScaler was fitted with feature names\n",
      "  warnings.warn(\n",
      "C:\\Users\\vinay\\AppData\\Roaming\\Python\\Python310\\site-packages\\sklearn\\base.py:445: UserWarning: X does not have valid feature names, but StandardScaler was fitted with feature names\n",
      "  warnings.warn(\n",
      "C:\\Users\\vinay\\AppData\\Roaming\\Python\\Python310\\site-packages\\sklearn\\base.py:445: UserWarning: X does not have valid feature names, but StandardScaler was fitted with feature names\n",
      "  warnings.warn(\n"
     ]
    },
    {
     "name": "stdout",
     "output_type": "stream",
     "text": [
      "confident [1.46840907e-18 9.35588457e-13 9.99999994e-01 5.73495140e-09\n",
      " 6.74476791e-15 2.40784494e-30 1.37150672e-37 1.14484202e-14\n",
      " 1.03245786e-17 1.71006795e-27 2.61646469e-12]\n",
      "confident [5.21319883e-08 6.85135322e-08 9.98231744e-01 1.76663280e-03\n",
      " 4.88025860e-10 3.91541400e-15 2.13918025e-23 4.71643251e-07\n",
      " 1.60267217e-09 3.99110525e-16 1.02871993e-06]\n"
     ]
    },
    {
     "name": "stderr",
     "output_type": "stream",
     "text": [
      "C:\\Users\\vinay\\AppData\\Roaming\\Python\\Python310\\site-packages\\sklearn\\base.py:445: UserWarning: X does not have valid feature names, but StandardScaler was fitted with feature names\n",
      "  warnings.warn(\n",
      "C:\\Users\\vinay\\AppData\\Roaming\\Python\\Python310\\site-packages\\sklearn\\base.py:445: UserWarning: X does not have valid feature names, but StandardScaler was fitted with feature names\n",
      "  warnings.warn(\n",
      "C:\\Users\\vinay\\AppData\\Roaming\\Python\\Python310\\site-packages\\sklearn\\base.py:445: UserWarning: X does not have valid feature names, but StandardScaler was fitted with feature names\n",
      "  warnings.warn(\n",
      "C:\\Users\\vinay\\AppData\\Roaming\\Python\\Python310\\site-packages\\sklearn\\base.py:445: UserWarning: X does not have valid feature names, but StandardScaler was fitted with feature names\n",
      "  warnings.warn(\n"
     ]
    },
    {
     "name": "stdout",
     "output_type": "stream",
     "text": [
      "nervous [1.60431783e-01 3.13955012e-03 1.02825513e-02 8.03409763e-01\n",
      " 9.63498590e-05 3.42309803e-04 9.66196514e-11 1.67304625e-02\n",
      " 4.87227220e-03 1.40142713e-06 6.93556302e-04]\n",
      "nervous [1.51307423e-01 3.32076427e-02 5.59755326e-03 6.47951381e-01\n",
      " 3.43933413e-03 8.13015516e-04 2.04083821e-09 1.36508121e-01\n",
      " 2.09314947e-02 1.76530314e-05 2.26379688e-04]\n"
     ]
    },
    {
     "name": "stderr",
     "output_type": "stream",
     "text": [
      "C:\\Users\\vinay\\AppData\\Roaming\\Python\\Python310\\site-packages\\sklearn\\base.py:445: UserWarning: X does not have valid feature names, but StandardScaler was fitted with feature names\n",
      "  warnings.warn(\n",
      "C:\\Users\\vinay\\AppData\\Roaming\\Python\\Python310\\site-packages\\sklearn\\base.py:445: UserWarning: X does not have valid feature names, but StandardScaler was fitted with feature names\n",
      "  warnings.warn(\n",
      "C:\\Users\\vinay\\AppData\\Roaming\\Python\\Python310\\site-packages\\sklearn\\base.py:445: UserWarning: X does not have valid feature names, but StandardScaler was fitted with feature names\n",
      "  warnings.warn(\n",
      "C:\\Users\\vinay\\AppData\\Roaming\\Python\\Python310\\site-packages\\sklearn\\base.py:445: UserWarning: X does not have valid feature names, but StandardScaler was fitted with feature names\n",
      "  warnings.warn(\n"
     ]
    },
    {
     "name": "stdout",
     "output_type": "stream",
     "text": [
      "nervous [1.18550806e-02 1.59200178e-01 3.05868845e-02 6.21002632e-01\n",
      " 2.91777823e-02 8.17189592e-06 1.45269698e-09 1.24435698e-01\n",
      " 2.37068800e-02 4.48150372e-06 2.22103421e-05]\n",
      "neutral [4.69946292e-03 1.07883723e-01 1.13824466e-02 2.99970288e-01\n",
      " 5.35366312e-01 2.20113306e-06 2.17180688e-08 1.28868501e-02\n",
      " 2.78052047e-02 3.23578463e-06 2.54028548e-07]\n"
     ]
    },
    {
     "name": "stderr",
     "output_type": "stream",
     "text": [
      "C:\\Users\\vinay\\AppData\\Roaming\\Python\\Python310\\site-packages\\sklearn\\base.py:445: UserWarning: X does not have valid feature names, but StandardScaler was fitted with feature names\n",
      "  warnings.warn(\n",
      "C:\\Users\\vinay\\AppData\\Roaming\\Python\\Python310\\site-packages\\sklearn\\base.py:445: UserWarning: X does not have valid feature names, but StandardScaler was fitted with feature names\n",
      "  warnings.warn(\n",
      "C:\\Users\\vinay\\AppData\\Roaming\\Python\\Python310\\site-packages\\sklearn\\base.py:445: UserWarning: X does not have valid feature names, but StandardScaler was fitted with feature names\n",
      "  warnings.warn(\n",
      "C:\\Users\\vinay\\AppData\\Roaming\\Python\\Python310\\site-packages\\sklearn\\base.py:445: UserWarning: X does not have valid feature names, but StandardScaler was fitted with feature names\n",
      "  warnings.warn(\n"
     ]
    },
    {
     "name": "stdout",
     "output_type": "stream",
     "text": [
      "neutral [2.72249788e-04 3.43109238e-03 4.36344325e-02 1.29882173e-01\n",
      " 8.19855659e-01 3.90971463e-09 2.93103948e-10 1.04336110e-03\n",
      " 1.88100131e-03 2.44454291e-08 1.86053347e-09]\n",
      "neutral [7.98376343e-06 3.75361745e-04 1.90031054e-01 4.27408093e-02\n",
      " 7.66555059e-01 6.48835085e-12 1.42096563e-11 6.93113779e-05\n",
      " 2.20421006e-04 3.11511915e-10 2.97010437e-11]\n"
     ]
    },
    {
     "name": "stderr",
     "output_type": "stream",
     "text": [
      "C:\\Users\\vinay\\AppData\\Roaming\\Python\\Python310\\site-packages\\sklearn\\base.py:445: UserWarning: X does not have valid feature names, but StandardScaler was fitted with feature names\n",
      "  warnings.warn(\n",
      "C:\\Users\\vinay\\AppData\\Roaming\\Python\\Python310\\site-packages\\sklearn\\base.py:445: UserWarning: X does not have valid feature names, but StandardScaler was fitted with feature names\n",
      "  warnings.warn(\n",
      "C:\\Users\\vinay\\AppData\\Roaming\\Python\\Python310\\site-packages\\sklearn\\base.py:445: UserWarning: X does not have valid feature names, but StandardScaler was fitted with feature names\n",
      "  warnings.warn(\n",
      "C:\\Users\\vinay\\AppData\\Roaming\\Python\\Python310\\site-packages\\sklearn\\base.py:445: UserWarning: X does not have valid feature names, but StandardScaler was fitted with feature names\n",
      "  warnings.warn(\n"
     ]
    },
    {
     "name": "stdout",
     "output_type": "stream",
     "text": [
      "neutral [1.02316164e-07 1.75877437e-05 6.29105186e-02 1.67980750e-03\n",
      " 9.35378657e-01 1.35999243e-14 1.13597807e-12 2.66377356e-06\n",
      " 1.06634325e-05 1.00980693e-11 4.29421708e-13]\n",
      "neutral [4.80068530e-09 1.00277138e-05 5.35102599e-03 1.76059250e-04\n",
      " 9.94460571e-01 4.74406423e-16 3.24455662e-14 3.36630303e-07\n",
      " 1.97422364e-06 7.30922573e-13 2.28233099e-13]\n"
     ]
    },
    {
     "name": "stderr",
     "output_type": "stream",
     "text": [
      "C:\\Users\\vinay\\AppData\\Roaming\\Python\\Python310\\site-packages\\sklearn\\base.py:445: UserWarning: X does not have valid feature names, but StandardScaler was fitted with feature names\n",
      "  warnings.warn(\n",
      "C:\\Users\\vinay\\AppData\\Roaming\\Python\\Python310\\site-packages\\sklearn\\base.py:445: UserWarning: X does not have valid feature names, but StandardScaler was fitted with feature names\n",
      "  warnings.warn(\n",
      "C:\\Users\\vinay\\AppData\\Roaming\\Python\\Python310\\site-packages\\sklearn\\base.py:445: UserWarning: X does not have valid feature names, but StandardScaler was fitted with feature names\n",
      "  warnings.warn(\n",
      "C:\\Users\\vinay\\AppData\\Roaming\\Python\\Python310\\site-packages\\sklearn\\base.py:445: UserWarning: X does not have valid feature names, but StandardScaler was fitted with feature names\n",
      "  warnings.warn(\n"
     ]
    },
    {
     "name": "stdout",
     "output_type": "stream",
     "text": [
      "neutral [2.66481898e-09 3.46930505e-06 4.28565461e-03 1.54260235e-04\n",
      " 9.95553087e-01 2.25890045e-16 7.44049874e-16 4.90953412e-07\n",
      " 3.03511966e-06 2.04037256e-13 6.34050445e-12]\n",
      "conceal [3.94502877e-08 7.91705432e-01 2.28786930e-02 1.83797873e-01\n",
      " 1.24257692e-03 2.62118330e-14 1.96120835e-15 1.81180327e-04\n",
      " 1.93776598e-04 1.04500473e-12 4.28682606e-07]\n"
     ]
    },
    {
     "name": "stderr",
     "output_type": "stream",
     "text": [
      "C:\\Users\\vinay\\AppData\\Roaming\\Python\\Python310\\site-packages\\sklearn\\base.py:445: UserWarning: X does not have valid feature names, but StandardScaler was fitted with feature names\n",
      "  warnings.warn(\n",
      "C:\\Users\\vinay\\AppData\\Roaming\\Python\\Python310\\site-packages\\sklearn\\base.py:445: UserWarning: X does not have valid feature names, but StandardScaler was fitted with feature names\n",
      "  warnings.warn(\n",
      "C:\\Users\\vinay\\AppData\\Roaming\\Python\\Python310\\site-packages\\sklearn\\base.py:445: UserWarning: X does not have valid feature names, but StandardScaler was fitted with feature names\n",
      "  warnings.warn(\n",
      "C:\\Users\\vinay\\AppData\\Roaming\\Python\\Python310\\site-packages\\sklearn\\base.py:445: UserWarning: X does not have valid feature names, but StandardScaler was fitted with feature names\n",
      "  warnings.warn(\n"
     ]
    },
    {
     "name": "stdout",
     "output_type": "stream",
     "text": [
      "smile [9.52342125e-07 2.42577634e-05 1.17928541e-02 3.63110617e-01\n",
      " 3.80251629e-04 5.33727587e-13 1.39375725e-17 6.24346948e-01\n",
      " 3.04477731e-04 1.42908018e-13 3.96407735e-05]\n",
      "smile [2.52275478e-07 9.53739125e-08 9.22189223e-06 8.31956818e-02\n",
      " 1.93381653e-07 2.31853807e-13 1.00021104e-18 9.16753079e-01\n",
      " 3.82020792e-05 2.07896151e-16 3.27468879e-06]\n"
     ]
    },
    {
     "name": "stderr",
     "output_type": "stream",
     "text": [
      "C:\\Users\\vinay\\AppData\\Roaming\\Python\\Python310\\site-packages\\sklearn\\base.py:445: UserWarning: X does not have valid feature names, but StandardScaler was fitted with feature names\n",
      "  warnings.warn(\n",
      "C:\\Users\\vinay\\AppData\\Roaming\\Python\\Python310\\site-packages\\sklearn\\base.py:445: UserWarning: X does not have valid feature names, but StandardScaler was fitted with feature names\n",
      "  warnings.warn(\n",
      "C:\\Users\\vinay\\AppData\\Roaming\\Python\\Python310\\site-packages\\sklearn\\base.py:445: UserWarning: X does not have valid feature names, but StandardScaler was fitted with feature names\n",
      "  warnings.warn(\n",
      "C:\\Users\\vinay\\AppData\\Roaming\\Python\\Python310\\site-packages\\sklearn\\base.py:445: UserWarning: X does not have valid feature names, but StandardScaler was fitted with feature names\n",
      "  warnings.warn(\n"
     ]
    },
    {
     "name": "stdout",
     "output_type": "stream",
     "text": [
      "smile [1.12037461e-05 1.64680874e-09 1.05211782e-08 4.15315275e-01\n",
      " 6.08503122e-10 9.27799484e-13 3.21441709e-18 5.84660045e-01\n",
      " 1.34327617e-05 3.07123362e-18 3.06213538e-08]\n",
      "nervous [1.40044265e-04 2.64856610e-13 5.61293892e-11 6.84003535e-01\n",
      " 1.38648084e-14 1.52917879e-12 1.22126397e-18 3.15855926e-01\n",
      " 4.93476358e-07 7.04726943e-21 1.05248949e-09]\n"
     ]
    },
    {
     "name": "stderr",
     "output_type": "stream",
     "text": [
      "C:\\Users\\vinay\\AppData\\Roaming\\Python\\Python310\\site-packages\\sklearn\\base.py:445: UserWarning: X does not have valid feature names, but StandardScaler was fitted with feature names\n",
      "  warnings.warn(\n",
      "C:\\Users\\vinay\\AppData\\Roaming\\Python\\Python310\\site-packages\\sklearn\\base.py:445: UserWarning: X does not have valid feature names, but StandardScaler was fitted with feature names\n",
      "  warnings.warn(\n",
      "C:\\Users\\vinay\\AppData\\Roaming\\Python\\Python310\\site-packages\\sklearn\\base.py:445: UserWarning: X does not have valid feature names, but StandardScaler was fitted with feature names\n",
      "  warnings.warn(\n",
      "C:\\Users\\vinay\\AppData\\Roaming\\Python\\Python310\\site-packages\\sklearn\\base.py:445: UserWarning: X does not have valid feature names, but StandardScaler was fitted with feature names\n",
      "  warnings.warn(\n"
     ]
    },
    {
     "name": "stdout",
     "output_type": "stream",
     "text": [
      "nervous [2.33799766e-05 1.49885815e-12 3.89040031e-10 9.50873517e-01\n",
      " 3.13524854e-13 1.78220614e-14 8.55278216e-20 4.91022923e-02\n",
      " 8.10681718e-07 9.32172085e-22 9.25395414e-11]\n",
      "nervous [7.25216264e-07 2.31875054e-11 1.10907636e-08 9.96830679e-01\n",
      " 9.56481107e-11 2.36215283e-16 5.38297733e-21 3.16120874e-03\n",
      " 7.37566507e-06 4.19767276e-22 1.97385500e-10]\n"
     ]
    },
    {
     "name": "stderr",
     "output_type": "stream",
     "text": [
      "C:\\Users\\vinay\\AppData\\Roaming\\Python\\Python310\\site-packages\\sklearn\\base.py:445: UserWarning: X does not have valid feature names, but StandardScaler was fitted with feature names\n",
      "  warnings.warn(\n",
      "C:\\Users\\vinay\\AppData\\Roaming\\Python\\Python310\\site-packages\\sklearn\\base.py:445: UserWarning: X does not have valid feature names, but StandardScaler was fitted with feature names\n",
      "  warnings.warn(\n",
      "C:\\Users\\vinay\\AppData\\Roaming\\Python\\Python310\\site-packages\\sklearn\\base.py:445: UserWarning: X does not have valid feature names, but StandardScaler was fitted with feature names\n",
      "  warnings.warn(\n",
      "C:\\Users\\vinay\\AppData\\Roaming\\Python\\Python310\\site-packages\\sklearn\\base.py:445: UserWarning: X does not have valid feature names, but StandardScaler was fitted with feature names\n",
      "  warnings.warn(\n"
     ]
    },
    {
     "name": "stdout",
     "output_type": "stream",
     "text": [
      "nervous [3.53743208e-08 1.01088275e-10 1.70607048e-06 9.94295688e-01\n",
      " 7.88470004e-10 8.23687577e-18 8.65335491e-22 5.67227864e-03\n",
      " 3.02845453e-05 3.23894051e-22 6.93967949e-09]\n",
      "nervous [3.96293730e-08 6.44739512e-09 4.51927508e-04 9.86875627e-01\n",
      " 1.99531430e-06 5.54250632e-18 1.50421564e-20 1.24638423e-02\n",
      " 2.06474579e-04 5.07792410e-20 8.67715080e-08]\n"
     ]
    },
    {
     "name": "stderr",
     "output_type": "stream",
     "text": [
      "C:\\Users\\vinay\\AppData\\Roaming\\Python\\Python310\\site-packages\\sklearn\\base.py:445: UserWarning: X does not have valid feature names, but StandardScaler was fitted with feature names\n",
      "  warnings.warn(\n",
      "C:\\Users\\vinay\\AppData\\Roaming\\Python\\Python310\\site-packages\\sklearn\\base.py:445: UserWarning: X does not have valid feature names, but StandardScaler was fitted with feature names\n",
      "  warnings.warn(\n",
      "C:\\Users\\vinay\\AppData\\Roaming\\Python\\Python310\\site-packages\\sklearn\\base.py:445: UserWarning: X does not have valid feature names, but StandardScaler was fitted with feature names\n",
      "  warnings.warn(\n",
      "C:\\Users\\vinay\\AppData\\Roaming\\Python\\Python310\\site-packages\\sklearn\\base.py:445: UserWarning: X does not have valid feature names, but StandardScaler was fitted with feature names\n",
      "  warnings.warn(\n"
     ]
    },
    {
     "name": "stdout",
     "output_type": "stream",
     "text": [
      "nervous [6.55516003e-08 8.81908111e-08 1.02283100e-03 9.91559397e-01\n",
      " 5.99837712e-05 1.75003104e-17 4.75738560e-19 6.66553123e-03\n",
      " 6.92008550e-04 8.60791663e-19 9.47391519e-08]\n",
      "nervous [1.87256252e-07 6.81154291e-08 3.30778793e-04 9.82795149e-01\n",
      " 2.19824149e-05 7.74137726e-17 7.24698261e-19 1.65407158e-02\n",
      " 3.11066312e-04 1.30090850e-18 5.20894983e-08]\n"
     ]
    },
    {
     "name": "stderr",
     "output_type": "stream",
     "text": [
      "C:\\Users\\vinay\\AppData\\Roaming\\Python\\Python310\\site-packages\\sklearn\\base.py:445: UserWarning: X does not have valid feature names, but StandardScaler was fitted with feature names\n",
      "  warnings.warn(\n",
      "C:\\Users\\vinay\\AppData\\Roaming\\Python\\Python310\\site-packages\\sklearn\\base.py:445: UserWarning: X does not have valid feature names, but StandardScaler was fitted with feature names\n",
      "  warnings.warn(\n",
      "C:\\Users\\vinay\\AppData\\Roaming\\Python\\Python310\\site-packages\\sklearn\\base.py:445: UserWarning: X does not have valid feature names, but StandardScaler was fitted with feature names\n",
      "  warnings.warn(\n",
      "C:\\Users\\vinay\\AppData\\Roaming\\Python\\Python310\\site-packages\\sklearn\\base.py:445: UserWarning: X does not have valid feature names, but StandardScaler was fitted with feature names\n",
      "  warnings.warn(\n"
     ]
    },
    {
     "name": "stdout",
     "output_type": "stream",
     "text": [
      "nervous [3.77901316e-07 7.76698350e-08 3.69171370e-04 9.88960563e-01\n",
      " 3.68340061e-05 1.56209728e-16 8.55333182e-19 1.02707211e-02\n",
      " 3.62178293e-04 2.21547566e-18 7.65137406e-08]\n",
      "nervous [5.48040170e-07 6.92580972e-08 3.36682621e-04 9.75936174e-01\n",
      " 2.21869503e-05 3.39309971e-16 7.97758114e-19 2.33117087e-02\n",
      " 3.92438401e-04 3.01194000e-18 1.92311774e-07]\n"
     ]
    },
    {
     "name": "stderr",
     "output_type": "stream",
     "text": [
      "C:\\Users\\vinay\\AppData\\Roaming\\Python\\Python310\\site-packages\\sklearn\\base.py:445: UserWarning: X does not have valid feature names, but StandardScaler was fitted with feature names\n",
      "  warnings.warn(\n",
      "C:\\Users\\vinay\\AppData\\Roaming\\Python\\Python310\\site-packages\\sklearn\\base.py:445: UserWarning: X does not have valid feature names, but StandardScaler was fitted with feature names\n",
      "  warnings.warn(\n",
      "C:\\Users\\vinay\\AppData\\Roaming\\Python\\Python310\\site-packages\\sklearn\\base.py:445: UserWarning: X does not have valid feature names, but StandardScaler was fitted with feature names\n",
      "  warnings.warn(\n",
      "C:\\Users\\vinay\\AppData\\Roaming\\Python\\Python310\\site-packages\\sklearn\\base.py:445: UserWarning: X does not have valid feature names, but StandardScaler was fitted with feature names\n",
      "  warnings.warn(\n"
     ]
    },
    {
     "name": "stdout",
     "output_type": "stream",
     "text": [
      "nervous [5.59353631e-07 5.46064534e-08 2.11903705e-04 9.75435407e-01\n",
      " 3.00711399e-05 1.88706434e-16 4.74340427e-19 2.39479536e-02\n",
      " 3.73936410e-04 1.90446624e-18 1.13695331e-07]\n",
      "nervous [1.06800782e-06 1.30249136e-07 2.25680371e-04 9.27650143e-01\n",
      " 1.31297028e-04 4.12311420e-16 1.01974595e-18 7.14306779e-02\n",
      " 5.60822559e-04 6.66080948e-18 1.80476844e-07]\n"
     ]
    }
   ],
   "source": [
    "# workflow for Detections\n",
    "# 1. Detect landmarks\n",
    "# 2. Predict pose(aka class) based on landmark coords\n",
    "# 3. Render Landmarks and body language pose using OpenCV\n",
    "cap = cv2.VideoCapture(0)\n",
    "# Initiate holistic model\n",
    "with mp_holistic.Holistic(min_detection_confidence=0.5, min_tracking_confidence=0.5) as holistic:\n",
    "    \n",
    "    while cap.isOpened():\n",
    "        ret, frame = cap.read()\n",
    "# When we read our image through open-cv but default the feed we get back is in BGR format\n",
    "# But in order to work with media pipe we need our frames to be in RGB format\n",
    "# So we recolor our feed        \n",
    "        # Recolor Feed\n",
    "        image = cv2.cvtColor(frame, cv2.COLOR_BGR2RGB)\n",
    "    # For peformance improvement we set writable flags to false\n",
    "    # to prevent copying the image data but you're also then able to use the same image for rendering\n",
    "        image.flags.writeable = False        \n",
    "    # finally we use holistic model form the with line, using the process method to actually make detections\n",
    "    # in which we pass our image variable    \n",
    "        # Make Detections\n",
    "        results = holistic.process(image)\n",
    "        # print(results.face_landmarks)\n",
    "        \n",
    "        # face_landmarks, pose_landmarks, left_hand_landmarks, right_hand_landmarks\n",
    "        \n",
    "\n",
    "        image.flags.writeable = True   \n",
    "        image = cv2.cvtColor(image, cv2.COLOR_RGB2BGR)\n",
    "        \n",
    "        # 1. Draw face landmarks\n",
    "        mp_drawing.draw_landmarks(image, results.face_landmarks, mp_holistic.FACEMESH_CONTOURS, \n",
    "                                 mp_drawing.DrawingSpec(color=(80,110,10), thickness=1, circle_radius=1),\n",
    "                                 mp_drawing.DrawingSpec(color=(80,256,121), thickness=1, circle_radius=1)\n",
    "                                 )\n",
    "        \n",
    "        # 2. Right hand\n",
    "        mp_drawing.draw_landmarks(image, results.right_hand_landmarks, mp_holistic.HAND_CONNECTIONS, \n",
    "                                 mp_drawing.DrawingSpec(color=(80,22,10), thickness=2, circle_radius=4),\n",
    "                                 mp_drawing.DrawingSpec(color=(80,44,121), thickness=2, circle_radius=2)\n",
    "                                 )\n",
    "\n",
    "        # 3. Left Hand\n",
    "        mp_drawing.draw_landmarks(image, results.left_hand_landmarks, mp_holistic.HAND_CONNECTIONS, \n",
    "                                 mp_drawing.DrawingSpec(color=(121,22,76), thickness=2, circle_radius=4),\n",
    "                                 mp_drawing.DrawingSpec(color=(121,44,250), thickness=2, circle_radius=2)\n",
    "                                 )\n",
    "\n",
    "        # 4. Pose Detections\n",
    "        mp_drawing.draw_landmarks(image, results.pose_landmarks, mp_holistic.POSE_CONNECTIONS, \n",
    "                                 mp_drawing.DrawingSpec(color=(245,117,66), thickness=2, circle_radius=4),\n",
    "                                 mp_drawing.DrawingSpec(color=(245,66,230), thickness=2, circle_radius=2)\n",
    "                                 )\n",
    "        # Export coordinates\n",
    "        try:\n",
    "            # Extract Pose landmarks\n",
    "            pose = results.pose_landmarks.landmark\n",
    "            pose_row = list(np.array([[landmark.x, landmark.y, landmark.z, landmark.visibility] for landmark in pose]).flatten())\n",
    "            # flatten() collapses an array into single method\n",
    "            # Extract Face landmarks\n",
    "            face = results.face_landmarks.landmark\n",
    "            face_row = list(np.array([[landmark.x, landmark.y, landmark.z, landmark.visibility] for landmark in face]).flatten())\n",
    "            \n",
    "            # Concate rows\n",
    "            row = pose_row+face_row\n",
    "            \n",
    "#             # Append class name \n",
    "#             row.insert(0, class_name)\n",
    "#             # beacause len(row) should be equal to 1+501*4\n",
    "            \n",
    "#             # Export to CSV\n",
    "#             with open('coords.csv', mode='a', newline='') as f:\n",
    "#                 csv_writer = csv.writer(f, delimiter=',', quotechar='\"',quoting=csv.QUOTE_MINIMAL)\n",
    "#                 csv_writer.writerow(row) \n",
    "            \n",
    "        # MAKE DETECTION\n",
    "            X = pd.DataFrame([row])\n",
    "            body_language_class = model.predict(X)[0]\n",
    "            body_language_prob = model.predict_proba(X)[0]\n",
    "            print(body_language_class, body_language_prob)\n",
    "            \n",
    "        # Getting left ear coordinates\n",
    "            coords = tuple(np.multiply(np.array((results.pose_landmarks.landmark[mp_holistic.PoseLandmark.LEFT_EAR].x, results.pose_landmarks.landmark[mp_holistic.PoseLandmark.LEFT_EAR].y)), [640,480]).astype(int))\n",
    "            cv2.rectangle(image, \n",
    "                          (coords[0], coords[1]+5), \n",
    "                          (coords[0]+len(body_language_class)*20, coords[1]-30), \n",
    "                          (245, 117, 16), -1)\n",
    "            cv2.putText(image, body_language_class, coords, \n",
    "                        cv2.FONT_HERSHEY_SIMPLEX, 1, (255, 255, 255), 2, cv2.LINE_AA)\n",
    "            \n",
    "            # Get status box\n",
    "            cv2.rectangle(image, (0,0), (250, 60), (245, 117, 16), -1)\n",
    "            \n",
    "            # Display Class\n",
    "            cv2.putText(image, 'CLASS'\n",
    "                        , (95,12), cv2.FONT_HERSHEY_SIMPLEX, 0.5, (0, 0, 0), 1, cv2.LINE_AA)\n",
    "            cv2.putText(image, body_language_class.split(' ')[0]\n",
    "                        , (90,40), cv2.FONT_HERSHEY_SIMPLEX, 1, (255, 255, 255), 2, cv2.LINE_AA)\n",
    "            \n",
    "            # Display Probability\n",
    "            cv2.putText(image, 'PROB'\n",
    "                        , (15,12), cv2.FONT_HERSHEY_SIMPLEX, 0.5, (0, 0, 0), 1, cv2.LINE_AA)\n",
    "            cv2.putText(image, str(round(body_language_prob[np.argmax(body_language_prob)],2))\n",
    "                        , (10,40), cv2.FONT_HERSHEY_SIMPLEX, 1, (255, 255, 255), 2, cv2.LINE_AA)\n",
    "        except:\n",
    "            pass\n",
    "                        \n",
    "        cv2.imshow('Raw Webcam Feed', image)\n",
    "\n",
    "        if cv2.waitKey(10) & 0xFF == ord('q'):\n",
    "            break\n",
    "\n",
    "cap.release()\n",
    "cv2.destroyAllWindows()"
   ]
  }
 ],
 "metadata": {
  "kernelspec": {
   "display_name": "Python 3 (ipykernel)",
   "language": "python",
   "name": "python3"
  },
  "language_info": {
   "codemirror_mode": {
    "name": "ipython",
    "version": 3
   },
   "file_extension": ".py",
   "mimetype": "text/x-python",
   "name": "python",
   "nbconvert_exporter": "python",
   "pygments_lexer": "ipython3",
   "version": "3.10.0"
  }
 },
 "nbformat": 4,
 "nbformat_minor": 5
}
